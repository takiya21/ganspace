{
 "cells": [
  {
   "cell_type": "markdown",
   "metadata": {
    "id": "4IUs6BmFPYDN"
   },
   "source": [
    "# Module Import"
   ]
  },
  {
   "cell_type": "code",
   "execution_count": 1,
   "metadata": {
    "executionInfo": {
     "elapsed": 4189,
     "status": "ok",
     "timestamp": 1606703020979,
     "user": {
      "displayName": "yuya NAKAMURA",
      "photoUrl": "",
      "userId": "15497648429604582394"
     },
     "user_tz": -540
    },
    "id": "HqPK1x80PPHk"
   },
   "outputs": [],
   "source": [
    "import os\n",
    "import numpy as np\n",
    "import matplotlib.pyplot as plt\n",
    "#import tqdm.notebook.tqdm as tqdm\n",
    "\n",
    "import torch\n",
    "import torch.nn as nn\n",
    "import torch.nn.functional as F\n",
    "import torchvision\n",
    "import torchvision.transforms as transforms\n",
    "from torch.utils.data import DataLoader, Dataset\n",
    "\n",
    "from PIL import Image\n",
    "from pathlib import Path\n",
    "from tqdm.notebook import trange, tqdm\n",
    "\n",
    "import csv\n",
    "import pandas as pd"
   ]
  },
  {
   "cell_type": "markdown",
   "metadata": {},
   "source": [
    "# データセット用CSV作成"
   ]
  },
  {
   "cell_type": "code",
   "execution_count": null,
   "metadata": {},
   "outputs": [],
   "source": [
    "# img_dir = 'datasets/train'\n",
    "# param = np.load('datasets/train/param.npy')\n",
    "# i = 0\n",
    "\n",
    "# filename = 'datasets/train.csv'\n",
    "# # ヘッダー作成\n",
    "# with open(filename, 'w') as f:\n",
    "#     writer = csv.writer(f)\n",
    "#     writer.writerow(['img','param'])\n",
    "\n",
    "# # ファイル名書き込み\n",
    "# for subdir, dirs, files in os.walk(img_dir):\n",
    "#     for file in sorted(files):\n",
    "#         file_path = os.path.join(subdir, file)\n",
    "#         if file_path.endswith(\".png\"):\n",
    "#             with open(filename, 'a', newline=\"\") as f:\n",
    "#                 writer = csv.writer(f)\n",
    "#                 writer.writerow([file_path, param[i]])\n",
    "#                 i += 1"
   ]
  },
  {
   "cell_type": "code",
   "execution_count": null,
   "metadata": {},
   "outputs": [],
   "source": [
    "# img_dir = 'datasets/test'\n",
    "# param = np.load('datasets/test/param.npy')\n",
    "# i = 0\n",
    "\n",
    "# filename = 'datasets/test.csv'\n",
    "# # ヘッダー作成\n",
    "# with open(filename, 'w') as f:\n",
    "#     writer = csv.writer(f)\n",
    "#     writer.writerow(['img','param'])\n",
    "\n",
    "# # ファイル名書き込み\n",
    "# for subdir, dirs, files in os.walk(img_dir):\n",
    "#     for file in sorted(files):\n",
    "#         file_path = os.path.join(subdir, file)\n",
    "#         if file_path.endswith(\".png\"):\n",
    "#             with open(filename, 'a', newline=\"\") as f:\n",
    "#                 writer = csv.writer(f)\n",
    "#                 writer.writerow([file_path, param[i]])\n",
    "#                 i += 1"
   ]
  },
  {
   "cell_type": "markdown",
   "metadata": {},
   "source": [
    "# My dataset"
   ]
  },
  {
   "cell_type": "code",
   "execution_count": 2,
   "metadata": {},
   "outputs": [],
   "source": [
    "class ImageDataset(Dataset):\n",
    "    def __init__(self, csv_file, np_file, transform=None):\n",
    "        df = pd.read_csv(csv_file)\n",
    "        img_paths = df['img']\n",
    "        labels = np.load(np_file)\n",
    "        \n",
    "        self.img_paths = img_paths\n",
    "        self.labels = labels\n",
    "        self.transform = transform\n",
    "\n",
    "    def __getitem__(self, index):\n",
    "        img_path = self.img_paths[index]\n",
    "        img = Image.open(img_path)\n",
    "\n",
    "        if self.transform is not None:\n",
    "            img = self.transform(img)\n",
    "            \n",
    "        label = torch.from_numpy(self.labels[index]).float()\n",
    "\n",
    "        return img, label\n",
    "    \n",
    "    def __len__(self):\n",
    "        return len(self.img_paths)"
   ]
  },
  {
   "cell_type": "code",
   "execution_count": 3,
   "metadata": {},
   "outputs": [],
   "source": [
    "# Transform を作成する。\n",
    "transform = torchvision.transforms.Compose([\n",
    "                            transforms.ToTensor(),\n",
    "                            transforms.Normalize((0.5, 0.5, 0.5), (0.5, 0.5, 0.5)),\n",
    "])\n",
    "\n",
    "# Dataset を作成する。\n",
    "dataset = ImageDataset(csv_file='datasets/train.csv', np_file='datasets/train/param.npy', transform=transform)\n",
    "train_size = int(len(dataset) * 0.8)\n",
    "validation_size = len(dataset) - train_size\n",
    "train_dataset, val_dataset = torch.utils.data.random_split(dataset, [train_size, validation_size])\n",
    "test_dataset = ImageDataset(csv_file='datasets/test.csv', np_file='datasets/test/param.npy', transform=transform)"
   ]
  },
  {
   "cell_type": "code",
   "execution_count": 4,
   "metadata": {
    "tags": []
   },
   "outputs": [
    {
     "name": "stdout",
     "output_type": "stream",
     "text": [
      "<__main__.ImageDataset object at 0x7f47ed3fe550>\n",
      "<torch.utils.data.dataset.Subset object at 0x7f47edafa9d0> 40000\n",
      "<torch.utils.data.dataset.Subset object at 0x7f47ed8c8bd0> 10000\n",
      "torch.Size([3, 256, 256]) tensor([-0.5781, -4.4716,  4.3201, -1.1764,  1.9480,  0.1977,  0.1513, -0.3541,\n",
      "         0.2071,  1.5665,  0.4418,  0.1889,  0.8275,  0.2787, -0.5138, -0.3628,\n",
      "         0.5325, -0.3812, -0.1636, -0.0221, -0.2208, -0.3374, -0.2170,  0.0353,\n",
      "        -0.7814,  0.1090,  1.0405,  0.5513, -0.4480, -0.6760,  0.3750, -0.6260,\n",
      "        -0.0900,  0.0905,  0.8560,  0.6698, -0.9916, -0.4202, -0.5007,  0.0403,\n",
      "         0.0739,  0.7468, -0.1637,  0.4360,  0.3696, -0.6656, -0.4994,  0.2244,\n",
      "        -0.2650, -0.8427,  0.7259, -0.5026, -0.4785,  0.3518, -0.3648, -0.3544,\n",
      "        -0.1964,  0.2229, -0.5456, -0.2831, -0.3923,  0.4116, -0.2047,  0.1248,\n",
      "         0.0537,  0.2337,  0.4770,  0.4006, -0.2927, -0.0558,  0.4819, -0.4151,\n",
      "         0.0436,  0.2702,  0.1255,  0.1450, -0.0529,  0.0692, -0.4968, -9.1243])\n"
     ]
    }
   ],
   "source": [
    "print(dataset)\n",
    "print(train_dataset, train_size)\n",
    "print(val_dataset,validation_size)\n",
    "print(test_dataset[0][0].size(), test_dataset[0][1])"
   ]
  },
  {
   "cell_type": "code",
   "execution_count": null,
   "metadata": {
    "tags": []
   },
   "outputs": [],
   "source": [
    "loader = DataLoader(train_dataset, batch_size=64, shuffle=False, num_workers=4, drop_last=False)\n",
    "sample, _ = next(iter(loader))\n",
    "grid = torchvision.utils.make_grid(sample, nrow=8, padding=1, normalize=True)\n",
    "plt.rcParams[\"figure.figsize\"] = (64, 48)\n",
    "plt.imshow(grid.numpy().transpose(1,2,0))"
   ]
  },
  {
   "cell_type": "code",
   "execution_count": null,
   "metadata": {
    "tags": []
   },
   "outputs": [],
   "source": [
    "loader = DataLoader(test_dataset, batch_size=64, shuffle=False, num_workers=4, drop_last=False)\n",
    "sample, _ = next(iter(loader))\n",
    "grid = torchvision.utils.make_grid(sample, nrow=8, padding=1, normalize=True)\n",
    "plt.rcParams[\"figure.figsize\"] = (64, 48)\n",
    "plt.imshow(grid.numpy().transpose(1,2,0))"
   ]
  },
  {
   "cell_type": "markdown",
   "metadata": {
    "id": "hsElJQHH6xFW"
   },
   "source": [
    "# Model Building"
   ]
  },
  {
   "cell_type": "code",
   "execution_count": 5,
   "metadata": {
    "executionInfo": {
     "elapsed": 572,
     "status": "ok",
     "timestamp": 1606703100363,
     "user": {
      "displayName": "yuya NAKAMURA",
      "photoUrl": "",
      "userId": "15497648429604582394"
     },
     "user_tz": -540
    },
    "id": "qDFPbowh0w_3"
   },
   "outputs": [],
   "source": [
    "class EncoderBlock(nn.Module):\n",
    "  def __init__(self, in_feature, out_feature):\n",
    "    super(EncoderBlock, self).__init__()\n",
    "    self.in_feature = in_feature\n",
    "    self.out_feature = out_feature\n",
    "\n",
    "    layers = []\n",
    "    layers.append(nn.Conv2d(in_channels=in_feature, out_channels=out_feature, kernel_size=3, stride=1, padding=1))\n",
    "    layers.append(nn.BatchNorm2d(out_feature))\n",
    "    layers.append(nn.LeakyReLU(negative_slope=0.01, inplace=True))\n",
    "    self.block = nn.Sequential(*layers)\n",
    "\n",
    "  def forward(self, x):\n",
    "    return self.block(x)"
   ]
  },
  {
   "cell_type": "code",
   "execution_count": 6,
   "metadata": {
    "executionInfo": {
     "elapsed": 1068,
     "status": "ok",
     "timestamp": 1606703103740,
     "user": {
      "displayName": "yuya NAKAMURA",
      "photoUrl": "",
      "userId": "15497648429604582394"
     },
     "user_tz": -540
    },
    "id": "71pT8Egk29il"
   },
   "outputs": [],
   "source": [
    "class Encoder(nn.Module):\n",
    "  def __init__(self, dim):\n",
    "    super(Encoder, self).__init__()\n",
    "\n",
    "    self.conv1 = EncoderBlock(3  , dim)\n",
    "    self.conv2 = EncoderBlock(dim, dim)\n",
    "    self.conv3 = EncoderBlock(dim, dim)\n",
    "    self.conv4 = EncoderBlock(dim, dim*2)\n",
    "    self.conv5 = EncoderBlock(dim*2, dim*2)\n",
    "    self.conv6 = EncoderBlock(dim*2, dim*2)\n",
    "    self.conv7 = EncoderBlock(dim*2, dim*4)\n",
    "    self.conv8 = EncoderBlock(dim*4, dim*4)\n",
    "    self.conv9 = EncoderBlock(dim*4, dim*4)\n",
    "    self.pool = nn.MaxPool2d(kernel_size=2)\n",
    "\n",
    "  def forward(self, x):\n",
    "    out = self.conv1(x)\n",
    "    out = self.conv2(out)\n",
    "    out = self.conv3(out)\n",
    "    out = self.pool(out) \n",
    "\n",
    "    out = self.conv4(out)\n",
    "    out = self.conv5(out)\n",
    "    out = self.conv6(out)\n",
    "    out = self.pool(out)\n",
    "    \n",
    "    out = self.conv7(out)\n",
    "    out = self.conv8(out)\n",
    "    out = self.conv9(out)\n",
    "    out = self.pool(out)\n",
    "\n",
    "    return out"
   ]
  },
  {
   "cell_type": "code",
   "execution_count": 7,
   "metadata": {
    "executionInfo": {
     "elapsed": 593,
     "status": "ok",
     "timestamp": 1606703115890,
     "user": {
      "displayName": "yuya NAKAMURA",
      "photoUrl": "",
      "userId": "15497648429604582394"
     },
     "user_tz": -540
    },
    "id": "x6zvM7gJ3uVy"
   },
   "outputs": [],
   "source": [
    "class Classifier(nn.Module):\n",
    "  def __init__(self, class_num, enc_dim, in_w, in_h):\n",
    "    super(Classifier, self).__init__()\n",
    "\n",
    "    self.enc_dim = enc_dim\n",
    "    self.in_w = in_w\n",
    "    self.in_h = in_h\n",
    "    self.fc_dim = enc_dim*4 * int(in_h/2/2/2) * int(in_w/2/2/2)\n",
    "\n",
    "    self.Encoder = Encoder(self.enc_dim)\n",
    "    self.fc1 = nn.Linear(self.fc_dim, 512)\n",
    "    self.fc2 = nn.Linear(512, 256)\n",
    "    self.fc3 = nn.Linear(256, 80)\n",
    "  \n",
    "  def forward(self, x):\n",
    "    out = self.Encoder(x)\n",
    "    out = out.view(-1, self.fc_dim)\n",
    "\n",
    "    out = F.relu(self.fc1(out))\n",
    "    out = F.relu(self.fc2(out))\n",
    "    out = self.fc3(out)\n",
    "\n",
    "    return out\n"
   ]
  },
  {
   "cell_type": "markdown",
   "metadata": {
    "id": "ua2j46yaJKan"
   },
   "source": [
    "# Train"
   ]
  },
  {
   "cell_type": "code",
   "execution_count": 8,
   "metadata": {
    "executionInfo": {
     "elapsed": 622,
     "status": "ok",
     "timestamp": 1606703119427,
     "user": {
      "displayName": "yuya NAKAMURA",
      "photoUrl": "",
      "userId": "15497648429604582394"
     },
     "user_tz": -540
    },
    "id": "AcXRVektLcRE"
   },
   "outputs": [],
   "source": [
    "num_epochs = 100"
   ]
  },
  {
   "cell_type": "code",
   "execution_count": 9,
   "metadata": {
    "colab": {
     "base_uri": "https://localhost:8080/"
    },
    "executionInfo": {
     "elapsed": 11477,
     "status": "ok",
     "timestamp": 1606703137692,
     "user": {
      "displayName": "yuya NAKAMURA",
      "photoUrl": "",
      "userId": "15497648429604582394"
     },
     "user_tz": -540
    },
    "id": "Yzkkbu3M8x6Y",
    "outputId": "bd1fab80-1955-4ca9-8550-b0d992552335",
    "tags": []
   },
   "outputs": [
    {
     "name": "stdout",
     "output_type": "stream",
     "text": [
      "cuda\n",
      "Let's use 2 GPUs!\n"
     ]
    }
   ],
   "source": [
    "device = 'cuda' if torch.cuda.is_available() else 'cpu'\n",
    "print(device)\n",
    "net = Classifier(class_num=80, enc_dim=128, in_w=256, in_h=256)\n",
    "if torch.cuda.device_count() > 1:\n",
    "    print(\"Let's use\", torch.cuda.device_count(), \"GPUs!\")\n",
    "    net = nn.DataParallel(net)\n",
    "net.to(device)\n",
    "criterion = nn.MSELoss().to(device)\n",
    "optimizer = torch.optim.Adam(net.parameters(), lr=0.001)"
   ]
  },
  {
   "cell_type": "code",
   "execution_count": 10,
   "metadata": {
    "executionInfo": {
     "elapsed": 584,
     "status": "ok",
     "timestamp": 1606703144495,
     "user": {
      "displayName": "yuya NAKAMURA",
      "photoUrl": "",
      "userId": "15497648429604582394"
     },
     "user_tz": -540
    },
    "id": "lM3wYlpaBc1x"
   },
   "outputs": [],
   "source": [
    "train_loader = torch.utils.data.DataLoader(train_dataset, batch_size=64, shuffle=True, num_workers=4, drop_last=True)\n",
    "val_loader = torch.utils.data.DataLoader(val_dataset, batch_size=64, shuffle=False, num_workers=4, drop_last=False)\n",
    "test_loader = torch.utils.data.DataLoader(test_dataset, batch_size=64, shuffle=False, num_workers=4, drop_last=False)"
   ]
  },
  {
   "cell_type": "code",
   "execution_count": 11,
   "metadata": {
    "executionInfo": {
     "elapsed": 916,
     "status": "ok",
     "timestamp": 1606703155567,
     "user": {
      "displayName": "yuya NAKAMURA",
      "photoUrl": "",
      "userId": "15497648429604582394"
     },
     "user_tz": -540
    },
    "id": "WqgdA7-2JONk"
   },
   "outputs": [],
   "source": [
    "class AverageMeter(object):\n",
    "    def __init__(self):\n",
    "        self.reset()\n",
    "\n",
    "    @property\n",
    "    def avg(self):\n",
    "        return self.sum / self.count\n",
    "\n",
    "    def reset(self):\n",
    "        self.sum = 0\n",
    "        self.count = 0\n",
    "\n",
    "    def update(self, val, n=1):\n",
    "        self.sum += val * n\n",
    "        self.count += n\n",
    "\n",
    "class History(object):\n",
    "\n",
    "    def __init__(self, keys, output_dir):\n",
    "        #self.output_dir = output_dir\n",
    "        self.keys = keys\n",
    "\n",
    "        self.logs = {key: [] for key in keys}\n",
    "\n",
    "    def __call__(self, data):\n",
    "        for key, value in data.items():\n",
    "            self.logs[key].append(value)\n",
    "\n",
    "    def save(self, filename='history.pkl'):\n",
    "        savepath = os.path.join(self.output_dir, filename)\n",
    "        with open(savepath, 'wb') as f:\n",
    "            pickle.dump(self.logs, f)\n",
    "\n",
    "    def plot_graph(self, filename='loss.png'):\n",
    "        fig, ax = plt.subplots()\n",
    "        ax.set_xlabel('Iteration')\n",
    "        ax.set_ylabel('Loss')\n",
    "        ax.set_title('Training curve.')\n",
    "        ax.set_ylim(0, 2)\n",
    "\n",
    "        for i, (key, value) in enumerate(self.logs.items()):\n",
    "            x = np.arange(len(value))\n",
    "            y = np.array(value)\n",
    "            ax.plot(x, y, label=key, color=cm.cividis(i / len(self.logs.keys())))\n",
    "        \n",
    "        ax.legend(loc='best')\n",
    "\n",
    "        plt.show()\n",
    "        #save_path = os.path.join(self.output_dir, filename)\n",
    "        #logger.info('Save {}'.format(save_path))\n",
    "        #plt.savefig(save_path, transparent=True)\n",
    "        plt.clf()\n",
    "        plt.cla()\n",
    "        plt.close('all')"
   ]
  },
  {
   "cell_type": "code",
   "execution_count": null,
   "metadata": {
    "colab": {
     "base_uri": "https://localhost:8080/",
     "height": 431,
     "referenced_widgets": [
      "a01d8cebf7824a02a905596dc374a029",
      "e48fca06216e43879568df6aae7f51da",
      "2bdd6737284940b3adefb3fd744b996d",
      "f45f5dcb412845768cc50a76f1057fe9",
      "b3120161490d422a83b7b4877acce85b",
      "6643ec67a43145fe80b2a292a8a2fa13",
      "37e63950176747f8ab42ad98dce60deb",
      "238a9eb8241b4566b101697783e4ddb4",
      "310df887ccf14a659b8df6077f1d161a",
      "3225d5b0ba874505b4bf16a50749f6e0",
      "d1a4422931394a8f9acb28dcac46a414",
      "4252c85a8aa44383b954c68a455639ef",
      "f4e96d274e4d4098a6d3cc271d6f521a",
      "564e5988a96d4f6e923cc88217f548f2",
      "39e59e3fc3754182b37767078f24b6c8",
      "834dc96b42b24423b91677d4f6f5f4ed",
      "330eb16d69d04d5faec67c095a84546f",
      "0d31376e51c146f9af054ecd81305868",
      "43c647542e5a4283a4bd54d378f52467",
      "5ee5a94c435c46b8a66f665d3a9e6400",
      "dd576e0992754ff0ab0e4420199e3c29",
      "145a22ed5118483ba7fbb349ade5b159",
      "7b6039313fed47d4ada7ae59572486f1",
      "10efcca902d742e191c18f249e74e8b5",
      "4ad1ccbec3ff4fa48822975a9956973d",
      "dd044515d2e142e88d2952ffd008b1a5",
      "d03e92be3a534504b059a1c53c72dc76",
      "5a0a0d02c9ac47baa3c7a6a1ce5b23f6",
      "2d65e751adcf4efaaca5483d007239a1",
      "a79eb03776634bf28f27b36cbd08e8e9",
      "a17e581b7ec04b3fb99d4e2096158029",
      "372826b27c59492ab14386a4b94a883d",
      "8fd775c8aa74404c9728bb8a4929db5b"
     ]
    },
    "executionInfo": {
     "elapsed": 57632,
     "status": "error",
     "timestamp": 1606703216632,
     "user": {
      "displayName": "yuya NAKAMURA",
      "photoUrl": "",
      "userId": "15497648429604582394"
     },
     "user_tz": -540
    },
    "id": "C9gfzXlRC3fc",
    "outputId": "5af7c697-9056-424a-dd01-2aa53fd96e47"
   },
   "outputs": [
    {
     "data": {
      "application/vnd.jupyter.widget-view+json": {
       "model_id": "a3efa69853f744f1b8310a989eae7256",
       "version_major": 2,
       "version_minor": 0
      },
      "text/plain": [
       "Epoch   1:   0%|          | 0/625 [00:00<?, ?batch/s]"
      ]
     },
     "metadata": {},
     "output_type": "display_data"
    },
    {
     "name": "stdout",
     "output_type": "stream",
     "text": [
      "[Train CNN] Epoch 1/100 - train_loss: 0.833\n"
     ]
    },
    {
     "data": {
      "application/vnd.jupyter.widget-view+json": {
       "model_id": "26bbd53e2cf04c5db67a01a9303ea47c",
       "version_major": 2,
       "version_minor": 0
      },
      "text/plain": [
       "Epoch   1:   0%|          | 0/157 [00:00<?, ?batch/s]"
      ]
     },
     "metadata": {},
     "output_type": "display_data"
    },
    {
     "name": "stdout",
     "output_type": "stream",
     "text": [
      "[Validation CNN] Epoch 1/100 - val_loss: 0.745\n"
     ]
    },
    {
     "data": {
      "application/vnd.jupyter.widget-view+json": {
       "model_id": "dc4b56b6207e4e9396563a5dc6cca37b",
       "version_major": 2,
       "version_minor": 0
      },
      "text/plain": [
       "Epoch   2:   0%|          | 0/625 [00:00<?, ?batch/s]"
      ]
     },
     "metadata": {},
     "output_type": "display_data"
    },
    {
     "name": "stdout",
     "output_type": "stream",
     "text": [
      "[Train CNN] Epoch 2/100 - train_loss: 0.850\n"
     ]
    },
    {
     "data": {
      "application/vnd.jupyter.widget-view+json": {
       "model_id": "e49999027528464d9ea74e223ebbc8b4",
       "version_major": 2,
       "version_minor": 0
      },
      "text/plain": [
       "Epoch   2:   0%|          | 0/157 [00:00<?, ?batch/s]"
      ]
     },
     "metadata": {},
     "output_type": "display_data"
    },
    {
     "name": "stdout",
     "output_type": "stream",
     "text": [
      "[Validation CNN] Epoch 2/100 - val_loss: 0.745\n"
     ]
    },
    {
     "data": {
      "application/vnd.jupyter.widget-view+json": {
       "model_id": "3998d647bd434963b041e52af8dde2e5",
       "version_major": 2,
       "version_minor": 0
      },
      "text/plain": [
       "Epoch   3:   0%|          | 0/625 [00:00<?, ?batch/s]"
      ]
     },
     "metadata": {},
     "output_type": "display_data"
    },
    {
     "name": "stdout",
     "output_type": "stream",
     "text": [
      "[Train CNN] Epoch 3/100 - train_loss: 1.067\n"
     ]
    },
    {
     "data": {
      "application/vnd.jupyter.widget-view+json": {
       "model_id": "9b4f2bbb131a455e8b4b527a2b00ecf7",
       "version_major": 2,
       "version_minor": 0
      },
      "text/plain": [
       "Epoch   3:   0%|          | 0/157 [00:00<?, ?batch/s]"
      ]
     },
     "metadata": {},
     "output_type": "display_data"
    },
    {
     "name": "stdout",
     "output_type": "stream",
     "text": [
      "[Validation CNN] Epoch 3/100 - val_loss: 0.745\n"
     ]
    },
    {
     "data": {
      "application/vnd.jupyter.widget-view+json": {
       "model_id": "8e67d2f10d464ab8bed90bbbfd488395",
       "version_major": 2,
       "version_minor": 0
      },
      "text/plain": [
       "Epoch   4:   0%|          | 0/625 [00:00<?, ?batch/s]"
      ]
     },
     "metadata": {},
     "output_type": "display_data"
    },
    {
     "name": "stdout",
     "output_type": "stream",
     "text": [
      "[Train CNN] Epoch 4/100 - train_loss: 0.954\n"
     ]
    },
    {
     "data": {
      "application/vnd.jupyter.widget-view+json": {
       "model_id": "0bd944fcf1b842c6856bba803a4a047e",
       "version_major": 2,
       "version_minor": 0
      },
      "text/plain": [
       "Epoch   4:   0%|          | 0/157 [00:00<?, ?batch/s]"
      ]
     },
     "metadata": {},
     "output_type": "display_data"
    },
    {
     "name": "stdout",
     "output_type": "stream",
     "text": [
      "[Validation CNN] Epoch 4/100 - val_loss: 0.745\n"
     ]
    },
    {
     "data": {
      "application/vnd.jupyter.widget-view+json": {
       "model_id": "05e0c88d57624188a970c07f5764f40a",
       "version_major": 2,
       "version_minor": 0
      },
      "text/plain": [
       "Epoch   5:   0%|          | 0/625 [00:00<?, ?batch/s]"
      ]
     },
     "metadata": {},
     "output_type": "display_data"
    },
    {
     "name": "stdout",
     "output_type": "stream",
     "text": [
      "[Train CNN] Epoch 5/100 - train_loss: 1.024\n"
     ]
    },
    {
     "data": {
      "application/vnd.jupyter.widget-view+json": {
       "model_id": "7d3c4b4ce151437c95835897466587ca",
       "version_major": 2,
       "version_minor": 0
      },
      "text/plain": [
       "Epoch   5:   0%|          | 0/157 [00:00<?, ?batch/s]"
      ]
     },
     "metadata": {},
     "output_type": "display_data"
    },
    {
     "name": "stdout",
     "output_type": "stream",
     "text": [
      "[Validation CNN] Epoch 5/100 - val_loss: 0.745\n"
     ]
    },
    {
     "data": {
      "application/vnd.jupyter.widget-view+json": {
       "model_id": "6207765c82a541a199f0770833dcc256",
       "version_major": 2,
       "version_minor": 0
      },
      "text/plain": [
       "Epoch   6:   0%|          | 0/625 [00:00<?, ?batch/s]"
      ]
     },
     "metadata": {},
     "output_type": "display_data"
    },
    {
     "name": "stdout",
     "output_type": "stream",
     "text": [
      "[Train CNN] Epoch 6/100 - train_loss: 0.907\n"
     ]
    },
    {
     "data": {
      "application/vnd.jupyter.widget-view+json": {
       "model_id": "9c9ed68fd8fd499894addae7f69e696b",
       "version_major": 2,
       "version_minor": 0
      },
      "text/plain": [
       "Epoch   6:   0%|          | 0/157 [00:00<?, ?batch/s]"
      ]
     },
     "metadata": {},
     "output_type": "display_data"
    },
    {
     "name": "stdout",
     "output_type": "stream",
     "text": [
      "[Validation CNN] Epoch 6/100 - val_loss: 0.745\n"
     ]
    },
    {
     "data": {
      "application/vnd.jupyter.widget-view+json": {
       "model_id": "eff6340e9a09449cbfcf0a6777fc3a9c",
       "version_major": 2,
       "version_minor": 0
      },
      "text/plain": [
       "Epoch   7:   0%|          | 0/625 [00:00<?, ?batch/s]"
      ]
     },
     "metadata": {},
     "output_type": "display_data"
    },
    {
     "name": "stdout",
     "output_type": "stream",
     "text": [
      "[Train CNN] Epoch 7/100 - train_loss: 1.033\n"
     ]
    },
    {
     "data": {
      "application/vnd.jupyter.widget-view+json": {
       "model_id": "e37bd28328494356ac6c2a109bcc72b5",
       "version_major": 2,
       "version_minor": 0
      },
      "text/plain": [
       "Epoch   7:   0%|          | 0/157 [00:00<?, ?batch/s]"
      ]
     },
     "metadata": {},
     "output_type": "display_data"
    },
    {
     "name": "stdout",
     "output_type": "stream",
     "text": [
      "[Validation CNN] Epoch 7/100 - val_loss: 0.745\n"
     ]
    },
    {
     "data": {
      "application/vnd.jupyter.widget-view+json": {
       "model_id": "bb984dbbb999431890ef1208cfe8a341",
       "version_major": 2,
       "version_minor": 0
      },
      "text/plain": [
       "Epoch   8:   0%|          | 0/625 [00:00<?, ?batch/s]"
      ]
     },
     "metadata": {},
     "output_type": "display_data"
    },
    {
     "name": "stdout",
     "output_type": "stream",
     "text": [
      "[Train CNN] Epoch 8/100 - train_loss: 0.882\n"
     ]
    },
    {
     "data": {
      "application/vnd.jupyter.widget-view+json": {
       "model_id": "27d6867b963f40a39ab649591a85b605",
       "version_major": 2,
       "version_minor": 0
      },
      "text/plain": [
       "Epoch   8:   0%|          | 0/157 [00:00<?, ?batch/s]"
      ]
     },
     "metadata": {},
     "output_type": "display_data"
    },
    {
     "name": "stdout",
     "output_type": "stream",
     "text": [
      "[Validation CNN] Epoch 8/100 - val_loss: 0.745\n"
     ]
    },
    {
     "data": {
      "application/vnd.jupyter.widget-view+json": {
       "model_id": "5e9878e4fba844eab9e5d77b40788b52",
       "version_major": 2,
       "version_minor": 0
      },
      "text/plain": [
       "Epoch   9:   0%|          | 0/625 [00:00<?, ?batch/s]"
      ]
     },
     "metadata": {},
     "output_type": "display_data"
    },
    {
     "name": "stdout",
     "output_type": "stream",
     "text": [
      "[Train CNN] Epoch 9/100 - train_loss: 0.920\n"
     ]
    },
    {
     "data": {
      "application/vnd.jupyter.widget-view+json": {
       "model_id": "5d885b1870644aeb9e8bffdb612e72b5",
       "version_major": 2,
       "version_minor": 0
      },
      "text/plain": [
       "Epoch   9:   0%|          | 0/157 [00:00<?, ?batch/s]"
      ]
     },
     "metadata": {},
     "output_type": "display_data"
    },
    {
     "name": "stdout",
     "output_type": "stream",
     "text": [
      "[Validation CNN] Epoch 9/100 - val_loss: 0.745\n"
     ]
    },
    {
     "data": {
      "application/vnd.jupyter.widget-view+json": {
       "model_id": "da9868ab504a4790820c1e46c0f5dd50",
       "version_major": 2,
       "version_minor": 0
      },
      "text/plain": [
       "Epoch  10:   0%|          | 0/625 [00:00<?, ?batch/s]"
      ]
     },
     "metadata": {},
     "output_type": "display_data"
    },
    {
     "name": "stdout",
     "output_type": "stream",
     "text": [
      "[Train CNN] Epoch 10/100 - train_loss: 0.924\n"
     ]
    },
    {
     "data": {
      "application/vnd.jupyter.widget-view+json": {
       "model_id": "e834976f082147568c30056d4245724e",
       "version_major": 2,
       "version_minor": 0
      },
      "text/plain": [
       "Epoch  10:   0%|          | 0/157 [00:00<?, ?batch/s]"
      ]
     },
     "metadata": {},
     "output_type": "display_data"
    },
    {
     "name": "stdout",
     "output_type": "stream",
     "text": [
      "[Validation CNN] Epoch 10/100 - val_loss: 0.745\n"
     ]
    },
    {
     "data": {
      "application/vnd.jupyter.widget-view+json": {
       "model_id": "ed61c6ce1b8941e8a46e8c4d182ec670",
       "version_major": 2,
       "version_minor": 0
      },
      "text/plain": [
       "Epoch  11:   0%|          | 0/625 [00:00<?, ?batch/s]"
      ]
     },
     "metadata": {},
     "output_type": "display_data"
    },
    {
     "name": "stdout",
     "output_type": "stream",
     "text": [
      "[Train CNN] Epoch 11/100 - train_loss: 1.041\n"
     ]
    },
    {
     "data": {
      "application/vnd.jupyter.widget-view+json": {
       "model_id": "0502afe5cc4d44c085de1f446b096bba",
       "version_major": 2,
       "version_minor": 0
      },
      "text/plain": [
       "Epoch  11:   0%|          | 0/157 [00:00<?, ?batch/s]"
      ]
     },
     "metadata": {},
     "output_type": "display_data"
    },
    {
     "name": "stdout",
     "output_type": "stream",
     "text": [
      "[Validation CNN] Epoch 11/100 - val_loss: 0.745\n"
     ]
    },
    {
     "data": {
      "application/vnd.jupyter.widget-view+json": {
       "model_id": "90c61048b8484137872301c5bd2a9f6e",
       "version_major": 2,
       "version_minor": 0
      },
      "text/plain": [
       "Epoch  12:   0%|          | 0/625 [00:00<?, ?batch/s]"
      ]
     },
     "metadata": {},
     "output_type": "display_data"
    },
    {
     "name": "stdout",
     "output_type": "stream",
     "text": [
      "[Train CNN] Epoch 12/100 - train_loss: 0.959\n"
     ]
    },
    {
     "data": {
      "application/vnd.jupyter.widget-view+json": {
       "model_id": "46fceb30205442aeaf41ba3159015b30",
       "version_major": 2,
       "version_minor": 0
      },
      "text/plain": [
       "Epoch  12:   0%|          | 0/157 [00:00<?, ?batch/s]"
      ]
     },
     "metadata": {},
     "output_type": "display_data"
    },
    {
     "name": "stdout",
     "output_type": "stream",
     "text": [
      "[Validation CNN] Epoch 12/100 - val_loss: 0.746\n"
     ]
    },
    {
     "data": {
      "application/vnd.jupyter.widget-view+json": {
       "model_id": "3480cd32657b4e488258ba14f9b64433",
       "version_major": 2,
       "version_minor": 0
      },
      "text/plain": [
       "Epoch  13:   0%|          | 0/625 [00:00<?, ?batch/s]"
      ]
     },
     "metadata": {},
     "output_type": "display_data"
    },
    {
     "name": "stdout",
     "output_type": "stream",
     "text": [
      "[Train CNN] Epoch 13/100 - train_loss: 1.017\n"
     ]
    },
    {
     "data": {
      "application/vnd.jupyter.widget-view+json": {
       "model_id": "3022ead45d5746f6b3dedf0e1ec2d951",
       "version_major": 2,
       "version_minor": 0
      },
      "text/plain": [
       "Epoch  13:   0%|          | 0/157 [00:00<?, ?batch/s]"
      ]
     },
     "metadata": {},
     "output_type": "display_data"
    },
    {
     "name": "stdout",
     "output_type": "stream",
     "text": [
      "[Validation CNN] Epoch 13/100 - val_loss: 0.746\n"
     ]
    },
    {
     "data": {
      "application/vnd.jupyter.widget-view+json": {
       "model_id": "74397369ebaf4d83a1248524b683d95a",
       "version_major": 2,
       "version_minor": 0
      },
      "text/plain": [
       "Epoch  14:   0%|          | 0/625 [00:00<?, ?batch/s]"
      ]
     },
     "metadata": {},
     "output_type": "display_data"
    },
    {
     "name": "stdout",
     "output_type": "stream",
     "text": [
      "[Train CNN] Epoch 14/100 - train_loss: 0.974\n"
     ]
    },
    {
     "data": {
      "application/vnd.jupyter.widget-view+json": {
       "model_id": "2600455d26fb43f591ce80bb5605fbf8",
       "version_major": 2,
       "version_minor": 0
      },
      "text/plain": [
       "Epoch  14:   0%|          | 0/157 [00:00<?, ?batch/s]"
      ]
     },
     "metadata": {},
     "output_type": "display_data"
    },
    {
     "name": "stdout",
     "output_type": "stream",
     "text": [
      "[Validation CNN] Epoch 14/100 - val_loss: 0.745\n"
     ]
    },
    {
     "data": {
      "application/vnd.jupyter.widget-view+json": {
       "model_id": "b7f9478d6eb54fdfa06d8a65d0a0db34",
       "version_major": 2,
       "version_minor": 0
      },
      "text/plain": [
       "Epoch  15:   0%|          | 0/625 [00:00<?, ?batch/s]"
      ]
     },
     "metadata": {},
     "output_type": "display_data"
    },
    {
     "name": "stdout",
     "output_type": "stream",
     "text": [
      "[Train CNN] Epoch 15/100 - train_loss: 0.958\n"
     ]
    },
    {
     "data": {
      "application/vnd.jupyter.widget-view+json": {
       "model_id": "f3cf5ec315b643ccb703d0db9958dfe5",
       "version_major": 2,
       "version_minor": 0
      },
      "text/plain": [
       "Epoch  15:   0%|          | 0/157 [00:00<?, ?batch/s]"
      ]
     },
     "metadata": {},
     "output_type": "display_data"
    },
    {
     "name": "stdout",
     "output_type": "stream",
     "text": [
      "[Validation CNN] Epoch 15/100 - val_loss: 0.746\n"
     ]
    },
    {
     "data": {
      "application/vnd.jupyter.widget-view+json": {
       "model_id": "5a66e2c1fd934b4f9661d71756488703",
       "version_major": 2,
       "version_minor": 0
      },
      "text/plain": [
       "Epoch  16:   0%|          | 0/625 [00:00<?, ?batch/s]"
      ]
     },
     "metadata": {},
     "output_type": "display_data"
    },
    {
     "name": "stdout",
     "output_type": "stream",
     "text": [
      "[Train CNN] Epoch 16/100 - train_loss: 0.966\n"
     ]
    },
    {
     "data": {
      "application/vnd.jupyter.widget-view+json": {
       "model_id": "882bab9038d740cabe10b5c46224cc80",
       "version_major": 2,
       "version_minor": 0
      },
      "text/plain": [
       "Epoch  16:   0%|          | 0/157 [00:00<?, ?batch/s]"
      ]
     },
     "metadata": {},
     "output_type": "display_data"
    },
    {
     "name": "stdout",
     "output_type": "stream",
     "text": [
      "[Validation CNN] Epoch 16/100 - val_loss: 0.746\n"
     ]
    },
    {
     "data": {
      "application/vnd.jupyter.widget-view+json": {
       "model_id": "09788515e86b4666bb8d2ac58f6b8904",
       "version_major": 2,
       "version_minor": 0
      },
      "text/plain": [
       "Epoch  17:   0%|          | 0/625 [00:00<?, ?batch/s]"
      ]
     },
     "metadata": {},
     "output_type": "display_data"
    },
    {
     "name": "stdout",
     "output_type": "stream",
     "text": [
      "[Train CNN] Epoch 17/100 - train_loss: 0.944\n"
     ]
    },
    {
     "data": {
      "application/vnd.jupyter.widget-view+json": {
       "model_id": "3beb3604946546fb9e34afe59f70ba0c",
       "version_major": 2,
       "version_minor": 0
      },
      "text/plain": [
       "Epoch  17:   0%|          | 0/157 [00:00<?, ?batch/s]"
      ]
     },
     "metadata": {},
     "output_type": "display_data"
    },
    {
     "name": "stdout",
     "output_type": "stream",
     "text": [
      "[Validation CNN] Epoch 17/100 - val_loss: 0.746\n"
     ]
    },
    {
     "data": {
      "application/vnd.jupyter.widget-view+json": {
       "model_id": "cab8179ea45245378c9cf0e93b42aa1b",
       "version_major": 2,
       "version_minor": 0
      },
      "text/plain": [
       "Epoch  18:   0%|          | 0/625 [00:00<?, ?batch/s]"
      ]
     },
     "metadata": {},
     "output_type": "display_data"
    },
    {
     "name": "stdout",
     "output_type": "stream",
     "text": [
      "[Train CNN] Epoch 18/100 - train_loss: 0.972\n"
     ]
    },
    {
     "data": {
      "application/vnd.jupyter.widget-view+json": {
       "model_id": "baf1e02cb90648df856bbfe31f57dfb0",
       "version_major": 2,
       "version_minor": 0
      },
      "text/plain": [
       "Epoch  18:   0%|          | 0/157 [00:00<?, ?batch/s]"
      ]
     },
     "metadata": {},
     "output_type": "display_data"
    },
    {
     "name": "stdout",
     "output_type": "stream",
     "text": [
      "[Validation CNN] Epoch 18/100 - val_loss: 0.745\n"
     ]
    },
    {
     "data": {
      "application/vnd.jupyter.widget-view+json": {
       "model_id": "bd51889b4f454ee2a29cd0991fcc4ceb",
       "version_major": 2,
       "version_minor": 0
      },
      "text/plain": [
       "Epoch  19:   0%|          | 0/625 [00:00<?, ?batch/s]"
      ]
     },
     "metadata": {},
     "output_type": "display_data"
    },
    {
     "name": "stdout",
     "output_type": "stream",
     "text": [
      "[Train CNN] Epoch 19/100 - train_loss: 0.965\n"
     ]
    },
    {
     "data": {
      "application/vnd.jupyter.widget-view+json": {
       "model_id": "c9e6af4f0f19437aa7c3e562a0306ca9",
       "version_major": 2,
       "version_minor": 0
      },
      "text/plain": [
       "Epoch  19:   0%|          | 0/157 [00:00<?, ?batch/s]"
      ]
     },
     "metadata": {},
     "output_type": "display_data"
    },
    {
     "name": "stdout",
     "output_type": "stream",
     "text": [
      "[Validation CNN] Epoch 19/100 - val_loss: 0.746\n"
     ]
    },
    {
     "data": {
      "application/vnd.jupyter.widget-view+json": {
       "model_id": "a7bc9fea1efb4421bd601f47484beac9",
       "version_major": 2,
       "version_minor": 0
      },
      "text/plain": [
       "Epoch  20:   0%|          | 0/625 [00:00<?, ?batch/s]"
      ]
     },
     "metadata": {},
     "output_type": "display_data"
    },
    {
     "name": "stdout",
     "output_type": "stream",
     "text": [
      "[Train CNN] Epoch 20/100 - train_loss: 0.891\n"
     ]
    },
    {
     "data": {
      "application/vnd.jupyter.widget-view+json": {
       "model_id": "8c8d0fd282aa41859e585e7a82734b1b",
       "version_major": 2,
       "version_minor": 0
      },
      "text/plain": [
       "Epoch  20:   0%|          | 0/157 [00:00<?, ?batch/s]"
      ]
     },
     "metadata": {},
     "output_type": "display_data"
    },
    {
     "name": "stdout",
     "output_type": "stream",
     "text": [
      "[Validation CNN] Epoch 20/100 - val_loss: 0.746\n"
     ]
    },
    {
     "data": {
      "application/vnd.jupyter.widget-view+json": {
       "model_id": "3dd3ddfbfc6c4beea69392f2fdb3de55",
       "version_major": 2,
       "version_minor": 0
      },
      "text/plain": [
       "Epoch  21:   0%|          | 0/625 [00:00<?, ?batch/s]"
      ]
     },
     "metadata": {},
     "output_type": "display_data"
    },
    {
     "name": "stdout",
     "output_type": "stream",
     "text": [
      "[Train CNN] Epoch 21/100 - train_loss: 0.845\n"
     ]
    },
    {
     "data": {
      "application/vnd.jupyter.widget-view+json": {
       "model_id": "71824b3cc2e843f2898cf4da4d88996a",
       "version_major": 2,
       "version_minor": 0
      },
      "text/plain": [
       "Epoch  21:   0%|          | 0/157 [00:00<?, ?batch/s]"
      ]
     },
     "metadata": {},
     "output_type": "display_data"
    },
    {
     "name": "stdout",
     "output_type": "stream",
     "text": [
      "[Validation CNN] Epoch 21/100 - val_loss: 0.745\n"
     ]
    },
    {
     "data": {
      "application/vnd.jupyter.widget-view+json": {
       "model_id": "d8214c29017f4c0eb3a1d11c73df99c1",
       "version_major": 2,
       "version_minor": 0
      },
      "text/plain": [
       "Epoch  22:   0%|          | 0/625 [00:00<?, ?batch/s]"
      ]
     },
     "metadata": {},
     "output_type": "display_data"
    },
    {
     "name": "stdout",
     "output_type": "stream",
     "text": [
      "[Train CNN] Epoch 22/100 - train_loss: 0.956\n"
     ]
    },
    {
     "data": {
      "application/vnd.jupyter.widget-view+json": {
       "model_id": "714dbd466c834a16a1d25447d6dec3fc",
       "version_major": 2,
       "version_minor": 0
      },
      "text/plain": [
       "Epoch  22:   0%|          | 0/157 [00:00<?, ?batch/s]"
      ]
     },
     "metadata": {},
     "output_type": "display_data"
    },
    {
     "name": "stdout",
     "output_type": "stream",
     "text": [
      "[Validation CNN] Epoch 22/100 - val_loss: 0.745\n"
     ]
    },
    {
     "data": {
      "application/vnd.jupyter.widget-view+json": {
       "model_id": "24f9b505bc3c41a1988c80ff172f8ef5",
       "version_major": 2,
       "version_minor": 0
      },
      "text/plain": [
       "Epoch  23:   0%|          | 0/625 [00:00<?, ?batch/s]"
      ]
     },
     "metadata": {},
     "output_type": "display_data"
    },
    {
     "name": "stdout",
     "output_type": "stream",
     "text": [
      "[Train CNN] Epoch 23/100 - train_loss: 1.017\n"
     ]
    },
    {
     "data": {
      "application/vnd.jupyter.widget-view+json": {
       "model_id": "6ee5c76629c34d019770b79c0e2daa3e",
       "version_major": 2,
       "version_minor": 0
      },
      "text/plain": [
       "Epoch  23:   0%|          | 0/157 [00:00<?, ?batch/s]"
      ]
     },
     "metadata": {},
     "output_type": "display_data"
    },
    {
     "name": "stdout",
     "output_type": "stream",
     "text": [
      "[Validation CNN] Epoch 23/100 - val_loss: 0.746\n"
     ]
    },
    {
     "data": {
      "application/vnd.jupyter.widget-view+json": {
       "model_id": "7bcc0a5814354380b81545546239ae90",
       "version_major": 2,
       "version_minor": 0
      },
      "text/plain": [
       "Epoch  24:   0%|          | 0/625 [00:00<?, ?batch/s]"
      ]
     },
     "metadata": {},
     "output_type": "display_data"
    },
    {
     "name": "stdout",
     "output_type": "stream",
     "text": [
      "[Train CNN] Epoch 24/100 - train_loss: 1.002\n"
     ]
    },
    {
     "data": {
      "application/vnd.jupyter.widget-view+json": {
       "model_id": "3faa5511c41241c5bbb9188bbdabb210",
       "version_major": 2,
       "version_minor": 0
      },
      "text/plain": [
       "Epoch  24:   0%|          | 0/157 [00:00<?, ?batch/s]"
      ]
     },
     "metadata": {},
     "output_type": "display_data"
    },
    {
     "name": "stdout",
     "output_type": "stream",
     "text": [
      "[Validation CNN] Epoch 24/100 - val_loss: 0.745\n"
     ]
    },
    {
     "data": {
      "application/vnd.jupyter.widget-view+json": {
       "model_id": "ee15568fc4524cffa25cbcb99be247d8",
       "version_major": 2,
       "version_minor": 0
      },
      "text/plain": [
       "Epoch  25:   0%|          | 0/625 [00:00<?, ?batch/s]"
      ]
     },
     "metadata": {},
     "output_type": "display_data"
    },
    {
     "name": "stdout",
     "output_type": "stream",
     "text": [
      "[Train CNN] Epoch 25/100 - train_loss: 0.901\n"
     ]
    },
    {
     "data": {
      "application/vnd.jupyter.widget-view+json": {
       "model_id": "65d06a3f4daa42db9a38b735bbde7dc7",
       "version_major": 2,
       "version_minor": 0
      },
      "text/plain": [
       "Epoch  25:   0%|          | 0/157 [00:00<?, ?batch/s]"
      ]
     },
     "metadata": {},
     "output_type": "display_data"
    },
    {
     "name": "stdout",
     "output_type": "stream",
     "text": [
      "[Validation CNN] Epoch 25/100 - val_loss: 0.745\n"
     ]
    },
    {
     "data": {
      "application/vnd.jupyter.widget-view+json": {
       "model_id": "9596c8e0b49f47d6ac2d093929d1d95b",
       "version_major": 2,
       "version_minor": 0
      },
      "text/plain": [
       "Epoch  26:   0%|          | 0/625 [00:00<?, ?batch/s]"
      ]
     },
     "metadata": {},
     "output_type": "display_data"
    },
    {
     "name": "stdout",
     "output_type": "stream",
     "text": [
      "[Train CNN] Epoch 26/100 - train_loss: 0.972\n"
     ]
    },
    {
     "data": {
      "application/vnd.jupyter.widget-view+json": {
       "model_id": "9f9fe1a1cebb47aa953a20cadf67953e",
       "version_major": 2,
       "version_minor": 0
      },
      "text/plain": [
       "Epoch  26:   0%|          | 0/157 [00:00<?, ?batch/s]"
      ]
     },
     "metadata": {},
     "output_type": "display_data"
    },
    {
     "name": "stdout",
     "output_type": "stream",
     "text": [
      "[Validation CNN] Epoch 26/100 - val_loss: 0.746\n"
     ]
    },
    {
     "data": {
      "application/vnd.jupyter.widget-view+json": {
       "model_id": "b8559ade7c914e259beb3b6371c85073",
       "version_major": 2,
       "version_minor": 0
      },
      "text/plain": [
       "Epoch  27:   0%|          | 0/625 [00:00<?, ?batch/s]"
      ]
     },
     "metadata": {},
     "output_type": "display_data"
    },
    {
     "name": "stdout",
     "output_type": "stream",
     "text": [
      "[Train CNN] Epoch 27/100 - train_loss: 0.917\n"
     ]
    },
    {
     "data": {
      "application/vnd.jupyter.widget-view+json": {
       "model_id": "cfad76f4daea44bba89069a2d10aefbd",
       "version_major": 2,
       "version_minor": 0
      },
      "text/plain": [
       "Epoch  27:   0%|          | 0/157 [00:00<?, ?batch/s]"
      ]
     },
     "metadata": {},
     "output_type": "display_data"
    },
    {
     "name": "stdout",
     "output_type": "stream",
     "text": [
      "[Validation CNN] Epoch 27/100 - val_loss: 0.746\n"
     ]
    },
    {
     "data": {
      "application/vnd.jupyter.widget-view+json": {
       "model_id": "7fc07160db05463dbdeb862a71abcc3b",
       "version_major": 2,
       "version_minor": 0
      },
      "text/plain": [
       "Epoch  28:   0%|          | 0/625 [00:00<?, ?batch/s]"
      ]
     },
     "metadata": {},
     "output_type": "display_data"
    },
    {
     "name": "stdout",
     "output_type": "stream",
     "text": [
      "[Train CNN] Epoch 28/100 - train_loss: 0.889\n"
     ]
    },
    {
     "data": {
      "application/vnd.jupyter.widget-view+json": {
       "model_id": "6142cbaae0984fe59bd2b5af53d80f2c",
       "version_major": 2,
       "version_minor": 0
      },
      "text/plain": [
       "Epoch  28:   0%|          | 0/157 [00:00<?, ?batch/s]"
      ]
     },
     "metadata": {},
     "output_type": "display_data"
    },
    {
     "name": "stdout",
     "output_type": "stream",
     "text": [
      "[Validation CNN] Epoch 28/100 - val_loss: 0.745\n"
     ]
    },
    {
     "data": {
      "application/vnd.jupyter.widget-view+json": {
       "model_id": "91de34bd04c64c92a16f2606fe26be0e",
       "version_major": 2,
       "version_minor": 0
      },
      "text/plain": [
       "Epoch  29:   0%|          | 0/625 [00:00<?, ?batch/s]"
      ]
     },
     "metadata": {},
     "output_type": "display_data"
    },
    {
     "name": "stdout",
     "output_type": "stream",
     "text": [
      "[Train CNN] Epoch 29/100 - train_loss: 0.930\n"
     ]
    },
    {
     "data": {
      "application/vnd.jupyter.widget-view+json": {
       "model_id": "468f7ed9a68b4886bf31aba05c632bd1",
       "version_major": 2,
       "version_minor": 0
      },
      "text/plain": [
       "Epoch  29:   0%|          | 0/157 [00:00<?, ?batch/s]"
      ]
     },
     "metadata": {},
     "output_type": "display_data"
    },
    {
     "name": "stdout",
     "output_type": "stream",
     "text": [
      "[Validation CNN] Epoch 29/100 - val_loss: 0.745\n"
     ]
    },
    {
     "data": {
      "application/vnd.jupyter.widget-view+json": {
       "model_id": "0397e5b58d294cb1a2259b4e30aaff91",
       "version_major": 2,
       "version_minor": 0
      },
      "text/plain": [
       "Epoch  30:   0%|          | 0/625 [00:00<?, ?batch/s]"
      ]
     },
     "metadata": {},
     "output_type": "display_data"
    },
    {
     "name": "stdout",
     "output_type": "stream",
     "text": [
      "[Train CNN] Epoch 30/100 - train_loss: 1.023\n"
     ]
    },
    {
     "data": {
      "application/vnd.jupyter.widget-view+json": {
       "model_id": "28bc753b1b7347fb93cfbb916ee3f9a5",
       "version_major": 2,
       "version_minor": 0
      },
      "text/plain": [
       "Epoch  30:   0%|          | 0/157 [00:00<?, ?batch/s]"
      ]
     },
     "metadata": {},
     "output_type": "display_data"
    },
    {
     "name": "stdout",
     "output_type": "stream",
     "text": [
      "[Validation CNN] Epoch 30/100 - val_loss: 0.746\n"
     ]
    },
    {
     "data": {
      "application/vnd.jupyter.widget-view+json": {
       "model_id": "86b5edb5bf51456199797e0168cd8331",
       "version_major": 2,
       "version_minor": 0
      },
      "text/plain": [
       "Epoch  31:   0%|          | 0/625 [00:00<?, ?batch/s]"
      ]
     },
     "metadata": {},
     "output_type": "display_data"
    },
    {
     "name": "stdout",
     "output_type": "stream",
     "text": [
      "[Train CNN] Epoch 31/100 - train_loss: 0.906\n"
     ]
    },
    {
     "data": {
      "application/vnd.jupyter.widget-view+json": {
       "model_id": "b5de95e7cc544915b58af6770b3209a0",
       "version_major": 2,
       "version_minor": 0
      },
      "text/plain": [
       "Epoch  31:   0%|          | 0/157 [00:00<?, ?batch/s]"
      ]
     },
     "metadata": {},
     "output_type": "display_data"
    },
    {
     "name": "stdout",
     "output_type": "stream",
     "text": [
      "[Validation CNN] Epoch 31/100 - val_loss: 0.745\n"
     ]
    },
    {
     "data": {
      "application/vnd.jupyter.widget-view+json": {
       "model_id": "514d9eabab584b0ba6baaa740dfec63a",
       "version_major": 2,
       "version_minor": 0
      },
      "text/plain": [
       "Epoch  32:   0%|          | 0/625 [00:00<?, ?batch/s]"
      ]
     },
     "metadata": {},
     "output_type": "display_data"
    },
    {
     "name": "stdout",
     "output_type": "stream",
     "text": [
      "[Train CNN] Epoch 32/100 - train_loss: 0.953\n"
     ]
    },
    {
     "data": {
      "application/vnd.jupyter.widget-view+json": {
       "model_id": "2ffb2913e7434408899c341cb90ab9e8",
       "version_major": 2,
       "version_minor": 0
      },
      "text/plain": [
       "Epoch  32:   0%|          | 0/157 [00:00<?, ?batch/s]"
      ]
     },
     "metadata": {},
     "output_type": "display_data"
    },
    {
     "name": "stdout",
     "output_type": "stream",
     "text": [
      "[Validation CNN] Epoch 32/100 - val_loss: 0.745\n"
     ]
    },
    {
     "data": {
      "application/vnd.jupyter.widget-view+json": {
       "model_id": "1c5765b1b2e647b89634e3dd1d35f85a",
       "version_major": 2,
       "version_minor": 0
      },
      "text/plain": [
       "Epoch  33:   0%|          | 0/625 [00:00<?, ?batch/s]"
      ]
     },
     "metadata": {},
     "output_type": "display_data"
    },
    {
     "name": "stdout",
     "output_type": "stream",
     "text": [
      "[Train CNN] Epoch 33/100 - train_loss: 1.007\n"
     ]
    },
    {
     "data": {
      "application/vnd.jupyter.widget-view+json": {
       "model_id": "d7f2dd3e709948e9bf46fc68b20c3ab7",
       "version_major": 2,
       "version_minor": 0
      },
      "text/plain": [
       "Epoch  33:   0%|          | 0/157 [00:00<?, ?batch/s]"
      ]
     },
     "metadata": {},
     "output_type": "display_data"
    },
    {
     "name": "stdout",
     "output_type": "stream",
     "text": [
      "[Validation CNN] Epoch 33/100 - val_loss: 0.745\n"
     ]
    },
    {
     "data": {
      "application/vnd.jupyter.widget-view+json": {
       "model_id": "c8a04532b9c64168a635b6f5218502b2",
       "version_major": 2,
       "version_minor": 0
      },
      "text/plain": [
       "Epoch  34:   0%|          | 0/625 [00:00<?, ?batch/s]"
      ]
     },
     "metadata": {},
     "output_type": "display_data"
    },
    {
     "name": "stdout",
     "output_type": "stream",
     "text": [
      "[Train CNN] Epoch 34/100 - train_loss: 0.872\n"
     ]
    },
    {
     "data": {
      "application/vnd.jupyter.widget-view+json": {
       "model_id": "a269cf01fca1414db02621d829a9ea72",
       "version_major": 2,
       "version_minor": 0
      },
      "text/plain": [
       "Epoch  34:   0%|          | 0/157 [00:00<?, ?batch/s]"
      ]
     },
     "metadata": {},
     "output_type": "display_data"
    },
    {
     "name": "stdout",
     "output_type": "stream",
     "text": [
      "[Validation CNN] Epoch 34/100 - val_loss: 0.745\n"
     ]
    },
    {
     "data": {
      "application/vnd.jupyter.widget-view+json": {
       "model_id": "aa4b608584eb4b27b7cd0365ea56fbeb",
       "version_major": 2,
       "version_minor": 0
      },
      "text/plain": [
       "Epoch  35:   0%|          | 0/625 [00:00<?, ?batch/s]"
      ]
     },
     "metadata": {},
     "output_type": "display_data"
    },
    {
     "name": "stdout",
     "output_type": "stream",
     "text": [
      "[Train CNN] Epoch 35/100 - train_loss: 0.960\n"
     ]
    },
    {
     "data": {
      "application/vnd.jupyter.widget-view+json": {
       "model_id": "1d10a873396b4024ba3735222f5194b0",
       "version_major": 2,
       "version_minor": 0
      },
      "text/plain": [
       "Epoch  35:   0%|          | 0/157 [00:00<?, ?batch/s]"
      ]
     },
     "metadata": {},
     "output_type": "display_data"
    },
    {
     "name": "stdout",
     "output_type": "stream",
     "text": [
      "[Validation CNN] Epoch 35/100 - val_loss: 0.745\n"
     ]
    },
    {
     "data": {
      "application/vnd.jupyter.widget-view+json": {
       "model_id": "7447b673df674c14949a3ae83bd6d43b",
       "version_major": 2,
       "version_minor": 0
      },
      "text/plain": [
       "Epoch  36:   0%|          | 0/625 [00:00<?, ?batch/s]"
      ]
     },
     "metadata": {},
     "output_type": "display_data"
    },
    {
     "name": "stdout",
     "output_type": "stream",
     "text": [
      "[Train CNN] Epoch 36/100 - train_loss: 0.816\n"
     ]
    },
    {
     "data": {
      "application/vnd.jupyter.widget-view+json": {
       "model_id": "97df75da81814d258dac638074cfd2d2",
       "version_major": 2,
       "version_minor": 0
      },
      "text/plain": [
       "Epoch  36:   0%|          | 0/157 [00:00<?, ?batch/s]"
      ]
     },
     "metadata": {},
     "output_type": "display_data"
    },
    {
     "name": "stdout",
     "output_type": "stream",
     "text": [
      "[Validation CNN] Epoch 36/100 - val_loss: 0.745\n"
     ]
    },
    {
     "data": {
      "application/vnd.jupyter.widget-view+json": {
       "model_id": "6cb36db0fa734a1f81e966dfca33b4d9",
       "version_major": 2,
       "version_minor": 0
      },
      "text/plain": [
       "Epoch  37:   0%|          | 0/625 [00:00<?, ?batch/s]"
      ]
     },
     "metadata": {},
     "output_type": "display_data"
    },
    {
     "name": "stdout",
     "output_type": "stream",
     "text": [
      "[Train CNN] Epoch 37/100 - train_loss: 0.995\n"
     ]
    },
    {
     "data": {
      "application/vnd.jupyter.widget-view+json": {
       "model_id": "07d5e81e6da649088687b239f3e7ba68",
       "version_major": 2,
       "version_minor": 0
      },
      "text/plain": [
       "Epoch  37:   0%|          | 0/157 [00:00<?, ?batch/s]"
      ]
     },
     "metadata": {},
     "output_type": "display_data"
    },
    {
     "name": "stdout",
     "output_type": "stream",
     "text": [
      "[Validation CNN] Epoch 37/100 - val_loss: 0.746\n"
     ]
    },
    {
     "data": {
      "application/vnd.jupyter.widget-view+json": {
       "model_id": "b503fc81a295494dbb79bd0daf317ded",
       "version_major": 2,
       "version_minor": 0
      },
      "text/plain": [
       "Epoch  38:   0%|          | 0/625 [00:00<?, ?batch/s]"
      ]
     },
     "metadata": {},
     "output_type": "display_data"
    },
    {
     "name": "stdout",
     "output_type": "stream",
     "text": [
      "[Train CNN] Epoch 38/100 - train_loss: 1.142\n"
     ]
    },
    {
     "data": {
      "application/vnd.jupyter.widget-view+json": {
       "model_id": "9860072c1656452ca47e787af9023dc0",
       "version_major": 2,
       "version_minor": 0
      },
      "text/plain": [
       "Epoch  38:   0%|          | 0/157 [00:00<?, ?batch/s]"
      ]
     },
     "metadata": {},
     "output_type": "display_data"
    },
    {
     "name": "stdout",
     "output_type": "stream",
     "text": [
      "[Validation CNN] Epoch 38/100 - val_loss: 0.745\n"
     ]
    },
    {
     "data": {
      "application/vnd.jupyter.widget-view+json": {
       "model_id": "fa6c624f717e4d86b90ea23a595fcd0c",
       "version_major": 2,
       "version_minor": 0
      },
      "text/plain": [
       "Epoch  39:   0%|          | 0/625 [00:00<?, ?batch/s]"
      ]
     },
     "metadata": {},
     "output_type": "display_data"
    },
    {
     "name": "stdout",
     "output_type": "stream",
     "text": [
      "[Train CNN] Epoch 39/100 - train_loss: 1.027\n"
     ]
    },
    {
     "data": {
      "application/vnd.jupyter.widget-view+json": {
       "model_id": "fa731322f9704e358e71fce98a449e91",
       "version_major": 2,
       "version_minor": 0
      },
      "text/plain": [
       "Epoch  39:   0%|          | 0/157 [00:00<?, ?batch/s]"
      ]
     },
     "metadata": {},
     "output_type": "display_data"
    },
    {
     "name": "stdout",
     "output_type": "stream",
     "text": [
      "[Validation CNN] Epoch 39/100 - val_loss: 0.745\n"
     ]
    },
    {
     "data": {
      "application/vnd.jupyter.widget-view+json": {
       "model_id": "41c5a92064e64d89b01f6cd6a643c2df",
       "version_major": 2,
       "version_minor": 0
      },
      "text/plain": [
       "Epoch  40:   0%|          | 0/625 [00:00<?, ?batch/s]"
      ]
     },
     "metadata": {},
     "output_type": "display_data"
    },
    {
     "name": "stdout",
     "output_type": "stream",
     "text": [
      "[Train CNN] Epoch 40/100 - train_loss: 0.989\n"
     ]
    },
    {
     "data": {
      "application/vnd.jupyter.widget-view+json": {
       "model_id": "2f5dbfb2475c44b9bbcce463cd1a1e5d",
       "version_major": 2,
       "version_minor": 0
      },
      "text/plain": [
       "Epoch  40:   0%|          | 0/157 [00:00<?, ?batch/s]"
      ]
     },
     "metadata": {},
     "output_type": "display_data"
    },
    {
     "name": "stdout",
     "output_type": "stream",
     "text": [
      "[Validation CNN] Epoch 40/100 - val_loss: 0.745\n"
     ]
    },
    {
     "data": {
      "application/vnd.jupyter.widget-view+json": {
       "model_id": "4172ee96e5bc4054bbdbe60be5702e11",
       "version_major": 2,
       "version_minor": 0
      },
      "text/plain": [
       "Epoch  41:   0%|          | 0/625 [00:00<?, ?batch/s]"
      ]
     },
     "metadata": {},
     "output_type": "display_data"
    },
    {
     "name": "stdout",
     "output_type": "stream",
     "text": [
      "[Train CNN] Epoch 41/100 - train_loss: 0.804\n"
     ]
    },
    {
     "data": {
      "application/vnd.jupyter.widget-view+json": {
       "model_id": "ac6a77179f1646bdb802c3ef54db46b9",
       "version_major": 2,
       "version_minor": 0
      },
      "text/plain": [
       "Epoch  41:   0%|          | 0/157 [00:00<?, ?batch/s]"
      ]
     },
     "metadata": {},
     "output_type": "display_data"
    },
    {
     "name": "stdout",
     "output_type": "stream",
     "text": [
      "[Validation CNN] Epoch 41/100 - val_loss: 0.745\n"
     ]
    },
    {
     "data": {
      "application/vnd.jupyter.widget-view+json": {
       "model_id": "097837a7a88a4246a8d64c21c1eecfe2",
       "version_major": 2,
       "version_minor": 0
      },
      "text/plain": [
       "Epoch  42:   0%|          | 0/625 [00:00<?, ?batch/s]"
      ]
     },
     "metadata": {},
     "output_type": "display_data"
    },
    {
     "name": "stdout",
     "output_type": "stream",
     "text": [
      "[Train CNN] Epoch 42/100 - train_loss: 0.972\n"
     ]
    },
    {
     "data": {
      "application/vnd.jupyter.widget-view+json": {
       "model_id": "c7d83300c6f64bd78b898919934fc083",
       "version_major": 2,
       "version_minor": 0
      },
      "text/plain": [
       "Epoch  42:   0%|          | 0/157 [00:00<?, ?batch/s]"
      ]
     },
     "metadata": {},
     "output_type": "display_data"
    },
    {
     "name": "stdout",
     "output_type": "stream",
     "text": [
      "[Validation CNN] Epoch 42/100 - val_loss: 0.745\n"
     ]
    },
    {
     "data": {
      "application/vnd.jupyter.widget-view+json": {
       "model_id": "f9a03d36567d4276b870e8c22fbd9a60",
       "version_major": 2,
       "version_minor": 0
      },
      "text/plain": [
       "Epoch  43:   0%|          | 0/625 [00:00<?, ?batch/s]"
      ]
     },
     "metadata": {},
     "output_type": "display_data"
    },
    {
     "name": "stdout",
     "output_type": "stream",
     "text": [
      "[Train CNN] Epoch 43/100 - train_loss: 0.887\n"
     ]
    },
    {
     "data": {
      "application/vnd.jupyter.widget-view+json": {
       "model_id": "4d9d219ed7e04002a4f01b456baaf3a9",
       "version_major": 2,
       "version_minor": 0
      },
      "text/plain": [
       "Epoch  43:   0%|          | 0/157 [00:00<?, ?batch/s]"
      ]
     },
     "metadata": {},
     "output_type": "display_data"
    },
    {
     "name": "stdout",
     "output_type": "stream",
     "text": [
      "[Validation CNN] Epoch 43/100 - val_loss: 0.745\n"
     ]
    },
    {
     "data": {
      "application/vnd.jupyter.widget-view+json": {
       "model_id": "5834c372421942ce86b105cf33bf3445",
       "version_major": 2,
       "version_minor": 0
      },
      "text/plain": [
       "Epoch  44:   0%|          | 0/625 [00:00<?, ?batch/s]"
      ]
     },
     "metadata": {},
     "output_type": "display_data"
    },
    {
     "name": "stdout",
     "output_type": "stream",
     "text": [
      "[Train CNN] Epoch 44/100 - train_loss: 0.988\n"
     ]
    },
    {
     "data": {
      "application/vnd.jupyter.widget-view+json": {
       "model_id": "05197adf6a2847dd877c4d56de5445ec",
       "version_major": 2,
       "version_minor": 0
      },
      "text/plain": [
       "Epoch  44:   0%|          | 0/157 [00:00<?, ?batch/s]"
      ]
     },
     "metadata": {},
     "output_type": "display_data"
    },
    {
     "name": "stdout",
     "output_type": "stream",
     "text": [
      "[Validation CNN] Epoch 44/100 - val_loss: 0.745\n"
     ]
    },
    {
     "data": {
      "application/vnd.jupyter.widget-view+json": {
       "model_id": "05c5d27021d5488797b315b2a889cabe",
       "version_major": 2,
       "version_minor": 0
      },
      "text/plain": [
       "Epoch  45:   0%|          | 0/625 [00:00<?, ?batch/s]"
      ]
     },
     "metadata": {},
     "output_type": "display_data"
    },
    {
     "name": "stdout",
     "output_type": "stream",
     "text": [
      "[Train CNN] Epoch 45/100 - train_loss: 0.968\n"
     ]
    },
    {
     "data": {
      "application/vnd.jupyter.widget-view+json": {
       "model_id": "fb66b18454bf4746a4a01e38283ae618",
       "version_major": 2,
       "version_minor": 0
      },
      "text/plain": [
       "Epoch  45:   0%|          | 0/157 [00:00<?, ?batch/s]"
      ]
     },
     "metadata": {},
     "output_type": "display_data"
    },
    {
     "name": "stdout",
     "output_type": "stream",
     "text": [
      "[Validation CNN] Epoch 45/100 - val_loss: 0.745\n"
     ]
    },
    {
     "data": {
      "application/vnd.jupyter.widget-view+json": {
       "model_id": "8516c3a484a34603b843fc2d656bab0e",
       "version_major": 2,
       "version_minor": 0
      },
      "text/plain": [
       "Epoch  46:   0%|          | 0/625 [00:00<?, ?batch/s]"
      ]
     },
     "metadata": {},
     "output_type": "display_data"
    },
    {
     "name": "stdout",
     "output_type": "stream",
     "text": [
      "[Train CNN] Epoch 46/100 - train_loss: 0.927\n"
     ]
    },
    {
     "data": {
      "application/vnd.jupyter.widget-view+json": {
       "model_id": "311908965df4432fb7bafd9e83637eeb",
       "version_major": 2,
       "version_minor": 0
      },
      "text/plain": [
       "Epoch  46:   0%|          | 0/157 [00:00<?, ?batch/s]"
      ]
     },
     "metadata": {},
     "output_type": "display_data"
    },
    {
     "name": "stdout",
     "output_type": "stream",
     "text": [
      "[Validation CNN] Epoch 46/100 - val_loss: 0.745\n"
     ]
    },
    {
     "data": {
      "application/vnd.jupyter.widget-view+json": {
       "model_id": "9dd5f290bb004d8eacc10bdcc98df927",
       "version_major": 2,
       "version_minor": 0
      },
      "text/plain": [
       "Epoch  47:   0%|          | 0/625 [00:00<?, ?batch/s]"
      ]
     },
     "metadata": {},
     "output_type": "display_data"
    },
    {
     "name": "stdout",
     "output_type": "stream",
     "text": [
      "[Train CNN] Epoch 47/100 - train_loss: 0.983\n"
     ]
    },
    {
     "data": {
      "application/vnd.jupyter.widget-view+json": {
       "model_id": "6b7a503a9a7a4c27b7308343f764804a",
       "version_major": 2,
       "version_minor": 0
      },
      "text/plain": [
       "Epoch  47:   0%|          | 0/157 [00:00<?, ?batch/s]"
      ]
     },
     "metadata": {},
     "output_type": "display_data"
    },
    {
     "name": "stdout",
     "output_type": "stream",
     "text": [
      "[Validation CNN] Epoch 47/100 - val_loss: 0.746\n"
     ]
    },
    {
     "data": {
      "application/vnd.jupyter.widget-view+json": {
       "model_id": "2d1b412fa941417a9d4eafb34eed3358",
       "version_major": 2,
       "version_minor": 0
      },
      "text/plain": [
       "Epoch  48:   0%|          | 0/625 [00:00<?, ?batch/s]"
      ]
     },
     "metadata": {},
     "output_type": "display_data"
    },
    {
     "name": "stdout",
     "output_type": "stream",
     "text": [
      "[Train CNN] Epoch 48/100 - train_loss: 1.063\n"
     ]
    },
    {
     "data": {
      "application/vnd.jupyter.widget-view+json": {
       "model_id": "806e332b291c4d3bb90ab720e30858a8",
       "version_major": 2,
       "version_minor": 0
      },
      "text/plain": [
       "Epoch  48:   0%|          | 0/157 [00:00<?, ?batch/s]"
      ]
     },
     "metadata": {},
     "output_type": "display_data"
    },
    {
     "name": "stdout",
     "output_type": "stream",
     "text": [
      "[Validation CNN] Epoch 48/100 - val_loss: 0.745\n"
     ]
    },
    {
     "data": {
      "application/vnd.jupyter.widget-view+json": {
       "model_id": "7ff79e8b06c74189b9a5cff0715fb991",
       "version_major": 2,
       "version_minor": 0
      },
      "text/plain": [
       "Epoch  49:   0%|          | 0/625 [00:00<?, ?batch/s]"
      ]
     },
     "metadata": {},
     "output_type": "display_data"
    },
    {
     "name": "stdout",
     "output_type": "stream",
     "text": [
      "[Train CNN] Epoch 49/100 - train_loss: 0.935\n"
     ]
    },
    {
     "data": {
      "application/vnd.jupyter.widget-view+json": {
       "model_id": "901c367524344cd88cd9a47373fe5ef4",
       "version_major": 2,
       "version_minor": 0
      },
      "text/plain": [
       "Epoch  49:   0%|          | 0/157 [00:00<?, ?batch/s]"
      ]
     },
     "metadata": {},
     "output_type": "display_data"
    },
    {
     "name": "stdout",
     "output_type": "stream",
     "text": [
      "[Validation CNN] Epoch 49/100 - val_loss: 0.745\n"
     ]
    },
    {
     "data": {
      "application/vnd.jupyter.widget-view+json": {
       "model_id": "d87b0a55ed504daa9a4efc4d0bb8393e",
       "version_major": 2,
       "version_minor": 0
      },
      "text/plain": [
       "Epoch  50:   0%|          | 0/625 [00:00<?, ?batch/s]"
      ]
     },
     "metadata": {},
     "output_type": "display_data"
    },
    {
     "name": "stdout",
     "output_type": "stream",
     "text": [
      "[Train CNN] Epoch 50/100 - train_loss: 0.922\n"
     ]
    },
    {
     "data": {
      "application/vnd.jupyter.widget-view+json": {
       "model_id": "887143aa96e84b15b5792d7c539005f3",
       "version_major": 2,
       "version_minor": 0
      },
      "text/plain": [
       "Epoch  50:   0%|          | 0/157 [00:00<?, ?batch/s]"
      ]
     },
     "metadata": {},
     "output_type": "display_data"
    },
    {
     "name": "stdout",
     "output_type": "stream",
     "text": [
      "[Validation CNN] Epoch 50/100 - val_loss: 0.745\n"
     ]
    },
    {
     "data": {
      "application/vnd.jupyter.widget-view+json": {
       "model_id": "f7d589239d4541e59d8d5d22fd676b3c",
       "version_major": 2,
       "version_minor": 0
      },
      "text/plain": [
       "Epoch  51:   0%|          | 0/625 [00:00<?, ?batch/s]"
      ]
     },
     "metadata": {},
     "output_type": "display_data"
    },
    {
     "name": "stdout",
     "output_type": "stream",
     "text": [
      "[Train CNN] Epoch 51/100 - train_loss: 0.968\n"
     ]
    },
    {
     "data": {
      "application/vnd.jupyter.widget-view+json": {
       "model_id": "b3f3defa381e419280fc21a844d40fc3",
       "version_major": 2,
       "version_minor": 0
      },
      "text/plain": [
       "Epoch  51:   0%|          | 0/157 [00:00<?, ?batch/s]"
      ]
     },
     "metadata": {},
     "output_type": "display_data"
    },
    {
     "name": "stdout",
     "output_type": "stream",
     "text": [
      "[Validation CNN] Epoch 51/100 - val_loss: 0.745\n"
     ]
    },
    {
     "data": {
      "application/vnd.jupyter.widget-view+json": {
       "model_id": "7f49b655cba84d7b910e8bf5594a13fb",
       "version_major": 2,
       "version_minor": 0
      },
      "text/plain": [
       "Epoch  52:   0%|          | 0/625 [00:00<?, ?batch/s]"
      ]
     },
     "metadata": {},
     "output_type": "display_data"
    },
    {
     "name": "stdout",
     "output_type": "stream",
     "text": [
      "[Train CNN] Epoch 52/100 - train_loss: 1.002\n"
     ]
    },
    {
     "data": {
      "application/vnd.jupyter.widget-view+json": {
       "model_id": "2c784614591b4bd89f07fa0415ceb762",
       "version_major": 2,
       "version_minor": 0
      },
      "text/plain": [
       "Epoch  52:   0%|          | 0/157 [00:00<?, ?batch/s]"
      ]
     },
     "metadata": {},
     "output_type": "display_data"
    },
    {
     "name": "stdout",
     "output_type": "stream",
     "text": [
      "[Validation CNN] Epoch 52/100 - val_loss: 0.745\n"
     ]
    },
    {
     "data": {
      "application/vnd.jupyter.widget-view+json": {
       "model_id": "04d7ddf94bf048d684a5241cca7a0863",
       "version_major": 2,
       "version_minor": 0
      },
      "text/plain": [
       "Epoch  53:   0%|          | 0/625 [00:00<?, ?batch/s]"
      ]
     },
     "metadata": {},
     "output_type": "display_data"
    }
   ],
   "source": [
    "# Training. {{{\n",
    "# =====\n",
    "train_history = History(keys=('train_loss', '_t'), output_dir=None)\n",
    "val_history = History(keys=('val_loss', '_t'), output_dir=None)\n",
    "\n",
    "for epoch in range(num_epochs):\n",
    "  loop = tqdm(train_loader, unit='batch', desc='Epoch {:>3}'.format(epoch+1))\n",
    "  correct = 0\n",
    "  total = 0\n",
    "\n",
    "  # Train Step. {{{\n",
    "  # =====\n",
    "  net.train()\n",
    "  for i, batch in enumerate(loop):\n",
    "    G_meter = AverageMeter()\n",
    "    inputs, labels = batch\n",
    "    inputs = inputs.to(device)\n",
    "    labels = labels.to(device)\n",
    "\n",
    "    # Update network. {{{\n",
    "    # =====\n",
    "    # forward network\n",
    "    outputs = net(inputs)\n",
    "\n",
    "    # backward network\n",
    "    optimizer.zero_grad()\n",
    "    loss = criterion(outputs, labels)\n",
    "    loss.backward()\n",
    "    optimizer.step()\n",
    "    # }}}\n",
    "\n",
    "    # Get losses. {{{\n",
    "    G_meter.update(loss.item(), inputs[0].size()[0])\n",
    "    train_history({'train_loss': loss.item()})\n",
    "    # }}}\n",
    "\n",
    "    # Calcurate Accuracy. {{{\n",
    "    _, predicted = torch.max(outputs.data, 1)\n",
    "    total += labels.size(0)\n",
    "#     correct += (predicted == labels).sum().item()\n",
    "    # }}}\n",
    "  # }}}\n",
    "  \n",
    "  # Print training log. {{{\n",
    "  # =====\n",
    "  msg = \"[Train {}] Epoch {}/{}\".format(\n",
    "      'CNN', epoch + 1, num_epochs)\n",
    "  msg += \" - {}: {:.3f}\".format('train_loss', G_meter.avg)\n",
    "#   msg += \" - {}: {:.3f}\".format('train_accuracy', correct / total)\n",
    "  print(msg)\n",
    "  # }}}\n",
    "\n",
    "  # Validation Step. {{{\n",
    "  # =====\n",
    "  with torch.no_grad():\n",
    "    net.eval()\n",
    "    loop_val = tqdm(val_loader, unit='batch', desc='Epoch {:>3}'.format(epoch + 1))\n",
    "    correct = 0\n",
    "    total = 0\n",
    "\n",
    "    for i, batch in enumerate(loop_val):\n",
    "      G_meter = AverageMeter()\n",
    "      inputs, labels = batch\n",
    "      inputs = inputs.to(device)\n",
    "      labels = labels.to(device)\n",
    "\n",
    "      outputs = net(inputs)\n",
    "\n",
    "      loss = criterion(outputs, labels)\n",
    "\n",
    "      G_meter.update(loss.item(), inputs[0].size()[0])\n",
    "      val_history({'val_loss': loss.item()})\n",
    "\n",
    "      _, predicted = torch.max(outputs.data, 1)\n",
    "      total += labels.size(0)\n",
    "#       correct += (predicted == labels).sum().item()\n",
    "  # }}}\n",
    "\n",
    "  # Print validation log. {{{\n",
    "  # =====\n",
    "  msg = \"[Validation {}] Epoch {}/{}\".format(\n",
    "      'CNN', epoch + 1, num_epochs)\n",
    "  msg += \" - {}: {:.3f}\".format('val_loss', G_meter.avg)\n",
    "#   msg += \" - {}: {:.3f}\".format('val_accuracy', correct / total)\n",
    "  print(msg)\n",
    "  # }}}\n",
    "\n",
    "model_path = './prototype.pth'\n",
    "torch.save(net.state_dict(), model_path)"
   ]
  },
  {
   "cell_type": "code",
   "execution_count": null,
   "metadata": {
    "colab": {
     "base_uri": "https://localhost:8080/"
    },
    "executionInfo": {
     "elapsed": 9975659,
     "status": "ok",
     "timestamp": 1606639247908,
     "user": {
      "displayName": "tatsuya INAGAKI",
      "photoUrl": "",
      "userId": "14077166755398579680"
     },
     "user_tz": -540
    },
    "id": "wom1yEfxWeLJ",
    "outputId": "cfdbd42e-b875-4234-fd44-0b3227e98657"
   },
   "outputs": [],
   "source": [
    "import matplotlib.cm as cm\n",
    "plt.rcParams[\"figure.figsize\"] = (6.4, 4.8)\n",
    "train_history.plot_graph()\n",
    "val_history.plot_graph()"
   ]
  }
 ],
 "metadata": {
  "accelerator": "GPU",
  "colab": {
   "name": "B3_Session3_CNN.ipynb",
   "provenance": []
  },
  "kernelspec": {
   "display_name": "ganspace",
   "language": "python",
   "name": "ganspace"
  },
  "language_info": {
   "codemirror_mode": {
    "name": "ipython",
    "version": 3
   },
   "file_extension": ".py",
   "mimetype": "text/x-python",
   "name": "python",
   "nbconvert_exporter": "python",
   "pygments_lexer": "ipython3",
   "version": "3.7.10"
  },
  "widgets": {
   "application/vnd.jupyter.widget-state+json": {
    "044aa8a57b61455eb77fbc1a37dbcd26": {
     "model_module": "@jupyter-widgets/controls",
     "model_name": "FloatProgressModel",
     "state": {
      "_dom_classes": [],
      "_model_module": "@jupyter-widgets/controls",
      "_model_module_version": "1.5.0",
      "_model_name": "FloatProgressModel",
      "_view_count": null,
      "_view_module": "@jupyter-widgets/controls",
      "_view_module_version": "1.5.0",
      "_view_name": "ProgressView",
      "bar_style": "success",
      "description": "",
      "description_tooltip": null,
      "layout": "IPY_MODEL_565231fddcbc4c7a8708bf4da3f141ca",
      "max": 1,
      "min": 0,
      "orientation": "horizontal",
      "style": "IPY_MODEL_8c28ad0a4c0e454e98b32f48463727d0",
      "value": 1
     }
    },
    "0d31376e51c146f9af054ecd81305868": {
     "model_module": "@jupyter-widgets/base",
     "model_name": "LayoutModel",
     "state": {
      "_model_module": "@jupyter-widgets/base",
      "_model_module_version": "1.2.0",
      "_model_name": "LayoutModel",
      "_view_count": null,
      "_view_module": "@jupyter-widgets/base",
      "_view_module_version": "1.2.0",
      "_view_name": "LayoutView",
      "align_content": null,
      "align_items": null,
      "align_self": null,
      "border": null,
      "bottom": null,
      "display": null,
      "flex": null,
      "flex_flow": null,
      "grid_area": null,
      "grid_auto_columns": null,
      "grid_auto_flow": null,
      "grid_auto_rows": null,
      "grid_column": null,
      "grid_gap": null,
      "grid_row": null,
      "grid_template_areas": null,
      "grid_template_columns": null,
      "grid_template_rows": null,
      "height": null,
      "justify_content": null,
      "justify_items": null,
      "left": null,
      "margin": null,
      "max_height": null,
      "max_width": null,
      "min_height": null,
      "min_width": null,
      "object_fit": null,
      "object_position": null,
      "order": null,
      "overflow": null,
      "overflow_x": null,
      "overflow_y": null,
      "padding": null,
      "right": null,
      "top": null,
      "visibility": null,
      "width": null
     }
    },
    "10efcca902d742e191c18f249e74e8b5": {
     "model_module": "@jupyter-widgets/base",
     "model_name": "LayoutModel",
     "state": {
      "_model_module": "@jupyter-widgets/base",
      "_model_module_version": "1.2.0",
      "_model_name": "LayoutModel",
      "_view_count": null,
      "_view_module": "@jupyter-widgets/base",
      "_view_module_version": "1.2.0",
      "_view_name": "LayoutView",
      "align_content": null,
      "align_items": null,
      "align_self": null,
      "border": null,
      "bottom": null,
      "display": null,
      "flex": null,
      "flex_flow": null,
      "grid_area": null,
      "grid_auto_columns": null,
      "grid_auto_flow": null,
      "grid_auto_rows": null,
      "grid_column": null,
      "grid_gap": null,
      "grid_row": null,
      "grid_template_areas": null,
      "grid_template_columns": null,
      "grid_template_rows": null,
      "height": null,
      "justify_content": null,
      "justify_items": null,
      "left": null,
      "margin": null,
      "max_height": null,
      "max_width": null,
      "min_height": null,
      "min_width": null,
      "object_fit": null,
      "object_position": null,
      "order": null,
      "overflow": null,
      "overflow_x": null,
      "overflow_y": null,
      "padding": null,
      "right": null,
      "top": null,
      "visibility": null,
      "width": null
     }
    },
    "145a22ed5118483ba7fbb349ade5b159": {
     "model_module": "@jupyter-widgets/base",
     "model_name": "LayoutModel",
     "state": {
      "_model_module": "@jupyter-widgets/base",
      "_model_module_version": "1.2.0",
      "_model_name": "LayoutModel",
      "_view_count": null,
      "_view_module": "@jupyter-widgets/base",
      "_view_module_version": "1.2.0",
      "_view_name": "LayoutView",
      "align_content": null,
      "align_items": null,
      "align_self": null,
      "border": null,
      "bottom": null,
      "display": null,
      "flex": null,
      "flex_flow": null,
      "grid_area": null,
      "grid_auto_columns": null,
      "grid_auto_flow": null,
      "grid_auto_rows": null,
      "grid_column": null,
      "grid_gap": null,
      "grid_row": null,
      "grid_template_areas": null,
      "grid_template_columns": null,
      "grid_template_rows": null,
      "height": null,
      "justify_content": null,
      "justify_items": null,
      "left": null,
      "margin": null,
      "max_height": null,
      "max_width": null,
      "min_height": null,
      "min_width": null,
      "object_fit": null,
      "object_position": null,
      "order": null,
      "overflow": null,
      "overflow_x": null,
      "overflow_y": null,
      "padding": null,
      "right": null,
      "top": null,
      "visibility": null,
      "width": null
     }
    },
    "238a9eb8241b4566b101697783e4ddb4": {
     "model_module": "@jupyter-widgets/controls",
     "model_name": "ProgressStyleModel",
     "state": {
      "_model_module": "@jupyter-widgets/controls",
      "_model_module_version": "1.5.0",
      "_model_name": "ProgressStyleModel",
      "_view_count": null,
      "_view_module": "@jupyter-widgets/base",
      "_view_module_version": "1.2.0",
      "_view_name": "StyleView",
      "bar_color": null,
      "description_width": ""
     }
    },
    "2bc5853b9c76404fad6d0d4e2d448021": {
     "model_module": "@jupyter-widgets/controls",
     "model_name": "HTMLModel",
     "state": {
      "_dom_classes": [],
      "_model_module": "@jupyter-widgets/controls",
      "_model_module_version": "1.5.0",
      "_model_name": "HTMLModel",
      "_view_count": null,
      "_view_module": "@jupyter-widgets/controls",
      "_view_module_version": "1.5.0",
      "_view_name": "HTMLView",
      "description": "",
      "description_tooltip": null,
      "layout": "IPY_MODEL_570ede6084814bafaf844e1ac6d91b12",
      "placeholder": "​",
      "style": "IPY_MODEL_6e9c93e1bf384ed6b3578e6e2f011a26",
      "value": " 170500096/? [00:23&lt;00:00, 7267710.68it/s]"
     }
    },
    "2bdd6737284940b3adefb3fd744b996d": {
     "model_module": "@jupyter-widgets/controls",
     "model_name": "HTMLModel",
     "state": {
      "_dom_classes": [],
      "_model_module": "@jupyter-widgets/controls",
      "_model_module_version": "1.5.0",
      "_model_name": "HTMLModel",
      "_view_count": null,
      "_view_module": "@jupyter-widgets/controls",
      "_view_module_version": "1.5.0",
      "_view_name": "HTMLView",
      "description": "",
      "description_tooltip": null,
      "layout": "IPY_MODEL_37e63950176747f8ab42ad98dce60deb",
      "placeholder": "​",
      "style": "IPY_MODEL_6643ec67a43145fe80b2a292a8a2fa13",
      "value": "Epoch   1: 100%"
     }
    },
    "2d65e751adcf4efaaca5483d007239a1": {
     "model_module": "@jupyter-widgets/base",
     "model_name": "LayoutModel",
     "state": {
      "_model_module": "@jupyter-widgets/base",
      "_model_module_version": "1.2.0",
      "_model_name": "LayoutModel",
      "_view_count": null,
      "_view_module": "@jupyter-widgets/base",
      "_view_module_version": "1.2.0",
      "_view_name": "LayoutView",
      "align_content": null,
      "align_items": null,
      "align_self": null,
      "border": null,
      "bottom": null,
      "display": null,
      "flex": null,
      "flex_flow": null,
      "grid_area": null,
      "grid_auto_columns": null,
      "grid_auto_flow": null,
      "grid_auto_rows": null,
      "grid_column": null,
      "grid_gap": null,
      "grid_row": null,
      "grid_template_areas": null,
      "grid_template_columns": null,
      "grid_template_rows": null,
      "height": null,
      "justify_content": null,
      "justify_items": null,
      "left": null,
      "margin": null,
      "max_height": null,
      "max_width": null,
      "min_height": null,
      "min_width": null,
      "object_fit": null,
      "object_position": null,
      "order": null,
      "overflow": null,
      "overflow_x": null,
      "overflow_y": null,
      "padding": null,
      "right": null,
      "top": null,
      "visibility": null,
      "width": null
     }
    },
    "310df887ccf14a659b8df6077f1d161a": {
     "model_module": "@jupyter-widgets/base",
     "model_name": "LayoutModel",
     "state": {
      "_model_module": "@jupyter-widgets/base",
      "_model_module_version": "1.2.0",
      "_model_name": "LayoutModel",
      "_view_count": null,
      "_view_module": "@jupyter-widgets/base",
      "_view_module_version": "1.2.0",
      "_view_name": "LayoutView",
      "align_content": null,
      "align_items": null,
      "align_self": null,
      "border": null,
      "bottom": null,
      "display": null,
      "flex": null,
      "flex_flow": null,
      "grid_area": null,
      "grid_auto_columns": null,
      "grid_auto_flow": null,
      "grid_auto_rows": null,
      "grid_column": null,
      "grid_gap": null,
      "grid_row": null,
      "grid_template_areas": null,
      "grid_template_columns": null,
      "grid_template_rows": null,
      "height": null,
      "justify_content": null,
      "justify_items": null,
      "left": null,
      "margin": null,
      "max_height": null,
      "max_width": null,
      "min_height": null,
      "min_width": null,
      "object_fit": null,
      "object_position": null,
      "order": null,
      "overflow": null,
      "overflow_x": null,
      "overflow_y": null,
      "padding": null,
      "right": null,
      "top": null,
      "visibility": null,
      "width": null
     }
    },
    "3225d5b0ba874505b4bf16a50749f6e0": {
     "model_module": "@jupyter-widgets/controls",
     "model_name": "DescriptionStyleModel",
     "state": {
      "_model_module": "@jupyter-widgets/controls",
      "_model_module_version": "1.5.0",
      "_model_name": "DescriptionStyleModel",
      "_view_count": null,
      "_view_module": "@jupyter-widgets/base",
      "_view_module_version": "1.2.0",
      "_view_name": "StyleView",
      "description_width": ""
     }
    },
    "330eb16d69d04d5faec67c095a84546f": {
     "model_module": "@jupyter-widgets/controls",
     "model_name": "DescriptionStyleModel",
     "state": {
      "_model_module": "@jupyter-widgets/controls",
      "_model_module_version": "1.5.0",
      "_model_name": "DescriptionStyleModel",
      "_view_count": null,
      "_view_module": "@jupyter-widgets/base",
      "_view_module_version": "1.2.0",
      "_view_name": "StyleView",
      "description_width": ""
     }
    },
    "372826b27c59492ab14386a4b94a883d": {
     "model_module": "@jupyter-widgets/controls",
     "model_name": "DescriptionStyleModel",
     "state": {
      "_model_module": "@jupyter-widgets/controls",
      "_model_module_version": "1.5.0",
      "_model_name": "DescriptionStyleModel",
      "_view_count": null,
      "_view_module": "@jupyter-widgets/base",
      "_view_module_version": "1.2.0",
      "_view_name": "StyleView",
      "description_width": ""
     }
    },
    "37e63950176747f8ab42ad98dce60deb": {
     "model_module": "@jupyter-widgets/base",
     "model_name": "LayoutModel",
     "state": {
      "_model_module": "@jupyter-widgets/base",
      "_model_module_version": "1.2.0",
      "_model_name": "LayoutModel",
      "_view_count": null,
      "_view_module": "@jupyter-widgets/base",
      "_view_module_version": "1.2.0",
      "_view_name": "LayoutView",
      "align_content": null,
      "align_items": null,
      "align_self": null,
      "border": null,
      "bottom": null,
      "display": null,
      "flex": null,
      "flex_flow": null,
      "grid_area": null,
      "grid_auto_columns": null,
      "grid_auto_flow": null,
      "grid_auto_rows": null,
      "grid_column": null,
      "grid_gap": null,
      "grid_row": null,
      "grid_template_areas": null,
      "grid_template_columns": null,
      "grid_template_rows": null,
      "height": null,
      "justify_content": null,
      "justify_items": null,
      "left": null,
      "margin": null,
      "max_height": null,
      "max_width": null,
      "min_height": null,
      "min_width": null,
      "object_fit": null,
      "object_position": null,
      "order": null,
      "overflow": null,
      "overflow_x": null,
      "overflow_y": null,
      "padding": null,
      "right": null,
      "top": null,
      "visibility": null,
      "width": null
     }
    },
    "39e59e3fc3754182b37767078f24b6c8": {
     "model_module": "@jupyter-widgets/controls",
     "model_name": "FloatProgressModel",
     "state": {
      "_dom_classes": [],
      "_model_module": "@jupyter-widgets/controls",
      "_model_module_version": "1.5.0",
      "_model_name": "FloatProgressModel",
      "_view_count": null,
      "_view_module": "@jupyter-widgets/controls",
      "_view_module_version": "1.5.0",
      "_view_name": "ProgressView",
      "bar_style": "success",
      "description": "",
      "description_tooltip": null,
      "layout": "IPY_MODEL_5ee5a94c435c46b8a66f665d3a9e6400",
      "max": 20,
      "min": 0,
      "orientation": "horizontal",
      "style": "IPY_MODEL_43c647542e5a4283a4bd54d378f52467",
      "value": 20
     }
    },
    "4252c85a8aa44383b954c68a455639ef": {
     "model_module": "@jupyter-widgets/controls",
     "model_name": "HBoxModel",
     "state": {
      "_dom_classes": [],
      "_model_module": "@jupyter-widgets/controls",
      "_model_module_version": "1.5.0",
      "_model_name": "HBoxModel",
      "_view_count": null,
      "_view_module": "@jupyter-widgets/controls",
      "_view_module_version": "1.5.0",
      "_view_name": "HBoxView",
      "box_style": "",
      "children": [
       "IPY_MODEL_564e5988a96d4f6e923cc88217f548f2",
       "IPY_MODEL_39e59e3fc3754182b37767078f24b6c8",
       "IPY_MODEL_834dc96b42b24423b91677d4f6f5f4ed"
      ],
      "layout": "IPY_MODEL_f4e96d274e4d4098a6d3cc271d6f521a"
     }
    },
    "43c647542e5a4283a4bd54d378f52467": {
     "model_module": "@jupyter-widgets/controls",
     "model_name": "ProgressStyleModel",
     "state": {
      "_model_module": "@jupyter-widgets/controls",
      "_model_module_version": "1.5.0",
      "_model_name": "ProgressStyleModel",
      "_view_count": null,
      "_view_module": "@jupyter-widgets/base",
      "_view_module_version": "1.2.0",
      "_view_name": "StyleView",
      "bar_color": null,
      "description_width": ""
     }
    },
    "4ad1ccbec3ff4fa48822975a9956973d": {
     "model_module": "@jupyter-widgets/controls",
     "model_name": "HTMLModel",
     "state": {
      "_dom_classes": [],
      "_model_module": "@jupyter-widgets/controls",
      "_model_module_version": "1.5.0",
      "_model_name": "HTMLModel",
      "_view_count": null,
      "_view_module": "@jupyter-widgets/controls",
      "_view_module_version": "1.5.0",
      "_view_name": "HTMLView",
      "description": "",
      "description_tooltip": null,
      "layout": "IPY_MODEL_2d65e751adcf4efaaca5483d007239a1",
      "placeholder": "​",
      "style": "IPY_MODEL_5a0a0d02c9ac47baa3c7a6a1ce5b23f6",
      "value": "Epoch   2:  26%"
     }
    },
    "564e5988a96d4f6e923cc88217f548f2": {
     "model_module": "@jupyter-widgets/controls",
     "model_name": "HTMLModel",
     "state": {
      "_dom_classes": [],
      "_model_module": "@jupyter-widgets/controls",
      "_model_module_version": "1.5.0",
      "_model_name": "HTMLModel",
      "_view_count": null,
      "_view_module": "@jupyter-widgets/controls",
      "_view_module_version": "1.5.0",
      "_view_name": "HTMLView",
      "description": "",
      "description_tooltip": null,
      "layout": "IPY_MODEL_0d31376e51c146f9af054ecd81305868",
      "placeholder": "​",
      "style": "IPY_MODEL_330eb16d69d04d5faec67c095a84546f",
      "value": "Epoch   1: 100%"
     }
    },
    "565231fddcbc4c7a8708bf4da3f141ca": {
     "model_module": "@jupyter-widgets/base",
     "model_name": "LayoutModel",
     "state": {
      "_model_module": "@jupyter-widgets/base",
      "_model_module_version": "1.2.0",
      "_model_name": "LayoutModel",
      "_view_count": null,
      "_view_module": "@jupyter-widgets/base",
      "_view_module_version": "1.2.0",
      "_view_name": "LayoutView",
      "align_content": null,
      "align_items": null,
      "align_self": null,
      "border": null,
      "bottom": null,
      "display": null,
      "flex": null,
      "flex_flow": null,
      "grid_area": null,
      "grid_auto_columns": null,
      "grid_auto_flow": null,
      "grid_auto_rows": null,
      "grid_column": null,
      "grid_gap": null,
      "grid_row": null,
      "grid_template_areas": null,
      "grid_template_columns": null,
      "grid_template_rows": null,
      "height": null,
      "justify_content": null,
      "justify_items": null,
      "left": null,
      "margin": null,
      "max_height": null,
      "max_width": null,
      "min_height": null,
      "min_width": null,
      "object_fit": null,
      "object_position": null,
      "order": null,
      "overflow": null,
      "overflow_x": null,
      "overflow_y": null,
      "padding": null,
      "right": null,
      "top": null,
      "visibility": null,
      "width": "20px"
     }
    },
    "570ede6084814bafaf844e1ac6d91b12": {
     "model_module": "@jupyter-widgets/base",
     "model_name": "LayoutModel",
     "state": {
      "_model_module": "@jupyter-widgets/base",
      "_model_module_version": "1.2.0",
      "_model_name": "LayoutModel",
      "_view_count": null,
      "_view_module": "@jupyter-widgets/base",
      "_view_module_version": "1.2.0",
      "_view_name": "LayoutView",
      "align_content": null,
      "align_items": null,
      "align_self": null,
      "border": null,
      "bottom": null,
      "display": null,
      "flex": null,
      "flex_flow": null,
      "grid_area": null,
      "grid_auto_columns": null,
      "grid_auto_flow": null,
      "grid_auto_rows": null,
      "grid_column": null,
      "grid_gap": null,
      "grid_row": null,
      "grid_template_areas": null,
      "grid_template_columns": null,
      "grid_template_rows": null,
      "height": null,
      "justify_content": null,
      "justify_items": null,
      "left": null,
      "margin": null,
      "max_height": null,
      "max_width": null,
      "min_height": null,
      "min_width": null,
      "object_fit": null,
      "object_position": null,
      "order": null,
      "overflow": null,
      "overflow_x": null,
      "overflow_y": null,
      "padding": null,
      "right": null,
      "top": null,
      "visibility": null,
      "width": null
     }
    },
    "5a0a0d02c9ac47baa3c7a6a1ce5b23f6": {
     "model_module": "@jupyter-widgets/controls",
     "model_name": "DescriptionStyleModel",
     "state": {
      "_model_module": "@jupyter-widgets/controls",
      "_model_module_version": "1.5.0",
      "_model_name": "DescriptionStyleModel",
      "_view_count": null,
      "_view_module": "@jupyter-widgets/base",
      "_view_module_version": "1.2.0",
      "_view_name": "StyleView",
      "description_width": ""
     }
    },
    "5ee5a94c435c46b8a66f665d3a9e6400": {
     "model_module": "@jupyter-widgets/base",
     "model_name": "LayoutModel",
     "state": {
      "_model_module": "@jupyter-widgets/base",
      "_model_module_version": "1.2.0",
      "_model_name": "LayoutModel",
      "_view_count": null,
      "_view_module": "@jupyter-widgets/base",
      "_view_module_version": "1.2.0",
      "_view_name": "LayoutView",
      "align_content": null,
      "align_items": null,
      "align_self": null,
      "border": null,
      "bottom": null,
      "display": null,
      "flex": null,
      "flex_flow": null,
      "grid_area": null,
      "grid_auto_columns": null,
      "grid_auto_flow": null,
      "grid_auto_rows": null,
      "grid_column": null,
      "grid_gap": null,
      "grid_row": null,
      "grid_template_areas": null,
      "grid_template_columns": null,
      "grid_template_rows": null,
      "height": null,
      "justify_content": null,
      "justify_items": null,
      "left": null,
      "margin": null,
      "max_height": null,
      "max_width": null,
      "min_height": null,
      "min_width": null,
      "object_fit": null,
      "object_position": null,
      "order": null,
      "overflow": null,
      "overflow_x": null,
      "overflow_y": null,
      "padding": null,
      "right": null,
      "top": null,
      "visibility": null,
      "width": null
     }
    },
    "6643ec67a43145fe80b2a292a8a2fa13": {
     "model_module": "@jupyter-widgets/controls",
     "model_name": "DescriptionStyleModel",
     "state": {
      "_model_module": "@jupyter-widgets/controls",
      "_model_module_version": "1.5.0",
      "_model_name": "DescriptionStyleModel",
      "_view_count": null,
      "_view_module": "@jupyter-widgets/base",
      "_view_module_version": "1.2.0",
      "_view_name": "StyleView",
      "description_width": ""
     }
    },
    "6e9c93e1bf384ed6b3578e6e2f011a26": {
     "model_module": "@jupyter-widgets/controls",
     "model_name": "DescriptionStyleModel",
     "state": {
      "_model_module": "@jupyter-widgets/controls",
      "_model_module_version": "1.5.0",
      "_model_name": "DescriptionStyleModel",
      "_view_count": null,
      "_view_module": "@jupyter-widgets/base",
      "_view_module_version": "1.2.0",
      "_view_name": "StyleView",
      "description_width": ""
     }
    },
    "737fa627518849d5aa5e597ac7df3fc1": {
     "model_module": "@jupyter-widgets/controls",
     "model_name": "DescriptionStyleModel",
     "state": {
      "_model_module": "@jupyter-widgets/controls",
      "_model_module_version": "1.5.0",
      "_model_name": "DescriptionStyleModel",
      "_view_count": null,
      "_view_module": "@jupyter-widgets/base",
      "_view_module_version": "1.2.0",
      "_view_name": "StyleView",
      "description_width": ""
     }
    },
    "7b6039313fed47d4ada7ae59572486f1": {
     "model_module": "@jupyter-widgets/controls",
     "model_name": "HBoxModel",
     "state": {
      "_dom_classes": [],
      "_model_module": "@jupyter-widgets/controls",
      "_model_module_version": "1.5.0",
      "_model_name": "HBoxModel",
      "_view_count": null,
      "_view_module": "@jupyter-widgets/controls",
      "_view_module_version": "1.5.0",
      "_view_name": "HBoxView",
      "box_style": "",
      "children": [
       "IPY_MODEL_4ad1ccbec3ff4fa48822975a9956973d",
       "IPY_MODEL_dd044515d2e142e88d2952ffd008b1a5",
       "IPY_MODEL_d03e92be3a534504b059a1c53c72dc76"
      ],
      "layout": "IPY_MODEL_10efcca902d742e191c18f249e74e8b5"
     }
    },
    "834dc96b42b24423b91677d4f6f5f4ed": {
     "model_module": "@jupyter-widgets/controls",
     "model_name": "HTMLModel",
     "state": {
      "_dom_classes": [],
      "_model_module": "@jupyter-widgets/controls",
      "_model_module_version": "1.5.0",
      "_model_name": "HTMLModel",
      "_view_count": null,
      "_view_module": "@jupyter-widgets/controls",
      "_view_module_version": "1.5.0",
      "_view_name": "HTMLView",
      "description": "",
      "description_tooltip": null,
      "layout": "IPY_MODEL_145a22ed5118483ba7fbb349ade5b159",
      "placeholder": "​",
      "style": "IPY_MODEL_dd576e0992754ff0ab0e4420199e3c29",
      "value": " 20/20 [00:03&lt;00:00,  5.37batch/s]"
     }
    },
    "8c28ad0a4c0e454e98b32f48463727d0": {
     "model_module": "@jupyter-widgets/controls",
     "model_name": "ProgressStyleModel",
     "state": {
      "_model_module": "@jupyter-widgets/controls",
      "_model_module_version": "1.5.0",
      "_model_name": "ProgressStyleModel",
      "_view_count": null,
      "_view_module": "@jupyter-widgets/base",
      "_view_module_version": "1.2.0",
      "_view_name": "StyleView",
      "bar_color": null,
      "description_width": ""
     }
    },
    "8fd775c8aa74404c9728bb8a4929db5b": {
     "model_module": "@jupyter-widgets/base",
     "model_name": "LayoutModel",
     "state": {
      "_model_module": "@jupyter-widgets/base",
      "_model_module_version": "1.2.0",
      "_model_name": "LayoutModel",
      "_view_count": null,
      "_view_module": "@jupyter-widgets/base",
      "_view_module_version": "1.2.0",
      "_view_name": "LayoutView",
      "align_content": null,
      "align_items": null,
      "align_self": null,
      "border": null,
      "bottom": null,
      "display": null,
      "flex": null,
      "flex_flow": null,
      "grid_area": null,
      "grid_auto_columns": null,
      "grid_auto_flow": null,
      "grid_auto_rows": null,
      "grid_column": null,
      "grid_gap": null,
      "grid_row": null,
      "grid_template_areas": null,
      "grid_template_columns": null,
      "grid_template_rows": null,
      "height": null,
      "justify_content": null,
      "justify_items": null,
      "left": null,
      "margin": null,
      "max_height": null,
      "max_width": null,
      "min_height": null,
      "min_width": null,
      "object_fit": null,
      "object_position": null,
      "order": null,
      "overflow": null,
      "overflow_x": null,
      "overflow_y": null,
      "padding": null,
      "right": null,
      "top": null,
      "visibility": null,
      "width": null
     }
    },
    "a01d8cebf7824a02a905596dc374a029": {
     "model_module": "@jupyter-widgets/controls",
     "model_name": "HBoxModel",
     "state": {
      "_dom_classes": [],
      "_model_module": "@jupyter-widgets/controls",
      "_model_module_version": "1.5.0",
      "_model_name": "HBoxModel",
      "_view_count": null,
      "_view_module": "@jupyter-widgets/controls",
      "_view_module_version": "1.5.0",
      "_view_name": "HBoxView",
      "box_style": "",
      "children": [
       "IPY_MODEL_2bdd6737284940b3adefb3fd744b996d",
       "IPY_MODEL_f45f5dcb412845768cc50a76f1057fe9",
       "IPY_MODEL_b3120161490d422a83b7b4877acce85b"
      ],
      "layout": "IPY_MODEL_e48fca06216e43879568df6aae7f51da"
     }
    },
    "a17e581b7ec04b3fb99d4e2096158029": {
     "model_module": "@jupyter-widgets/base",
     "model_name": "LayoutModel",
     "state": {
      "_model_module": "@jupyter-widgets/base",
      "_model_module_version": "1.2.0",
      "_model_name": "LayoutModel",
      "_view_count": null,
      "_view_module": "@jupyter-widgets/base",
      "_view_module_version": "1.2.0",
      "_view_name": "LayoutView",
      "align_content": null,
      "align_items": null,
      "align_self": null,
      "border": null,
      "bottom": null,
      "display": null,
      "flex": null,
      "flex_flow": null,
      "grid_area": null,
      "grid_auto_columns": null,
      "grid_auto_flow": null,
      "grid_auto_rows": null,
      "grid_column": null,
      "grid_gap": null,
      "grid_row": null,
      "grid_template_areas": null,
      "grid_template_columns": null,
      "grid_template_rows": null,
      "height": null,
      "justify_content": null,
      "justify_items": null,
      "left": null,
      "margin": null,
      "max_height": null,
      "max_width": null,
      "min_height": null,
      "min_width": null,
      "object_fit": null,
      "object_position": null,
      "order": null,
      "overflow": null,
      "overflow_x": null,
      "overflow_y": null,
      "padding": null,
      "right": null,
      "top": null,
      "visibility": null,
      "width": null
     }
    },
    "a79eb03776634bf28f27b36cbd08e8e9": {
     "model_module": "@jupyter-widgets/controls",
     "model_name": "ProgressStyleModel",
     "state": {
      "_model_module": "@jupyter-widgets/controls",
      "_model_module_version": "1.5.0",
      "_model_name": "ProgressStyleModel",
      "_view_count": null,
      "_view_module": "@jupyter-widgets/base",
      "_view_module_version": "1.2.0",
      "_view_name": "StyleView",
      "bar_color": null,
      "description_width": ""
     }
    },
    "b3120161490d422a83b7b4877acce85b": {
     "model_module": "@jupyter-widgets/controls",
     "model_name": "HTMLModel",
     "state": {
      "_dom_classes": [],
      "_model_module": "@jupyter-widgets/controls",
      "_model_module_version": "1.5.0",
      "_model_name": "HTMLModel",
      "_view_count": null,
      "_view_module": "@jupyter-widgets/controls",
      "_view_module_version": "1.5.0",
      "_view_name": "HTMLView",
      "description": "",
      "description_tooltip": null,
      "layout": "IPY_MODEL_d1a4422931394a8f9acb28dcac46a414",
      "placeholder": "​",
      "style": "IPY_MODEL_3225d5b0ba874505b4bf16a50749f6e0",
      "value": " 78/78 [00:41&lt;00:00,  1.89batch/s]"
     }
    },
    "ba30d53c23414c4287dc5addf2e48383": {
     "model_module": "@jupyter-widgets/base",
     "model_name": "LayoutModel",
     "state": {
      "_model_module": "@jupyter-widgets/base",
      "_model_module_version": "1.2.0",
      "_model_name": "LayoutModel",
      "_view_count": null,
      "_view_module": "@jupyter-widgets/base",
      "_view_module_version": "1.2.0",
      "_view_name": "LayoutView",
      "align_content": null,
      "align_items": null,
      "align_self": null,
      "border": null,
      "bottom": null,
      "display": null,
      "flex": null,
      "flex_flow": null,
      "grid_area": null,
      "grid_auto_columns": null,
      "grid_auto_flow": null,
      "grid_auto_rows": null,
      "grid_column": null,
      "grid_gap": null,
      "grid_row": null,
      "grid_template_areas": null,
      "grid_template_columns": null,
      "grid_template_rows": null,
      "height": null,
      "justify_content": null,
      "justify_items": null,
      "left": null,
      "margin": null,
      "max_height": null,
      "max_width": null,
      "min_height": null,
      "min_width": null,
      "object_fit": null,
      "object_position": null,
      "order": null,
      "overflow": null,
      "overflow_x": null,
      "overflow_y": null,
      "padding": null,
      "right": null,
      "top": null,
      "visibility": null,
      "width": null
     }
    },
    "d03e92be3a534504b059a1c53c72dc76": {
     "model_module": "@jupyter-widgets/controls",
     "model_name": "HTMLModel",
     "state": {
      "_dom_classes": [],
      "_model_module": "@jupyter-widgets/controls",
      "_model_module_version": "1.5.0",
      "_model_name": "HTMLModel",
      "_view_count": null,
      "_view_module": "@jupyter-widgets/controls",
      "_view_module_version": "1.5.0",
      "_view_name": "HTMLView",
      "description": "",
      "description_tooltip": null,
      "layout": "IPY_MODEL_8fd775c8aa74404c9728bb8a4929db5b",
      "placeholder": "​",
      "style": "IPY_MODEL_372826b27c59492ab14386a4b94a883d",
      "value": " 20/78 [00:11&lt;00:34,  1.67batch/s]"
     }
    },
    "d19901a12eef4ec1990482ca8b0e59fd": {
     "model_module": "@jupyter-widgets/controls",
     "model_name": "HTMLModel",
     "state": {
      "_dom_classes": [],
      "_model_module": "@jupyter-widgets/controls",
      "_model_module_version": "1.5.0",
      "_model_name": "HTMLModel",
      "_view_count": null,
      "_view_module": "@jupyter-widgets/controls",
      "_view_module_version": "1.5.0",
      "_view_name": "HTMLView",
      "description": "",
      "description_tooltip": null,
      "layout": "IPY_MODEL_ef4ea00d081e4d37a8c5469bc3bc42b8",
      "placeholder": "​",
      "style": "IPY_MODEL_737fa627518849d5aa5e597ac7df3fc1",
      "value": ""
     }
    },
    "d1a4422931394a8f9acb28dcac46a414": {
     "model_module": "@jupyter-widgets/base",
     "model_name": "LayoutModel",
     "state": {
      "_model_module": "@jupyter-widgets/base",
      "_model_module_version": "1.2.0",
      "_model_name": "LayoutModel",
      "_view_count": null,
      "_view_module": "@jupyter-widgets/base",
      "_view_module_version": "1.2.0",
      "_view_name": "LayoutView",
      "align_content": null,
      "align_items": null,
      "align_self": null,
      "border": null,
      "bottom": null,
      "display": null,
      "flex": null,
      "flex_flow": null,
      "grid_area": null,
      "grid_auto_columns": null,
      "grid_auto_flow": null,
      "grid_auto_rows": null,
      "grid_column": null,
      "grid_gap": null,
      "grid_row": null,
      "grid_template_areas": null,
      "grid_template_columns": null,
      "grid_template_rows": null,
      "height": null,
      "justify_content": null,
      "justify_items": null,
      "left": null,
      "margin": null,
      "max_height": null,
      "max_width": null,
      "min_height": null,
      "min_width": null,
      "object_fit": null,
      "object_position": null,
      "order": null,
      "overflow": null,
      "overflow_x": null,
      "overflow_y": null,
      "padding": null,
      "right": null,
      "top": null,
      "visibility": null,
      "width": null
     }
    },
    "dd044515d2e142e88d2952ffd008b1a5": {
     "model_module": "@jupyter-widgets/controls",
     "model_name": "FloatProgressModel",
     "state": {
      "_dom_classes": [],
      "_model_module": "@jupyter-widgets/controls",
      "_model_module_version": "1.5.0",
      "_model_name": "FloatProgressModel",
      "_view_count": null,
      "_view_module": "@jupyter-widgets/controls",
      "_view_module_version": "1.5.0",
      "_view_name": "ProgressView",
      "bar_style": "danger",
      "description": "",
      "description_tooltip": null,
      "layout": "IPY_MODEL_a17e581b7ec04b3fb99d4e2096158029",
      "max": 78,
      "min": 0,
      "orientation": "horizontal",
      "style": "IPY_MODEL_a79eb03776634bf28f27b36cbd08e8e9",
      "value": 20
     }
    },
    "dd576e0992754ff0ab0e4420199e3c29": {
     "model_module": "@jupyter-widgets/controls",
     "model_name": "DescriptionStyleModel",
     "state": {
      "_model_module": "@jupyter-widgets/controls",
      "_model_module_version": "1.5.0",
      "_model_name": "DescriptionStyleModel",
      "_view_count": null,
      "_view_module": "@jupyter-widgets/base",
      "_view_module_version": "1.2.0",
      "_view_name": "StyleView",
      "description_width": ""
     }
    },
    "e48fca06216e43879568df6aae7f51da": {
     "model_module": "@jupyter-widgets/base",
     "model_name": "LayoutModel",
     "state": {
      "_model_module": "@jupyter-widgets/base",
      "_model_module_version": "1.2.0",
      "_model_name": "LayoutModel",
      "_view_count": null,
      "_view_module": "@jupyter-widgets/base",
      "_view_module_version": "1.2.0",
      "_view_name": "LayoutView",
      "align_content": null,
      "align_items": null,
      "align_self": null,
      "border": null,
      "bottom": null,
      "display": null,
      "flex": null,
      "flex_flow": null,
      "grid_area": null,
      "grid_auto_columns": null,
      "grid_auto_flow": null,
      "grid_auto_rows": null,
      "grid_column": null,
      "grid_gap": null,
      "grid_row": null,
      "grid_template_areas": null,
      "grid_template_columns": null,
      "grid_template_rows": null,
      "height": null,
      "justify_content": null,
      "justify_items": null,
      "left": null,
      "margin": null,
      "max_height": null,
      "max_width": null,
      "min_height": null,
      "min_width": null,
      "object_fit": null,
      "object_position": null,
      "order": null,
      "overflow": null,
      "overflow_x": null,
      "overflow_y": null,
      "padding": null,
      "right": null,
      "top": null,
      "visibility": null,
      "width": null
     }
    },
    "ecaf5ab7e50a4a5082ea52ec7490a13f": {
     "model_module": "@jupyter-widgets/controls",
     "model_name": "HBoxModel",
     "state": {
      "_dom_classes": [],
      "_model_module": "@jupyter-widgets/controls",
      "_model_module_version": "1.5.0",
      "_model_name": "HBoxModel",
      "_view_count": null,
      "_view_module": "@jupyter-widgets/controls",
      "_view_module_version": "1.5.0",
      "_view_name": "HBoxView",
      "box_style": "",
      "children": [
       "IPY_MODEL_d19901a12eef4ec1990482ca8b0e59fd",
       "IPY_MODEL_044aa8a57b61455eb77fbc1a37dbcd26",
       "IPY_MODEL_2bc5853b9c76404fad6d0d4e2d448021"
      ],
      "layout": "IPY_MODEL_ba30d53c23414c4287dc5addf2e48383"
     }
    },
    "ef4ea00d081e4d37a8c5469bc3bc42b8": {
     "model_module": "@jupyter-widgets/base",
     "model_name": "LayoutModel",
     "state": {
      "_model_module": "@jupyter-widgets/base",
      "_model_module_version": "1.2.0",
      "_model_name": "LayoutModel",
      "_view_count": null,
      "_view_module": "@jupyter-widgets/base",
      "_view_module_version": "1.2.0",
      "_view_name": "LayoutView",
      "align_content": null,
      "align_items": null,
      "align_self": null,
      "border": null,
      "bottom": null,
      "display": null,
      "flex": null,
      "flex_flow": null,
      "grid_area": null,
      "grid_auto_columns": null,
      "grid_auto_flow": null,
      "grid_auto_rows": null,
      "grid_column": null,
      "grid_gap": null,
      "grid_row": null,
      "grid_template_areas": null,
      "grid_template_columns": null,
      "grid_template_rows": null,
      "height": null,
      "justify_content": null,
      "justify_items": null,
      "left": null,
      "margin": null,
      "max_height": null,
      "max_width": null,
      "min_height": null,
      "min_width": null,
      "object_fit": null,
      "object_position": null,
      "order": null,
      "overflow": null,
      "overflow_x": null,
      "overflow_y": null,
      "padding": null,
      "right": null,
      "top": null,
      "visibility": null,
      "width": null
     }
    },
    "f45f5dcb412845768cc50a76f1057fe9": {
     "model_module": "@jupyter-widgets/controls",
     "model_name": "FloatProgressModel",
     "state": {
      "_dom_classes": [],
      "_model_module": "@jupyter-widgets/controls",
      "_model_module_version": "1.5.0",
      "_model_name": "FloatProgressModel",
      "_view_count": null,
      "_view_module": "@jupyter-widgets/controls",
      "_view_module_version": "1.5.0",
      "_view_name": "ProgressView",
      "bar_style": "success",
      "description": "",
      "description_tooltip": null,
      "layout": "IPY_MODEL_310df887ccf14a659b8df6077f1d161a",
      "max": 78,
      "min": 0,
      "orientation": "horizontal",
      "style": "IPY_MODEL_238a9eb8241b4566b101697783e4ddb4",
      "value": 78
     }
    },
    "f4e96d274e4d4098a6d3cc271d6f521a": {
     "model_module": "@jupyter-widgets/base",
     "model_name": "LayoutModel",
     "state": {
      "_model_module": "@jupyter-widgets/base",
      "_model_module_version": "1.2.0",
      "_model_name": "LayoutModel",
      "_view_count": null,
      "_view_module": "@jupyter-widgets/base",
      "_view_module_version": "1.2.0",
      "_view_name": "LayoutView",
      "align_content": null,
      "align_items": null,
      "align_self": null,
      "border": null,
      "bottom": null,
      "display": null,
      "flex": null,
      "flex_flow": null,
      "grid_area": null,
      "grid_auto_columns": null,
      "grid_auto_flow": null,
      "grid_auto_rows": null,
      "grid_column": null,
      "grid_gap": null,
      "grid_row": null,
      "grid_template_areas": null,
      "grid_template_columns": null,
      "grid_template_rows": null,
      "height": null,
      "justify_content": null,
      "justify_items": null,
      "left": null,
      "margin": null,
      "max_height": null,
      "max_width": null,
      "min_height": null,
      "min_width": null,
      "object_fit": null,
      "object_position": null,
      "order": null,
      "overflow": null,
      "overflow_x": null,
      "overflow_y": null,
      "padding": null,
      "right": null,
      "top": null,
      "visibility": null,
      "width": null
     }
    }
   }
  }
 },
 "nbformat": 4,
 "nbformat_minor": 4
}
