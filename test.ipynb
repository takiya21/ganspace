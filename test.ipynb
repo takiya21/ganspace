{
 "cells": [
  {
   "cell_type": "code",
   "execution_count": 1,
   "metadata": {},
   "outputs": [
    {
     "name": "stderr",
     "output_type": "stream",
     "text": [
      "/home/taki/miniconda3/envs/stylegan2/lib/python3.8/site-packages/tqdm/auto.py:22: TqdmWarning: IProgress not found. Please update jupyter and ipywidgets. See https://ipywidgets.readthedocs.io/en/stable/user_install.html\n",
      "  from .autonotebook import tqdm as notebook_tqdm\n"
     ]
    },
    {
     "name": "stdout",
     "output_type": "stream",
     "text": [
      "StyleGAN2: Optimized CUDA op FusedLeakyReLU not available, using native PyTorch fallback.\n",
      "StyleGAN2: Optimized CUDA op UpFirDn2d not available, using native PyTorch fallback.\n"
     ]
    }
   ],
   "source": [
    "import os\n",
    "os.environ['FOR_DISABLE_CONSOLE_CTRL_HANDLER'] = '1'\n",
    "\n",
    "import torch, json, numpy as np\n",
    "from types import SimpleNamespace\n",
    "import matplotlib.pyplot as plt\n",
    "from pathlib import Path\n",
    "from os import makedirs\n",
    "from PIL import Image\n",
    "from netdissect import proggan, nethook, easydict, zdataset\n",
    "from netdissect.modelconfig import create_instrumented_model\n",
    "from estimators import get_estimator\n",
    "from models import get_instrumented_model\n",
    "from scipy.cluster.vq import kmeans\n",
    "import re\n",
    "import sys\n",
    "import datetime\n",
    "import argparse\n",
    "from tqdm import trange\n",
    "from config import Config\n",
    "from decomposition import get_random_dirs, get_or_compute, get_max_batch_size, SEED_VISUALIZATION\n",
    "from utils import pad_frames "
   ]
  },
  {
   "cell_type": "code",
   "execution_count": 9,
   "metadata": {},
   "outputs": [],
   "source": [
    "global max_batch, sample_shape, feature_shape, inst, args, layer_key, model\n",
    "\n",
    "model = \"StyleGAN2\"\n",
    "output_class = \"egg\"\n",
    "layer_key = \"style\"\n",
    "device = torch.device('cuda')\n",
    "use_w = True\n",
    "\n",
    "inst = get_instrumented_model(model, output_class, layer_key, device, use_w=use_w)\n",
    "model = inst.model"
   ]
  },
  {
   "cell_type": "code",
   "execution_count": 10,
   "metadata": {},
   "outputs": [
    {
     "data": {
      "text/plain": [
       "StyleGAN2(\n",
       "  (model): Generator(\n",
       "    (style): Sequential(\n",
       "      (0): PixelNorm()\n",
       "      (1): EqualLinear(512, 512)\n",
       "      (2): EqualLinear(512, 512)\n",
       "      (3): EqualLinear(512, 512)\n",
       "      (4): EqualLinear(512, 512)\n",
       "      (5): EqualLinear(512, 512)\n",
       "      (6): EqualLinear(512, 512)\n",
       "      (7): EqualLinear(512, 512)\n",
       "      (8): EqualLinear(512, 512)\n",
       "    )\n",
       "    (input): ConstantInput()\n",
       "    (conv1): StyledConv(\n",
       "      (conv): ModulatedConv2d(512, 512, 3, upsample=False, downsample=False)\n",
       "      (noise): NoiseInjection()\n",
       "      (activate): FusedLeakyReLU()\n",
       "    )\n",
       "    (to_rgb1): ToRGB(\n",
       "      (conv): ModulatedConv2d(512, 3, 1, upsample=False, downsample=False)\n",
       "    )\n",
       "    (convs): ModuleList(\n",
       "      (0): StyledConv(\n",
       "        (conv): ModulatedConv2d(512, 512, 3, upsample=True, downsample=False)\n",
       "        (noise): NoiseInjection()\n",
       "        (activate): FusedLeakyReLU()\n",
       "      )\n",
       "      (1): StyledConv(\n",
       "        (conv): ModulatedConv2d(512, 512, 3, upsample=False, downsample=False)\n",
       "        (noise): NoiseInjection()\n",
       "        (activate): FusedLeakyReLU()\n",
       "      )\n",
       "      (2): StyledConv(\n",
       "        (conv): ModulatedConv2d(512, 512, 3, upsample=True, downsample=False)\n",
       "        (noise): NoiseInjection()\n",
       "        (activate): FusedLeakyReLU()\n",
       "      )\n",
       "      (3): StyledConv(\n",
       "        (conv): ModulatedConv2d(512, 512, 3, upsample=False, downsample=False)\n",
       "        (noise): NoiseInjection()\n",
       "        (activate): FusedLeakyReLU()\n",
       "      )\n",
       "      (4): StyledConv(\n",
       "        (conv): ModulatedConv2d(512, 512, 3, upsample=True, downsample=False)\n",
       "        (noise): NoiseInjection()\n",
       "        (activate): FusedLeakyReLU()\n",
       "      )\n",
       "      (5): StyledConv(\n",
       "        (conv): ModulatedConv2d(512, 512, 3, upsample=False, downsample=False)\n",
       "        (noise): NoiseInjection()\n",
       "        (activate): FusedLeakyReLU()\n",
       "      )\n",
       "      (6): StyledConv(\n",
       "        (conv): ModulatedConv2d(512, 512, 3, upsample=True, downsample=False)\n",
       "        (noise): NoiseInjection()\n",
       "        (activate): FusedLeakyReLU()\n",
       "      )\n",
       "      (7): StyledConv(\n",
       "        (conv): ModulatedConv2d(512, 512, 3, upsample=False, downsample=False)\n",
       "        (noise): NoiseInjection()\n",
       "        (activate): FusedLeakyReLU()\n",
       "      )\n",
       "      (8): StyledConv(\n",
       "        (conv): ModulatedConv2d(512, 256, 3, upsample=True, downsample=False)\n",
       "        (noise): NoiseInjection()\n",
       "        (activate): FusedLeakyReLU()\n",
       "      )\n",
       "      (9): StyledConv(\n",
       "        (conv): ModulatedConv2d(256, 256, 3, upsample=False, downsample=False)\n",
       "        (noise): NoiseInjection()\n",
       "        (activate): FusedLeakyReLU()\n",
       "      )\n",
       "      (10): StyledConv(\n",
       "        (conv): ModulatedConv2d(256, 128, 3, upsample=True, downsample=False)\n",
       "        (noise): NoiseInjection()\n",
       "        (activate): FusedLeakyReLU()\n",
       "      )\n",
       "      (11): StyledConv(\n",
       "        (conv): ModulatedConv2d(128, 128, 3, upsample=False, downsample=False)\n",
       "        (noise): NoiseInjection()\n",
       "        (activate): FusedLeakyReLU()\n",
       "      )\n",
       "    )\n",
       "    (upsamples): ModuleList()\n",
       "    (to_rgbs): ModuleList(\n",
       "      (0): ToRGB(\n",
       "        (upsample): Upsample()\n",
       "        (conv): ModulatedConv2d(512, 3, 1, upsample=False, downsample=False)\n",
       "      )\n",
       "      (1): ToRGB(\n",
       "        (upsample): Upsample()\n",
       "        (conv): ModulatedConv2d(512, 3, 1, upsample=False, downsample=False)\n",
       "      )\n",
       "      (2): ToRGB(\n",
       "        (upsample): Upsample()\n",
       "        (conv): ModulatedConv2d(512, 3, 1, upsample=False, downsample=False)\n",
       "      )\n",
       "      (3): ToRGB(\n",
       "        (upsample): Upsample()\n",
       "        (conv): ModulatedConv2d(512, 3, 1, upsample=False, downsample=False)\n",
       "      )\n",
       "      (4): ToRGB(\n",
       "        (upsample): Upsample()\n",
       "        (conv): ModulatedConv2d(256, 3, 1, upsample=False, downsample=False)\n",
       "      )\n",
       "      (5): ToRGB(\n",
       "        (upsample): Upsample()\n",
       "        (conv): ModulatedConv2d(128, 3, 1, upsample=False, downsample=False)\n",
       "      )\n",
       "    )\n",
       "    (noises): Module()\n",
       "    (strided_style): StridedStyle(\n",
       "      (0): NamedTensor()\n",
       "      (1): NamedTensor()\n",
       "      (2): NamedTensor()\n",
       "      (3): NamedTensor()\n",
       "      (4): NamedTensor()\n",
       "      (5): NamedTensor()\n",
       "      (6): NamedTensor()\n",
       "      (7): NamedTensor()\n",
       "      (8): NamedTensor()\n",
       "      (9): NamedTensor()\n",
       "      (10): NamedTensor()\n",
       "      (11): NamedTensor()\n",
       "      (12): NamedTensor()\n",
       "      (13): NamedTensor()\n",
       "    )\n",
       "  )\n",
       ")"
      ]
     },
     "execution_count": 10,
     "metadata": {},
     "output_type": "execute_result"
    }
   ],
   "source": [
    "model"
   ]
  },
  {
   "cell_type": "code",
   "execution_count": 11,
   "metadata": {},
   "outputs": [
    {
     "name": "stdout",
     "output_type": "stream",
     "text": [
      "Feature shape: torch.Size([1, 512])\n",
      "Latent shape: (1, 512)\n"
     ]
    }
   ],
   "source": [
    "feature_shape = inst.feature_shape[layer_key]\n",
    "latent_shape = model.get_latent_shape()\n",
    "print('Feature shape:', feature_shape)\n",
    "print('Latent shape:', latent_shape)\n"
   ]
  },
  {
   "cell_type": "code",
   "execution_count": 17,
   "metadata": {},
   "outputs": [],
   "source": [
    "# Layout of activations\n",
    "if len(feature_shape) != 4: # non-spatial\n",
    "    axis_mask = np.ones(len(feature_shape), dtype=np.int32)\n",
    "else:\n",
    "    axis_mask = np.array([0, 1, 1, 1]) # only batch fixed => whole activation volume used\n",
    "\n",
    "# Shape of sample passed to PCA\n",
    "sample_shape = feature_shape*axis_mask\n",
    "sample_shape[sample_shape == 0] = 1"
   ]
  },
  {
   "cell_type": "code",
   "execution_count": 26,
   "metadata": {},
   "outputs": [],
   "source": [
    "model.use_w()"
   ]
  },
  {
   "cell_type": "code",
   "execution_count": 40,
   "metadata": {},
   "outputs": [],
   "source": [
    "B = 10000\n",
    "N = 300000\n",
    "NB = 10000\n",
    "n_lat = ((N + NB - 1) // B + 1) * B\n",
    "inst.retain_layer(layer_key)\n",
    "model.partial_forward(model.sample_latent(1), layer_key)\n",
    "sample_shape = inst.retained_features()[layer_key].shape\n",
    "sample_dims = np.prod(sample_shape)"
   ]
  },
  {
   "cell_type": "code",
   "execution_count": 33,
   "metadata": {},
   "outputs": [],
   "source": [
    "input_shape = inst.model.get_latent_shape()\n",
    "input_dims = inst.model.get_latent_dims()"
   ]
  },
  {
   "cell_type": "code",
   "execution_count": 34,
   "metadata": {},
   "outputs": [
    {
     "data": {
      "text/plain": [
       "512"
      ]
     },
     "execution_count": 34,
     "metadata": {},
     "output_type": "execute_result"
    }
   ],
   "source": [
    "input_dims"
   ]
  },
  {
   "cell_type": "code",
   "execution_count": 28,
   "metadata": {},
   "outputs": [
    {
     "name": "stdout",
     "output_type": "stream",
     "text": [
      "Feature shape: torch.Size([1, 512])\n"
     ]
    }
   ],
   "source": [
    "print('Feature shape:', sample_shape)"
   ]
  },
  {
   "cell_type": "code",
   "execution_count": 35,
   "metadata": {},
   "outputs": [
    {
     "data": {
      "text/plain": [
       "512"
      ]
     },
     "execution_count": 35,
     "metadata": {},
     "output_type": "execute_result"
    }
   ],
   "source": [
    "sample_dims"
   ]
  },
  {
   "cell_type": "code",
   "execution_count": 42,
   "metadata": {},
   "outputs": [],
   "source": [
    "latents = np.zeros((n_lat, *input_shape[1:]), dtype=np.float32)"
   ]
  },
  {
   "cell_type": "code",
   "execution_count": 43,
   "metadata": {},
   "outputs": [
    {
     "data": {
      "text/plain": [
       "(310000, 512)"
      ]
     },
     "execution_count": 43,
     "metadata": {},
     "output_type": "execute_result"
    }
   ],
   "source": [
    "latents.shape"
   ]
  },
  {
   "cell_type": "code",
   "execution_count": 48,
   "metadata": {},
   "outputs": [
    {
     "name": "stderr",
     "output_type": "stream",
     "text": [
      "Sampling latents: 100%|██████████| 31/31 [00:03<00:00,  9.86it/s]\n"
     ]
    }
   ],
   "source": [
    "with torch.no_grad():\n",
    "    for i in trange(n_lat // B, desc='Sampling latents'):\n",
    "        latents[i*B:(i+1)*B] = model.sample_latent(n_samples=B).cpu().numpy()"
   ]
  },
  {
   "cell_type": "code",
   "execution_count": 50,
   "metadata": {},
   "outputs": [
    {
     "data": {
      "text/plain": [
       "(310000, 512)"
      ]
     },
     "execution_count": 50,
     "metadata": {},
     "output_type": "execute_result"
    }
   ],
   "source": [
    "latents.shape"
   ]
  },
  {
   "cell_type": "code",
   "execution_count": 56,
   "metadata": {},
   "outputs": [],
   "source": [
    "samples_are_latents = layer_key in ['g_mapping', 'style'] and inst.model.latent_space_name() == 'W'"
   ]
  },
  {
   "cell_type": "code",
   "execution_count": 58,
   "metadata": {},
   "outputs": [
    {
     "data": {
      "text/plain": [
       "'W'"
      ]
     },
     "execution_count": 58,
     "metadata": {},
     "output_type": "execute_result"
    }
   ],
   "source": [
    "inst.model.latent_space_name()"
   ]
  },
  {
   "cell_type": "code",
   "execution_count": 60,
   "metadata": {},
   "outputs": [
    {
     "data": {
      "text/plain": [
       "(10000, 512)"
      ]
     },
     "execution_count": 60,
     "metadata": {},
     "output_type": "execute_result"
    }
   ],
   "source": [
    "X = np.ones((NB, sample_dims), dtype=np.float32)\n",
    "X.shape"
   ]
  },
  {
   "cell_type": "code",
   "execution_count": null,
   "metadata": {},
   "outputs": [],
   "source": []
  }
 ],
 "metadata": {
  "kernelspec": {
   "display_name": "pg",
   "language": "python",
   "name": "python3"
  },
  "language_info": {
   "codemirror_mode": {
    "name": "ipython",
    "version": 3
   },
   "file_extension": ".py",
   "mimetype": "text/x-python",
   "name": "python",
   "nbconvert_exporter": "python",
   "pygments_lexer": "ipython3",
   "version": "3.8.5"
  },
  "orig_nbformat": 4
 },
 "nbformat": 4,
 "nbformat_minor": 2
}
