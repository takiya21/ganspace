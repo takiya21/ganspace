{
 "cells": [
  {
   "cell_type": "code",
   "execution_count": null,
   "id": "c7b9ac50-d9a4-4a20-b254-ae057259f063",
   "metadata": {},
   "outputs": [],
   "source": [
    "from IPython.utils import io\n",
    "import torch\n",
    "import cv2\n",
    "import PIL\n",
    "import imageio\n",
    "import pickle\n",
    "import os\n",
    "import numpy as np\n",
    "import random\n",
    "import ipywidgets as widgets\n",
    "import matplotlib.pyplot as plt\n",
    "from PIL import Image\n",
    "from models import get_instrumented_model\n",
    "from decomposition import get_or_compute\n",
    "from config import Config\n",
    "from skimage import img_as_ubyte\n",
    "from ipywidgets import fixed"
   ]
  },
  {
   "cell_type": "code",
   "execution_count": null,
   "id": "ba787360",
   "metadata": {},
   "outputs": [],
   "source": [
    "%cd /home/taki/ganspace"
   ]
  },
  {
   "cell_type": "markdown",
   "id": "4afa4aab-72bf-4be2-b361-c0766085fd1a",
   "metadata": {},
   "source": [
    "### Load model"
   ]
  },
  {
   "cell_type": "code",
   "execution_count": null,
   "id": "fab4dd43-1b3b-4d19-bca7-4878ecfdc79c",
   "metadata": {},
   "outputs": [],
   "source": [
    "# Speed up computation\n",
    "torch.autograd.set_grad_enabled(False)\n",
    "torch.backends.cudnn.benchmark = True\n",
    "\n",
    "# Specify model to use\n",
    "config = Config(\n",
    "  model='StyleGAN2',\n",
    "  layer='style',\n",
    "  output_class='egg',\n",
    "  components=80,\n",
    "  use_w=True,\n",
    "  n=1_000_000,\n",
    "  batch_size=10_000, # style layer quite small\n",
    ")\n",
    "\n",
    "# config = Config(\n",
    "#   model='StyleGAN2',\n",
    "#   layer='style',\n",
    "#   output_class='ffhq',\n",
    "#   components=80,\n",
    "#   use_w=True,}\n",
    "#   n=1_000_000,\n",
    "#   batch_size=10_000, # style layer quite small\n",
    "# )\n",
    "\n",
    "\n",
    "inst = get_instrumented_model(config.model, config.output_class,\n",
    "                              config.layer, torch.device('cuda'), use_w=config.use_w)\n",
    "\n",
    "path_to_components = get_or_compute(config, inst)\n",
    "\n",
    "model = inst.model\n",
    "with open(str(os.path.split(path_to_components)[0]) + '/pca_model.pkl', mode='rb') as f:\n",
    "    transformer = pickle.load(f)\n",
    "\n",
    "named_directions = {} #init named_directions dict to save directions"
   ]
  },
  {
   "cell_type": "markdown",
   "id": "63710d4e-30e1-4d11-a3a2-be5759aa01ae",
   "metadata": {},
   "source": [
    "### Load components"
   ]
  },
  {
   "cell_type": "code",
   "execution_count": null,
   "id": "39d6750e-bc70-47af-9b3f-ff574f8fd00a",
   "metadata": {},
   "outputs": [],
   "source": [
    "comps = np.load(path_to_components)\n",
    "lst = comps.files\n",
    "latent_dirs = [] # shape:(80, 512)\n",
    "latent_stdevs = []\n",
    "lat_stdevs = []\n",
    "\n",
    "load_activations = True\n",
    "\n",
    "for item in lst:\n",
    "    if load_activations:\n",
    "      if item == 'act_comp':\n",
    "        for i in range(comps[item].shape[0]):\n",
    "          latent_dirs.append(comps[item][i])\n",
    "      if item == 'act_stdev':\n",
    "        for i in range(comps[item].shape[0]):\n",
    "          latent_stdevs.append(comps[item][i])\n",
    "      if item == 'act_mean':\n",
    "        comp_mean = comps[item]\n",
    "      if item == 'lat_stdev':\n",
    "        for i in range(comps[item].shape[0]):\n",
    "          lat_stdevs.append(comps[item][i])\n",
    "\n",
    "    else:\n",
    "      if item == 'lat_comp':\n",
    "        for i in range(comps[item].shape[0]):\n",
    "          latent_dirs.append(comps[item][i])\n",
    "      if item == 'lat_stdev':\n",
    "        for i in range(comps[item].shape[0]):\n",
    "          latent_stdevs.append(comps[item][i])\n",
    "\n",
    "num = 5\n",
    "comp_dir = [] # shape:(num, 512)\n",
    "comp_dir_stdev = []\n",
    "\n",
    "\n",
    "for i in range(num):\n",
    "    comp_dir.append(latent_dirs[i])\n",
    "    comp_dir_stdev.append(latent_stdevs[i])\n",
    "    \n",
    "print(f'Loaded Component No. 1~{num}')"
   ]
  },
  {
   "cell_type": "code",
   "execution_count": null,
   "id": "0401d7d8",
   "metadata": {},
   "outputs": [],
   "source": [
    "latent_stdevs[0:5]"
   ]
  },
  {
   "cell_type": "code",
   "execution_count": null,
   "id": "9ba1a464",
   "metadata": {},
   "outputs": [],
   "source": [
    "lat_stdevs[0:5]"
   ]
  },
  {
   "cell_type": "code",
   "execution_count": null,
   "id": "4a97ec2f",
   "metadata": {},
   "outputs": [],
   "source": [
    "M = 10\n",
    "seed = 0\n",
    "latents = model.sample_latent(M, seed=seed).cpu().numpy()"
   ]
  },
  {
   "cell_type": "code",
   "execution_count": null,
   "metadata": {},
   "outputs": [],
   "source": [
    "comp_mean[0]"
   ]
  },
  {
   "cell_type": "markdown",
   "id": "aef5ea59-b78d-483a-97b3-d340cdfd14f3",
   "metadata": {},
   "source": [
    "### Generate parameter and images"
   ]
  },
  {
   "cell_type": "code",
   "execution_count": null,
   "id": "6566c460-acf5-4317-bab5-b198a2d27f75",
   "metadata": {
    "tags": []
   },
   "outputs": [],
   "source": [
    "M = 10\n",
    "seed = 0\n",
    "\n",
    "# latents = model.sample_latent(M, seed=seed).cpu().numpy() # 元の点をランダム生成\n",
    "w = np.array([comp_mean[0].copy() for _ in range(M)]) # 潜在空間の平均座標をM個用意\n",
    "#w = np.empty((latents.shape[0], latents.shape[1]), dtype=np.float32) # これに書き込んでいく\n",
    "#w_dir = np.array(latent_dirs) # \n",
    "w_dir = np.array(comp_dir) # \n",
    "\n",
    "for i in range(M):\n",
    "    for j in range(num):\n",
    "        #w[i:i+1] = w[i:i+1]+random.uniform(-10, 10)*w_dir[j] # latentの元の点に、ランダムに選んだベクトル方向*ランダムスカラー値を足す\n",
    "        w[i:i+1] = w[i:i+1]+random.uniform(-3*comp_dir_stdev[j], 3*comp_dir_stdev[j])*w_dir[j] # latentの元の点に、ランダムに選んだベクトル方向*ランダムスカラー値を足す\n",
    "    out = model.sample_np(w[i:i+1])\n",
    "    img = Image.fromarray((out * 255).astype(np.uint8)).resize((256,256),Image.LANCZOS)\n",
    "    #img.save(f'/home/taki/ganspace/gen_img_random-to-comp_-3to3sigma_batch64x4_310k-iter_fid=38-30437/{i:05}.png')\n",
    "\n",
    "param = transformer.transform(w)\n",
    "\n",
    "print(w.shape)\n",
    "print(param.shape)\n",
    "\n",
    "# np.save('/home/taki/ganspace/gen_img_random-to-comp_-3to3sigma_batch64x4_310k-iter_fid=38-30437/w', w)\n",
    "# np.save('/home/taki/ganspace/gen_img_random-to-comp_-3to3sigma_batch64x4_310k-iter_fid=38-30437/param', param)"
   ]
  },
  {
   "cell_type": "code",
   "execution_count": null,
   "metadata": {},
   "outputs": [],
   "source": [
    "w_dir"
   ]
  },
  {
   "cell_type": "code",
   "execution_count": null,
   "metadata": {},
   "outputs": [],
   "source": [
    "transformer"
   ]
  },
  {
   "cell_type": "code",
   "execution_count": null,
   "id": "aba435a7",
   "metadata": {},
   "outputs": [],
   "source": [
    "param_read.shape"
   ]
  },
  {
   "cell_type": "code",
   "execution_count": null,
   "id": "c1ed8ee4-8d2b-439b-95a5-7e490622aa09",
   "metadata": {},
   "outputs": [],
   "source": [
    "w_read     = np.load('/home/taki/ganspace/gen_img_lat-mean-to-comp_-2to2sigma_batch64x4_310k-iter_fid=38-30437_compnum=5/w.npy')\n",
    "param_read = np.load('/home/taki/ganspace/gen_img_lat-mean-to-comp_-2to2sigma_batch64x4_310k-iter_fid=38-30437_compnum=5/param.npy')\n",
    "print('w')\n",
    "print(w_read)\n",
    "print('param')\n",
    "print(param_read)"
   ]
  },
  {
   "cell_type": "code",
   "execution_count": null,
   "metadata": {},
   "outputs": [],
   "source": [
    "w_read[0]"
   ]
  },
  {
   "cell_type": "code",
   "execution_count": null,
   "id": "d6b7aad0",
   "metadata": {},
   "outputs": [],
   "source": [
    "param_read[1]"
   ]
  },
  {
   "cell_type": "code",
   "execution_count": null,
   "metadata": {},
   "outputs": [],
   "source": [
    "param_read[2]"
   ]
  },
  {
   "cell_type": "code",
   "execution_count": null,
   "id": "85216626",
   "metadata": {},
   "outputs": [],
   "source": [
    "param_read[:,:5][0]"
   ]
  },
  {
   "cell_type": "code",
   "execution_count": null,
   "metadata": {},
   "outputs": [],
   "source": [
    "transformer.inverse_transform(param_read[0])"
   ]
  },
  {
   "cell_type": "code",
   "execution_count": null,
   "id": "ec64a5b8",
   "metadata": {},
   "outputs": [],
   "source": [
    "np.save('/home/taki/ganspace/gen_img_lat-mean-to-comp_-2to2sigma_batch64x4_310k-iter_fid=38-30437_compnum=5/pca_score', param_read[:,:5])"
   ]
  },
  {
   "cell_type": "code",
   "execution_count": null,
   "id": "9ba7ca30",
   "metadata": {},
   "outputs": [],
   "source": [
    "pca_score = np.load('/home/taki/ganspace/gen_img_lat-mean-to-comp_-2to2sigma_batch64x4_310k-iter_fid=38-30437_compnum=5/pca_score.npy')\n",
    "pca_score"
   ]
  },
  {
   "cell_type": "markdown",
   "id": "486e2415",
   "metadata": {},
   "source": [
    "#### 生成画像のファイル名に各次元のスコアを命名"
   ]
  },
  {
   "cell_type": "code",
   "execution_count": null,
   "id": "8342bbbe",
   "metadata": {},
   "outputs": [],
   "source": [
    "pca_score = np.load('/home/taki/ganspace/gen_img_lat-mean-to-comp_-2to2sigma_batch64x4_310k-iter_fid=38-30437_compnum=5/pca_score.npy')\n",
    "pca_score"
   ]
  },
  {
   "cell_type": "code",
   "execution_count": null,
   "id": "822c9228",
   "metadata": {},
   "outputs": [],
   "source": [
    "source_folder = \"/home/taki/ganspace/gen_img_lat-mean-to-comp_-2to2sigma_batch64x4_310k-iter_fid=38-30437_compnum=5\"\n",
    "image_files = [f for f in os.listdir(source_folder) if f.endswith((\".jpg\", \".jpeg\", \".png\", \".gif\"))]\n",
    "image_files.sort()\n",
    "\n",
    "for i, img_file in enumerate(image_files):\n",
    "    source_path = os.path.join(source_folder, img_file)\n",
    "    pca_txt = \"\"\n",
    "    for score in pca_score[i]:\n",
    "        if score == pca_score[i][-1]:\n",
    "            pca_txt += f\"{score}\"\n",
    "        else:\n",
    "            pca_txt += f\"{score},\"\n",
    "    new_path = f\"{img_file.split('.')[0]}_[{(pca_txt)}].png\"\n",
    "    target_path = os.path.join(source_folder, new_path)\n",
    "    os.rename(source_path, target_path)\n",
    "    # print(source_path)\n",
    "    # print(target_path)"
   ]
  },
  {
   "cell_type": "code",
   "execution_count": null,
   "id": "f6512493",
   "metadata": {},
   "outputs": [],
   "source": [
    "# image_files[0]をピリオドで分割する\n",
    "\n",
    "image_files[0].split('.')"
   ]
  },
  {
   "cell_type": "markdown",
   "id": "4e8d5ca1-3cf4-4101-9a89-63fde9c85a02",
   "metadata": {},
   "source": [
    "### Load images"
   ]
  },
  {
   "cell_type": "code",
   "execution_count": null,
   "id": "17fe56a0-165d-4802-b04a-25029dde38ac",
   "metadata": {},
   "outputs": [],
   "source": [
    "images = []\n",
    "for i in range(0, 1000):\n",
    "    image = cv2.imread('/home/taki/ganspace/gen_img_lat-mean-to-comp_-2to2sigma_batch64x4_310k-iter_fid=38-30437_compnum=5/{0:05d}.png'.format(i))\n",
    "    image = cv2.cvtColor(image, cv2.COLOR_BGR2RGB)\n",
    "    image = cv2.resize(image, (256, 256))\n",
    "    images.append(image)\n",
    "\n",
    "images  = np.array(images)\n",
    "print(images.shape)"
   ]
  },
  {
   "cell_type": "code",
   "execution_count": null,
   "id": "7e629325",
   "metadata": {},
   "outputs": [],
   "source": [
    "images[0].shape"
   ]
  },
  {
   "cell_type": "code",
   "execution_count": null,
   "id": "18955ea7",
   "metadata": {},
   "outputs": [],
   "source": [
    "w_read[0:1].shape"
   ]
  },
  {
   "cell_type": "code",
   "execution_count": null,
   "metadata": {},
   "outputs": [],
   "source": [
    "w_read[0:1]"
   ]
  },
  {
   "cell_type": "code",
   "execution_count": null,
   "metadata": {},
   "outputs": [],
   "source": [
    "w_read[12:13]"
   ]
  },
  {
   "cell_type": "code",
   "execution_count": null,
   "id": "ae18e72e",
   "metadata": {},
   "outputs": [],
   "source": [
    "out = model.sample_np(w_read[0:1])\n",
    "img = Image.fromarray((out * 255).astype(np.uint8)).resize((256,256),Image.LANCZOS)\n",
    "fig, axs = plt.subplots(1, 1, figsize=(10,10), tight_layout='True')\n",
    "axs.imshow(img)"
   ]
  },
  {
   "cell_type": "code",
   "execution_count": null,
   "id": "0b684a17",
   "metadata": {},
   "outputs": [],
   "source": [
    "fig, axs = plt.subplots(1, 1, figsize=(10,10), tight_layout='True')\n",
    "axs.imshow(images[13])"
   ]
  },
  {
   "cell_type": "markdown",
   "metadata": {},
   "source": [
    "## グリッド表示のための画像を保存"
   ]
  },
  {
   "cell_type": "code",
   "execution_count": null,
   "metadata": {},
   "outputs": [],
   "source": [
    "w_read     = np.load('/home/taki/ganspace/gen_img_lat-mean-to-comp_-2to2sigma_batch64x4_310k-iter_fid=38-30437_compnum=5/w.npy')\n",
    "param_read = np.load('/home/taki/ganspace/gen_img_lat-mean-to-comp_-2to2sigma_batch64x4_310k-iter_fid=38-30437_compnum=5/param.npy')\n",
    "print('w')\n",
    "print(w_read.shape)\n",
    "print(w_read)\n",
    "print('param')\n",
    "print(param_read.shape)\n",
    "print(param_read)"
   ]
  },
  {
   "cell_type": "code",
   "execution_count": null,
   "metadata": {},
   "outputs": [],
   "source": [
    "param_read"
   ]
  },
  {
   "cell_type": "code",
   "execution_count": null,
   "metadata": {},
   "outputs": [],
   "source": [
    "param_read[0].shape"
   ]
  },
  {
   "cell_type": "code",
   "execution_count": null,
   "metadata": {},
   "outputs": [],
   "source": [
    "pca_x = param_read\n",
    "pca_x[0] = 0\n",
    "\n",
    "pca_x_0 = transformer.inverse_transform(pca_x[0]).astype(np.float32)\n",
    "\n",
    "out = model.sample_np(pca_x_0.reshape(1,512))\n",
    "img = Image.fromarray((out * 255).astype(np.uint8)).resize((256,256),Image.LANCZOS)\n",
    "fig, axs = plt.subplots(1, 1, figsize=(10,10), tight_layout='True')\n",
    "axs.imshow(img)"
   ]
  },
  {
   "cell_type": "code",
   "execution_count": null,
   "metadata": {},
   "outputs": [],
   "source": [
    "pca_x[0]"
   ]
  },
  {
   "cell_type": "code",
   "execution_count": null,
   "metadata": {},
   "outputs": [],
   "source": [
    "pca_x = param_read\n",
    "pca_x[0] = 0"
   ]
  },
  {
   "cell_type": "code",
   "execution_count": null,
   "metadata": {},
   "outputs": [],
   "source": [
    "param_read"
   ]
  },
  {
   "cell_type": "code",
   "execution_count": null,
   "metadata": {},
   "outputs": [],
   "source": [
    "pca_x[0]"
   ]
  },
  {
   "cell_type": "code",
   "execution_count": null,
   "id": "039b8069",
   "metadata": {},
   "outputs": [],
   "source": [
    "conb_list = [[0,1], [0,2], [0,3],[0,4],[1,2],[1,3],[1,4],[2,3],[2,4],[3,4]]\n",
    "for conb in conb_list:\n",
    "    comp_num1 = conb[0]\n",
    "    comp_num2 = conb[1]\n",
    "\n",
    "    if comp_num1 == 0:\n",
    "        a=10\n",
    "    elif comp_num1 == 1 or comp_num1 == 2:\n",
    "        a=8\n",
    "    elif comp_num1 == 3:\n",
    "        a=6\n",
    "    elif comp_num1 == 4:\n",
    "        a=5\n",
    "\n",
    "    \n",
    "    if comp_num2 == 0:\n",
    "        b=10\n",
    "    elif comp_num2 == 1 or comp_num2 == 2:\n",
    "        b=8\n",
    "    elif comp_num2 == 3:\n",
    "        b=6\n",
    "    elif comp_num2 == 4:\n",
    "        b=5\n",
    "    print(conb)\n",
    "    print(a, b)\n",
    "    print(\"\")"
   ]
  },
  {
   "cell_type": "code",
   "execution_count": null,
   "metadata": {},
   "outputs": [],
   "source": [
    "pca_x = param_read\n",
    "pca_x[0] = 0\n",
    "\n",
    "conb_list = [[0,1], [0,2], [0,3],[0,4],[1,2],[1,3],[1,4],[2,3],[2,4],[3,4]]\n",
    "for conb in conb_list:\n",
    "    comp_num1 = conb[0]\n",
    "    comp_num2 = conb[1]\n",
    "    print(comp_num1, comp_num2)\n",
    "\n",
    "    # Create an array with values ranging from -10 to 10, divided equally into 8 segments\n",
    "    if comp_num1 == 0:\n",
    "        first_component = np.linspace(-10, 10, 9)\n",
    "    elif comp_num1 == 1 or comp_num1 == 2:\n",
    "        first_component = np.linspace(-8, 8, 9)\n",
    "    elif comp_num1 == 3:\n",
    "        first_component = np.linspace(-6, 6, 9)\n",
    "    elif comp_num1 == 4:\n",
    "        first_component = np.linspace(-5, 5, 9)\n",
    "\n",
    "    # Create an array with values ranging from -8 to 8, divided equally into 8 segments\n",
    "    if comp_num2 == 0:\n",
    "        second_component = np.linspace(-10, 10, 9)\n",
    "    elif comp_num2 == 1 or comp_num2 == 2:\n",
    "        second_component = np.linspace(-8, 8, 9)\n",
    "    elif comp_num2 == 3:\n",
    "        second_component = np.linspace(-6, 6, 9)\n",
    "    elif comp_num2 == 4:\n",
    "        second_component = np.linspace(-5, 5, 9)\n",
    "\n",
    "\n",
    "    images = []\n",
    "    x_list = []\n",
    "\n",
    "\n",
    "    # ディレクトリを作成\n",
    "    save_dir = f'/home/taki/ganspace/gen_img_lat-mean-to-comp_-2to2sigma_batch64x4_310k-iter_fid=38-30437_compnum=5/comp{comp_num1+1}_comp{comp_num2+1}'\n",
    "    if not os.path.exists(save_dir):\n",
    "        os.mkdir(save_dir)\n",
    "\n",
    "    for i in range(9):\n",
    "        for j in range(9):\n",
    "\n",
    "\n",
    "\n",
    "            pca_x[0][comp_num1] = first_component[i]\n",
    "            pca_x[0][comp_num2] = second_component[j]\n",
    "            #print(pca_x[0][0], pca_x[0][1])\n",
    "            x_list.append([pca_x[0][comp_num1], pca_x[0][comp_num2]])\n",
    "\n",
    "            pca_x_0 = transformer.inverse_transform(pca_x[0]).astype(np.float32)\n",
    "            out = model.sample_np(pca_x_0.reshape(1,512))\n",
    "            img = Image.fromarray((out * 255).astype(np.uint8)).resize((256,256),Image.LANCZOS)\n",
    "            images.append(img)\n",
    "            #fig, axs = plt.subplots(1, 1, figsize=(10,10), tight_layout='True')\n",
    "            #axs.imshow(img)\n",
    "            img.save(f'{save_dir}/comp{comp_num1+1}={first_component[i]}_comp{comp_num2+1}={second_component[j]}.png')\n",
    "\n",
    "    # 得られた9*9の画像をグリッド表示する\n",
    "    fig, axs = plt.subplots(9, 9, figsize=(20,20), tight_layout='True')\n",
    "    cnt = 80\n",
    "    cnt_i = 8\n",
    "    for i in range(9):\n",
    "        cnt_j = 8\n",
    "        print(\"i:\",cnt_i)\n",
    "        for j in range(9):\n",
    "\n",
    "            # imagesの中身を配列の後ろから順番に表示していく\n",
    "            axs[i][j].imshow(images[cnt])\n",
    "            axs[i][j].axis('off')\n",
    "            # タイトルをつける\n",
    "            # axs[i][j].set_title(f'comp1={first_component[i]}_comp2={second_component[j]}', fontsize=10)\n",
    "            print(\"j:\",cnt_j)\n",
    "            cnt -= 1\n",
    "            cnt_j -= 1\n",
    "\n",
    "    # 画像を保存する\n",
    "    fig.savefig(f'{save_dir}/gridimage_comp{comp_num1+1},comp{comp_num2+1}.png')\n",
    "        "
   ]
  },
  {
   "cell_type": "code",
   "execution_count": null,
   "metadata": {},
   "outputs": [],
   "source": [
    "pca_x = param_read\n",
    "pca_x[0] = 0\n",
    "\n",
    "\n",
    "# Create an array with values ranging from -10 to 10, divided equally into 8 segments\n",
    "first_component = np.linspace(-10, 10, 9)\n",
    "\n",
    "# Create an array with values ranging from -8 to 8, divided equally into 8 segments\n",
    "second_component = np.linspace(-8, 8, 9)\n",
    "images = []\n",
    "x_list = []\n",
    "for i in range(9):\n",
    "    for j in range(9):\n",
    "        pca_x[0][0] = first_component[i]\n",
    "        pca_x[0][1] = second_component[j]\n",
    "        #print(pca_x[0][0], pca_x[0][1])\n",
    "        x_list.append([pca_x[0][0], pca_x[0][1]])\n",
    "\n",
    "        pca_x_0 = transformer.inverse_transform(pca_x[0]).astype(np.float32)\n",
    "        out = model.sample_np(pca_x_0.reshape(1,512))\n",
    "        img = Image.fromarray((out * 255).astype(np.uint8)).resize((256,256),Image.LANCZOS)\n",
    "        images.append(img)\n",
    "        #fig, axs = plt.subplots(1, 1, figsize=(10,10), tight_layout='True')\n",
    "        #axs.imshow(img)\n",
    "        # img.save(f'/home/taki/ganspace/gen_img_lat-mean-to-comp_-2to2sigma_batch64x4_310k-iter_fid=38-30437_compnum=5/comp1={first_component[i]}_comp2={second_component[j]}.png')\n",
    "\n",
    "# 得られた9*9の画像をグリッド表示する\n",
    "fig, axs = plt.subplots(9, 9, figsize=(20,20), tight_layout='True')\n",
    "for i in range(9):\n",
    "    for j in range(9):\n",
    "        print(x_list[i*9+j])\n",
    "        # imagesの中身を配列の後ろから順番に表示していく\n",
    "        axs[i][j].imshow(images[i*9+j])\n",
    "        axs[i][j].axis('off')\n",
    "        # タイトルをつける\n",
    "        # axs[i][j].set_title(f'comp1={first_component[i]}_comp2={second_component[j]}', fontsize=10)\n",
    "\n",
    "# 画像を保存する\n",
    "fig.savefig('/home/taki/ganspace/gen_img_lat-mean-to-comp_-2to2sigma_batch64x4_310k-iter_fid=38-30437_compnum=5/gridimage_comp1=-10to10_comp2=-8to8.png')\n",
    "        "
   ]
  },
  {
   "cell_type": "code",
   "execution_count": null,
   "metadata": {},
   "outputs": [],
   "source": [
    "pca_x = param_read\n",
    "pca_x[0] = 0\n",
    "\n",
    "x_comp = 0\n",
    "y_comp = 1\n",
    "\n",
    "# Create an array with values ranging from -10 to 10, divided equally into 8 segments\n",
    "first_component = np.linspace(-10, 10, 9)\n",
    "\n",
    "# Create an array with values ranging from -8 to 8, divided equally into 8 segments\n",
    "second_component = np.linspace(-8, 8, 9)\n",
    "images = []\n",
    "x_list = []\n",
    "for i in range(9):\n",
    "    for j in range(9):\n",
    "        pca_x[0][x_comp] = first_component[i]\n",
    "        pca_x[0][y_comp] = second_component[j]\n",
    "        #print(pca_x[0][0], pca_x[0][1])\n",
    "        x_list.append([pca_x[0][x_comp], pca_x[0][y_comp]])\n",
    "\n",
    "        pca_x_0 = transformer.inverse_transform(pca_x[0]).astype(np.float32)\n",
    "        out = model.sample_np(pca_x_0.reshape(1,512))\n",
    "        img = Image.fromarray((out * 255).astype(np.uint8)).resize((256,256),Image.LANCZOS)\n",
    "        images.append(img)\n",
    "        # fig, axs = plt.subplots(1, 1, figsize=(10,10), tight_layout='True')\n",
    "        # axs.imshow(img)\n",
    "        # img.save(f'/home/taki/ganspace/gen_img_lat-mean-to-comp_-2to2sigma_batch64x4_310k-iter_fid=38-30437_compnum=5/comp1={first_component[i]}_comp2={second_component[j]}.png')\n",
    "\n",
    "# # 得られた9*9の画像をグリッド表示する\n",
    "fig, axs = plt.subplots(9, 9, figsize=(20,20), tight_layout='True')\n",
    "cnt = 80\n",
    "cnt_i = 8\n",
    "for i in range(9):\n",
    "    cnt_j = 8\n",
    "    print(\"i:\",cnt_i)\n",
    "    for j in range(9):\n",
    "        #print(x_list[cnt])\n",
    "        # imagesの中身を配列の後ろから順番に表示していく\n",
    "        axs[i][j].imshow(images[cnt])\n",
    "        axs[i][j].axis('off')\n",
    "        # タイトルをつける\n",
    "        axs[i][j].set_title(f'comp{x_comp+1}={first_component[cnt_i]}_comp{y_comp+1}={second_component[j]}', fontsize=10)\n",
    "        print(\"j:\",cnt_j)\n",
    "        cnt -= 1\n",
    "        cnt_j -= 1\n",
    "        \n",
    "\n",
    "    \n",
    "    cnt_i -= 1\n",
    "    \n",
    "\n",
    "# 画像を保存する\n",
    "# fig.savefig(f'/home/taki/ganspace/gen_img_lat-mean-to-comp_-2to2sigma_batch64x4_310k-iter_fid=38-30437_compnum=5/gridimage_comp{x_comp+1}=-10to10_comp{y_comp+1}=-8to8_with-title.png')\n",
    "        "
   ]
  },
  {
   "cell_type": "code",
   "execution_count": null,
   "metadata": {},
   "outputs": [],
   "source": [
    "count = 80\n",
    "for i in range(9):\n",
    "    for j in range(9):\n",
    "    \n",
    "        print(count)\n",
    "        count -= 1"
   ]
  },
  {
   "cell_type": "code",
   "execution_count": null,
   "metadata": {},
   "outputs": [],
   "source": [
    "first_component = np.linspace(-10, 10, 8)\n",
    "first_component"
   ]
  },
  {
   "cell_type": "code",
   "execution_count": null,
   "metadata": {
    "notebookRunGroups": {
     "groupValue": "1"
    }
   },
   "outputs": [],
   "source": [
    "second_component = np.linspace(-8, 8, 8)\n",
    "second_component"
   ]
  },
  {
   "cell_type": "markdown",
   "metadata": {},
   "source": [
    "## ペア画像作成"
   ]
  },
  {
   "cell_type": "code",
   "execution_count": null,
   "id": "a90c4ee6-2cbc-407d-b6a7-943f30911cf1",
   "metadata": {
    "collapsed": true,
    "jupyter": {
     "outputs_hidden": true
    },
    "tags": []
   },
   "outputs": [],
   "source": [
    "for i in range(1000):\n",
    "    fig, ax = plt.subplots(nrows=1, ncols=2, figsize=(16,4))\n",
    "    ax[0].axes.xaxis.set_visible(False) # X軸を非表示に\n",
    "    ax[0].axes.yaxis.set_visible(False) # Y軸を非表示に\n",
    "    ax[1].axes.xaxis.set_visible(False) # X軸を非表示に\n",
    "    ax[1].axes.yaxis.set_visible(False) # Y軸を非表示に\n",
    "    ax[0].imshow(images[i*2]) # 画像を表示\n",
    "    ax[1].imshow(images[i*2+1]) # 画像を表示\n",
    "    plt.subplots_adjust(left=0, right=1, bottom=0, top=1)\n",
    "    plt.close()\n",
    "\n",
    "\n",
    "    plt.savefig('questionnaire/question-20~20/Q{}.png'.format(i+1), format='png')"
   ]
  },
  {
   "cell_type": "code",
   "execution_count": null,
   "id": "2f688fa1-359f-484f-863e-6b870c03a703",
   "metadata": {
    "tags": []
   },
   "outputs": [],
   "source": [
    "row=200 # 行数\n",
    "col=2 # 列数\n",
    "fig, ax = plt.subplots(nrows=row, ncols=col,figsize=(20,row*4))\n",
    "\n",
    "for i in range(row*col):\n",
    "    _r= i//col\n",
    "    _c= i%col\n",
    "    ax[_r,_c].set_title(i+1600, fontsize=32, y=-0.4)\n",
    "    ax[_r,_c].axes.xaxis.set_visible(False) # X軸を非表示に\n",
    "    ax[_r,_c].axes.yaxis.set_visible(False) # Y軸を非表示に\n",
    "    ax[_r,_c].imshow(images[i]) # 画像を表示\n",
    "    \n",
    "fig.savefig('questionnaire/question/pair1600-1999.svg', format='svg')"
   ]
  },
  {
   "cell_type": "code",
   "execution_count": null,
   "id": "0c424fc8-49c7-4e86-9807-727bd6f9e9ba",
   "metadata": {},
   "outputs": [],
   "source": []
  }
 ],
 "metadata": {
  "kernelspec": {
   "display_name": "stylegan2",
   "language": "python",
   "name": "python3"
  },
  "language_info": {
   "codemirror_mode": {
    "name": "ipython",
    "version": 3
   },
   "file_extension": ".py",
   "mimetype": "text/x-python",
   "name": "python",
   "nbconvert_exporter": "python",
   "pygments_lexer": "ipython3",
   "version": "3.8.5"
  }
 },
 "nbformat": 4,
 "nbformat_minor": 5
}
