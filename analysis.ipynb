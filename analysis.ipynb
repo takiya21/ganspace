{
 "cells": [
  {
   "cell_type": "code",
   "execution_count": 1,
   "id": "7013c611-7089-4690-aeea-2b72c5ca92cd",
   "metadata": {},
   "outputs": [],
   "source": [
    "import numpy as np\n",
    "import scipy.linalg as linalg\n",
    "import scipy.interpolate as itpl\n",
    "import matplotlib.pyplot as plt\n",
    "import matplotlib.cm as cm \n",
    "import pandas as pd\n",
    "import os\n",
    "import glob\n",
    "import cv2\n",
    "import imageio\n",
    "from PIL import Image\n",
    "from sklearn.metrics import roc_curve, roc_auc_score, auc\n",
    "from sklearn.decomposition import PCA, IncrementalPCA\n",
    "from sklearn.cluster import KMeans\n",
    "from pyclustering.cluster import gmeans, xmeans\n",
    "import plotly.express as px\n",
    "import plotly.graph_objects as go\n",
    "import itertools\n",
    "from matplotlib.offsetbox import OffsetImage, AnnotationBbox "
   ]
  },
  {
   "cell_type": "markdown",
   "id": "b08dae2b-2e6f-43f1-8dfb-c40be946fe31",
   "metadata": {},
   "source": [
    "# plot contribution rate"
   ]
  },
  {
   "cell_type": "code",
   "execution_count": null,
   "id": "5e7d01c9-7726-4700-a780-f6907afc305f",
   "metadata": {},
   "outputs": [],
   "source": [
    "df = pd.read_excel('out/contribution_rate.xlsx')\n",
    "# print(df.head(6))\n",
    "cont_rate = np.array(df.iloc[2:, 30], dtype='float32')\n",
    "print(cont_rate)"
   ]
  },
  {
   "cell_type": "code",
   "execution_count": null,
   "id": "087aa7ad-5df7-444f-90a7-bdd127cd4dd7",
   "metadata": {},
   "outputs": [],
   "source": [
    "x = np.arange(0, 80, 1)\n",
    "plt.plot(x, cont_rate)\n",
    "plt.ylim(0, 1.)\n",
    "plt.yticks([ 0.1,0.2,0.3,0.4,0.5,0.6,0.7,0.8,0.9])\n",
    "plt.grid(which = \"major\", axis = \"y\", alpha = 0.5)\n",
    "plt.gca().spines['right'].set_visible(False)\n",
    "plt.gca().spines['top'].set_visible(False)\n",
    "plt.savefig('results/figure/contribution_rate.png')\n",
    "plt.show()"
   ]
  },
  {
   "cell_type": "markdown",
   "id": "09689873-6445-4b4e-b213-47163fecdfdc",
   "metadata": {},
   "source": [
    "# Calcurating distance"
   ]
  },
  {
   "cell_type": "code",
   "execution_count": null,
   "id": "d8da5838-2fb5-4674-83ed-4258e4633a4f",
   "metadata": {},
   "outputs": [],
   "source": [
    "param = np.load('datasets/question-20~20/param.npy')\n",
    "df = pd.read_excel('questionnaire/inspector.xlsx')\n",
    "print(df.head(6))\n",
    "# evaluation = np.array(df.iloc[:, 1], dtype='float32')\n",
    "# print(evaluation)"
   ]
  },
  {
   "cell_type": "code",
   "execution_count": null,
   "id": "412341c2-f5e6-4e14-b541-cebb6f72d2ec",
   "metadata": {},
   "outputs": [],
   "source": [
    "point1 = []\n",
    "point2 = []\n",
    "point3 = []\n",
    "point4 = []\n",
    "point5 = []\n",
    "\n",
    "for i in range(M):\n",
    "    if(evaluation[i]==1):\n",
    "        point1.append(dist[i]) \n",
    "    elif(evaluation[i]==2):\n",
    "        point2.append(dist[i])\n",
    "    elif(evaluation[i]==3):\n",
    "        point3.append(dist[i])\n",
    "    elif(evaluation[i]==4):\n",
    "        point4.append(dist[i])\n",
    "    elif(evaluation[i]==5):\n",
    "        point5.append(dist[i])\n",
    "        \n",
    "point1 = np.array(point1)\n",
    "point2 = np.array(point2)\n",
    "point3 = np.array(point3)\n",
    "point4 = np.array(point4)\n",
    "point5 = np.array(point5)\n",
    "\n",
    "point1_ave = np.mean(point1)\n",
    "point2_ave = np.mean(point2)\n",
    "point3_ave = np.mean(point3)\n",
    "point4_ave = np.mean(point4)\n",
    "point5_ave = np.mean(point5)\n",
    "\n",
    "point5_std = np.std(point5)\n",
    "point1_std = np.std(point1)\n",
    "point2_std = np.std(point2)\n",
    "point3_std = np.std(point3)\n",
    "point4_std = np.std(point4)\n",
    "\n",
    "print(point1_ave)\n",
    "print(point2_ave)\n",
    "print(point3_ave)\n",
    "print(point4_ave)\n",
    "print(point5_ave)\n",
    "\n",
    "print(point1_std)\n",
    "print(point2_std)\n",
    "print(point3_std)\n",
    "print(point4_std)\n",
    "print(point5_std)"
   ]
  },
  {
   "cell_type": "code",
   "execution_count": null,
   "id": "5055e347-3d65-4eb3-a38d-a2a12ebc0504",
   "metadata": {},
   "outputs": [],
   "source": [
    "M = 2000\n",
    "comp = 80\n",
    "inspector = 'C'\n",
    "\n",
    "x = param[:M, :comp]\n",
    "\n",
    "best = []\n",
    "worst = []\n",
    "best_dist = []\n",
    "worst_dist = []\n",
    "dist = []\n",
    "\n",
    "if (comp==8):\n",
    "    if (inspector == 'A'):\n",
    "        best.append(x[1096])\n",
    "        best.append(x[1035])\n",
    "        best.append(x[1840])\n",
    "        best.append(x[960])\n",
    "        best.append(x[169])\n",
    "        worst.append(x[1703])\n",
    "        worst.append(x[153])\n",
    "        worst.append(x[1052])\n",
    "        worst.append(x[444])\n",
    "        worst.append(x[149])\n",
    "\n",
    "    elif (inspector == 'B'):\n",
    "        best.append(x[1096])\n",
    "        best.append(x[169])\n",
    "        best.append(x[1978])\n",
    "        best.append(x[349])\n",
    "        best.append(x[1035])\n",
    "        worst.append(x[1703])\n",
    "        worst.append(x[548])\n",
    "        worst.append(x[481])\n",
    "        worst.append(x[1423])\n",
    "        worst.append(x[1588])\n",
    "\n",
    "    elif (inspector == 'C'):\n",
    "        best.append(x[1083])\n",
    "        best.append(x[1725])\n",
    "        best.append(x[1035])\n",
    "        best.append(x[503])\n",
    "        best.append(x[1096])\n",
    "        worst.append(x[444])\n",
    "        worst.append(x[626])\n",
    "        worst.append(x[149])\n",
    "        worst.append(x[1388])\n",
    "        worst.append(x[153])\n",
    "        \n",
    "elif(comp==80):\n",
    "    if (inspector == 'A'):\n",
    "        best.append(x[36])\n",
    "        best.append(x[162])\n",
    "        best.append(x[281])\n",
    "        best.append(x[1083])\n",
    "        best.append(x[1035])\n",
    "        worst.append(x[1394])\n",
    "        worst.append(x[1044])\n",
    "        worst.append(x[123])\n",
    "        worst.append(x[1172])\n",
    "        worst.append(x[1534])\n",
    "\n",
    "    elif (inspector == 'B'):\n",
    "        best.append(x[939])\n",
    "        best.append(x[1690])\n",
    "        best.append(x[844])\n",
    "        best.append(x[363])\n",
    "        best.append(x[336])\n",
    "        worst.append(x[586])\n",
    "        worst.append(x[769])\n",
    "        worst.append(x[1431])\n",
    "        worst.append(x[1370])\n",
    "        worst.append(x[974])\n",
    "\n",
    "    elif (inspector == 'C'):\n",
    "        best.append(x[1083])\n",
    "        best.append(x[1035])\n",
    "        best.append(x[1898])\n",
    "        best.append(x[162])\n",
    "        best.append(x[281])\n",
    "        worst.append(x[1394])\n",
    "        worst.append(x[405])\n",
    "        worst.append(x[123])\n",
    "        worst.append(x[1269])\n",
    "        worst.append(x[1044])    \n",
    "    \n",
    "best = np.array(best)\n",
    "worst = np.array(worst)\n",
    "\n",
    "for i in range(5):\n",
    "    for j in range(5):\n",
    "        best_dist.append(np.linalg.norm(best[i]-best[j], ord=2))\n",
    "        worst_dist.append(np.linalg.norm(worst[i]-worst[j], ord=2))\n",
    "        dist.append(np.linalg.norm(best[i]-worst[j], ord=2))\n",
    "\n",
    "\n",
    "best_dist = np.array(best_dist)\n",
    "worst_dist = np.array(worst_dist)\n",
    "dist = np.array(dist)\n",
    "\n",
    "best_dist_mean = np.mean(best_dist)\n",
    "worst_dist_mean = np.mean(worst_dist)\n",
    "dist_mean = np.mean(dist)\n",
    "\n",
    "best_dist_std = np.std(best_dist)\n",
    "worst_dist_std = np.std(worst_dist)\n",
    "dist_std = np.std(dist)\n",
    "\n",
    "print('inspector:', inspector)\n",
    "print('comp:', comp)\n",
    "\n",
    "print('mean')\n",
    "print('best', best_dist_mean)\n",
    "print('worst', worst_dist_mean)\n",
    "print('best-worst', dist_mean)\n",
    "\n",
    "print('std')\n",
    "print('best', best_dist_std)\n",
    "print('worst', worst_dist_std)\n",
    "print('best-worst', dist_std)\n"
   ]
  },
  {
   "cell_type": "markdown",
   "id": "7047a811-966a-42f7-8c50-0340a9bedc44",
   "metadata": {},
   "source": [
    "# Optimization"
   ]
  },
  {
   "cell_type": "code",
   "execution_count": 2,
   "id": "b6e403cb-e6c7-4dae-98a9-e08a47909af4",
   "metadata": {},
   "outputs": [],
   "source": [
    "def normalization(x, axis=None):\n",
    "    x_min = x.min(axis=axis, keepdims=True)\n",
    "    x_max = x.max(axis=axis, keepdims=True)\n",
    "    norm = (x-x_min)/(x_max-x_min)\n",
    "    \n",
    "    return norm\n",
    "\n",
    "def normalization2(x, y, axis=None):\n",
    "    y_min = y.min(axis=axis, keepdims=True)\n",
    "    y_max = y.max(axis=axis, keepdims=True)\n",
    "    norm = (x-y_min)/(y_max-y_min)\n",
    "\n",
    "    return norm\n",
    "\n",
    "def simultaneous_equations(M, comp, nearest, w, param, evaluation):\n",
    "    A = np.zeros((M,M))\n",
    "    d = np.zeros(M)\n",
    "    dist = np.empty((M,M))\n",
    "    L = np.zeros((M,M))\n",
    "    \n",
    "    # A,d作成\n",
    "    for i in range(M):\n",
    "        if(i%2==0):\n",
    "            A[i, i] = 1\n",
    "            A[i, i+1] = -1\n",
    "            if(evaluation[int(i/2)]==1): d[i] = 1.\n",
    "            elif(evaluation[int(i/2)]==2): d[i] = 0.5\n",
    "            elif(evaluation[int(i/2)]==3): d[i] = 0.\n",
    "            elif(evaluation[int(i/2)]==4): d[i] = -0.5\n",
    "            elif(evaluation[int(i/2)]==5): d[i] = -1.\n",
    "    \n",
    "    # x作成\n",
    "    x = param[:M, :comp]\n",
    "    \n",
    "    # L作成\n",
    "    for i in range(M):\n",
    "        for j in range(M):\n",
    "            dist[i][j] = np.linalg.norm(x[i]-x[j], ord=2)\n",
    "\n",
    "    for i in range(M):\n",
    "        for j in range(1, nearest+1):\n",
    "            index = np.where(dist[i]==np.sort(dist[i])[j])\n",
    "            L[i][index[0][0]] = -1\n",
    "            L[index[0][0]][i] = -1\n",
    "            \n",
    "    for i in range(M):\n",
    "        L[i][i] = np.count_nonzero(L[i])\n",
    "\n",
    "#     print('A\\n',A)\n",
    "#     print('d\\n',d)\n",
    "#     print('x\\n',x)\n",
    "#     print('L\\n',L)\n",
    "    \n",
    "    AA = np.dot(A.T, A) + w * np.dot(L.T, L)\n",
    "    b = np.dot(A.T, d)\n",
    "    \n",
    "    return x, AA, b\n",
    "\n",
    "def calc_equations(AA, b, method):\n",
    "    \n",
    "    # メソッドなし\n",
    "    if(method=='non_method'):\n",
    "        AA_inv = np.linalg.inv(AA)\n",
    "        y = np.dot(AA_inv, b)\n",
    "        # print('non_method\\n', y)\n",
    "    \n",
    "    # linalgメソッド\n",
    "    elif(method=='linalg'):\n",
    "        y = np.linalg.solve(AA, b)\n",
    "        # print('linalg\\n', y)\n",
    "        \n",
    "    # LU分解\n",
    "    elif(method=='lu'):\n",
    "        LU = linalg.lu_factor(AA)\n",
    "        y = linalg.lu_solve(LU, b)\n",
    "        # print('lu\\n', y)\n",
    "        \n",
    "    # QR分解\n",
    "    elif(method=='qr'):\n",
    "        Q, R = linalg.qr(AA)\n",
    "        t = np.dot(Q.T, b)\n",
    "        y = linalg.solve(R, t)\n",
    "        # print('qr\\n', y)\n",
    "        \n",
    "    # コレスキー分解\n",
    "    elif(method=='cholesky'):\n",
    "        LL = np.linalg.cholesky(AA)\n",
    "        t = np.linalg.solve(LL, b)\n",
    "        y = np.linalg.solve(LL.T.conj(), t)\n",
    "        # print('cholesky\\n', y)\n",
    "        \n",
    "    else:print('select method')\n",
    "        \n",
    "    return y\n",
    "\n",
    "def show_estimate(y):\n",
    "    y_norm = normalization(y)\n",
    "    y_sort = np.sort(y)\n",
    "    for i in range(1,6):\n",
    "        index = np.where(y==y_sort[-i])\n",
    "        print('best{}:{}, {}'.format(i, y_norm[index], index))\n",
    "        plt.imshow(images[index[0][0]])\n",
    "        plt.show()\n",
    "    for i in range(0,5):\n",
    "        index = np.where(y==y_sort[i])\n",
    "        print('worst{}:{}, {}'.format(i+1, y_norm[index], index))\n",
    "        plt.imshow(images[index[0][0]])\n",
    "        plt.show()\n",
    "#     for i in range(y.shape[0]):\n",
    "#         print('{:>3}: {:4f}'.format(i, y_norm[i]))\n",
    "\n",
    "def prepare_datapoint(M, comp, y):\n",
    "    y_norm = normalization(y)\n",
    "    \n",
    "    for i in range(comp):\n",
    "        if(i==0): y_app = y_norm\n",
    "        else: y_app = np.append(y_app, y_norm)\n",
    "        \n",
    "    # print(y_app.shape)\n",
    "    # print(y_app)\n",
    "\n",
    "    y_reshape = y_app.reshape([M,comp], order='F')\n",
    "    # print(y_reshape.shape)\n",
    "    # print(y_reshape)\n",
    "    \n",
    "    return y_reshape\n",
    "\n",
    "def estimate_test(comp, x, datapoint, test):\n",
    "    rbf_methods = ['multiquadric', 'inverse', 'gaussian', 'cubic', 'quintic', 'thin_plate']\n",
    "    \n",
    "    \n",
    "    if(comp==3):\n",
    "        r_fs = {m : np.apply_along_axis(lambda s : itpl.Rbf(x[:,0], x[:,1], x[:,2], s, function=m), 0, datapoint) for m in rbf_methods}\n",
    "        r_yis = {m : np.transpose([f(test[:,0], test[:,1], test[:,2]) for f in r_fs[m]], (1, 0)) for m in rbf_methods}\n",
    "        \n",
    "    elif(comp==4):\n",
    "        r_fs = {m : np.apply_along_axis(lambda s : itpl.Rbf(x[:,0], x[:,1], x[:,2], x[:,3], s, function=m), 0, datapoint) for m in rbf_methods}\n",
    "        r_yis = {m : np.transpose([f(test[:,0], test[:,1], test[:,2], test[:,3]) for f in r_fs[m]], (1, 0)) for m in rbf_methods}\n",
    "        \n",
    "    elif(comp==8):\n",
    "        r_fs = {m : np.apply_along_axis(lambda s : itpl.Rbf(x[:,0], x[:,1], x[:,2], x[:,3], x[:,4], x[:,5], x[:,6], x[:,7], s, function=m), 0, datapoint) for m in rbf_methods}\n",
    "        r_yis = {m : np.transpose([f(test[:,0], test[:,1], test[:,2], test[:,3], test[:,4], test[:,5], test[:,6], test[:,7]) for f in r_fs[m]], (1, 0)) for m in rbf_methods}\n",
    "\n",
    "    elif(comp==17):\n",
    "        r_fs = {m : np.apply_along_axis(lambda s : itpl.Rbf(x[:,0], x[:,1], x[:,2], x[:,3], x[:,4], x[:,5], x[:,6], x[:,7], x[:,8], x[:,9], \n",
    "                                                            x[:,10], x[:,11], x[:,12], x[:,13], x[:,14], x[:,15], x[:,16], s, function=m), 0, datapoint) for m in rbf_methods}\n",
    "        r_yis = {m : np.transpose([f(test[:,0], test[:,1], test[:,2], test[:,3], test[:,4], test[:,5], test[:,6], test[:,7],test[:,8], test[:,9], \n",
    "                                     test[:,10], test[:,11], test[:,12], test[:,13], test[:,14], test[:,15], test[:,16]) for f in r_fs[m]], (1, 0)) for m in rbf_methods}        \n",
    "        \n",
    "    elif(comp==25):\n",
    "        r_fs = {m : np.apply_along_axis(lambda s : itpl.Rbf(x[:,0], x[:,1], x[:,2], x[:,3], x[:,4], x[:,5], x[:,6], x[:,7], x[:,8], x[:,9], \n",
    "                                                            x[:,10], x[:,11], x[:,12], x[:,13], x[:,14], x[:,15], x[:,16], x[:,17], x[:,18], x[:,19],\n",
    "                                                            x[:,20], x[:,21], x[:,22], x[:,23], x[:,24], s, function=m), 0, datapoint) for m in rbf_methods}\n",
    "        r_yis = {m : np.transpose([f(test[:,0], test[:,1], test[:,2], test[:,3], test[:,4], test[:,5], test[:,6], test[:,7],test[:,8], test[:,9], \n",
    "                                     test[:,10], test[:,11], test[:,12], test[:,13], test[:,14], test[:,15], test[:,16], test[:,17],test[:,18], test[:,19],\n",
    "                                     test[:,20], test[:,21], test[:,22], test[:,23], test[:,24]) for f in r_fs[m]], (1, 0)) for m in rbf_methods}\n",
    "        \n",
    "    elif(comp==55):\n",
    "        r_fs = {m : np.apply_along_axis(lambda s : itpl.Rbf(x[:,0], x[:,1], x[:,2], x[:,3], x[:,4], x[:,5], x[:,6], x[:,7], x[:,8], x[:,9], \n",
    "                                                            x[:,10], x[:,11], x[:,12], x[:,13], x[:,14], x[:,15], x[:,16], x[:,17], x[:,18], x[:,19],\n",
    "                                                            x[:,20], x[:,21], x[:,22], x[:,23], x[:,24], x[:,25], x[:,26], x[:,27], x[:,28], x[:,29],\n",
    "                                                            x[:,30], x[:,31], x[:,32], x[:,33], x[:,34], x[:,35], x[:,36], x[:,37], x[:,38], x[:,39],\n",
    "                                                            x[:,40], x[:,41], x[:,42], x[:,43], x[:,44], x[:,45], x[:,46], x[:,47], x[:,48], x[:,49],\n",
    "                                                            x[:,50], x[:,51], x[:,52], x[:,53], x[:,54], s, function=m), 0, datapoint) for m in rbf_methods}\n",
    "        r_yis = {m : np.transpose([f(test[:,0], test[:,1], test[:,2], test[:,3], test[:,4], test[:,5], test[:,6], test[:,7],test[:,8], test[:,9], \n",
    "                                     test[:,10], test[:,11], test[:,12], test[:,13], test[:,14], test[:,15], test[:,16], test[:,17],test[:,18], test[:,19],\n",
    "                                     test[:,20], test[:,21], test[:,22], test[:,23], test[:,24], test[:,25], test[:,26], test[:,27],test[:,28], test[:,29],\n",
    "                                     test[:,30], test[:,31], test[:,32], test[:,33], test[:,34], test[:,35], test[:,36], test[:,37],test[:,38], test[:,39],\n",
    "                                     test[:,40], test[:,41], test[:,42], test[:,43], test[:,44], test[:,45], test[:,46], test[:,47],test[:,48], test[:,49],\n",
    "                                     test[:,50], test[:,51], test[:,52], test[:,53], test[:,54]) for f in r_fs[m]], (1, 0)) for m in rbf_methods}\n",
    "\n",
    "    elif(comp==80):\n",
    "        r_fs = {m : np.apply_along_axis(lambda s : itpl.Rbf(x[:,0], x[:,1], x[:,2], x[:,3], x[:,4], x[:,5], x[:,6], x[:,7], x[:,8], x[:,9], \n",
    "                                                            x[:,10], x[:,11], x[:,12], x[:,13], x[:,14], x[:,15], x[:,16], x[:,17], x[:,18], x[:,19],\n",
    "                                                            x[:,20], x[:,21], x[:,22], x[:,23], x[:,24], x[:,25], x[:,26], x[:,27], x[:,28], x[:,29],\n",
    "                                                            x[:,30], x[:,31], x[:,32], x[:,33], x[:,34], x[:,35], x[:,36], x[:,37], x[:,38], x[:,39],\n",
    "                                                            x[:,40], x[:,41], x[:,42], x[:,43], x[:,44], x[:,45], x[:,46], x[:,47], x[:,48], x[:,49],\n",
    "                                                            x[:,50], x[:,51], x[:,52], x[:,53], x[:,54], x[:,55], x[:,56], x[:,57], x[:,58], x[:,59],\n",
    "                                                            x[:,60], x[:,61], x[:,62], x[:,63], x[:,64], x[:,65], x[:,66], x[:,67], x[:,68], x[:,69],\n",
    "                                                            x[:,70], x[:,71], x[:,72], x[:,73], x[:,74], x[:,75], x[:,76], x[:,77], x[:,78], x[:,79],\n",
    "                                                            s, function=m), 0, datapoint) for m in rbf_methods}\n",
    "        r_yis = {m : np.transpose([f(test[:,0], test[:,1], test[:,2], test[:,3], test[:,4], test[:,5], test[:,6], test[:,7],test[:,8], test[:,9], \n",
    "                                     test[:,10], test[:,11], test[:,12], test[:,13], test[:,14], test[:,15], test[:,16], test[:,17],test[:,18], test[:,19],\n",
    "                                     test[:,20], test[:,21], test[:,22], test[:,23], test[:,24], test[:,25], test[:,26], test[:,27],test[:,28], test[:,29],\n",
    "                                     test[:,30], test[:,31], test[:,32], test[:,33], test[:,34], test[:,35], test[:,36], test[:,37],test[:,38], test[:,39],\n",
    "                                     test[:,40], test[:,41], test[:,42], test[:,43], test[:,44], test[:,45], test[:,46], test[:,47],test[:,48], test[:,49],\n",
    "                                     test[:,50], test[:,51], test[:,52], test[:,53], test[:,54], test[:,55], test[:,56], test[:,57],test[:,58], test[:,59],\n",
    "                                     test[:,60], test[:,61], test[:,62], test[:,63], test[:,64], test[:,65], test[:,66], test[:,67],test[:,68], test[:,69],\n",
    "                                     test[:,70], test[:,71], test[:,72], test[:,73], test[:,74], test[:,75], test[:,76], test[:,77],test[:,78], test[:,79],\n",
    "                                    ) for f in r_fs[m]], (1, 0)) for m in rbf_methods}\n",
    "    else:print('select comp')\n",
    "#     for m in rbf_methods:\n",
    "#         print(m)\n",
    "#     for i in range(test_size):\n",
    "#         print(i, r_yis['thin_plate'][i][0])\n",
    "        \n",
    "    return r_yis['thin_plate']\n",
    "\n",
    "def calc_anomaly_score(good_scores):\n",
    "    anomaly_scores = np.empty(good_scores.shape[0])\n",
    "    for i in range(good_scores.shape[0]):\n",
    "        anomaly_scores[i] = -1*good_scores[i][0]+1\n",
    "        \n",
    "    return anomaly_scores"
   ]
  },
  {
   "cell_type": "markdown",
   "id": "4590c2cd-b92b-430b-b827-70fd0f4259fc",
   "metadata": {},
   "source": [
    "## Loading images"
   ]
  },
  {
   "cell_type": "code",
   "execution_count": null,
   "id": "833fbb64-1e01-488b-847d-4555cd4e9090",
   "metadata": {},
   "outputs": [],
   "source": [
    "images = []\n",
    "for i in range(0, 2000):\n",
    "    image = cv2.imread('datasets/question-20~20/{0:05d}.png'.format(i))\n",
    "    image = cv2.cvtColor(image, cv2.COLOR_BGR2RGB)\n",
    "    images.append(image)\n",
    "\n",
    "images  = np.array(images)\n",
    "print(images.shape)"
   ]
  },
  {
   "cell_type": "markdown",
   "id": "d1b45406-b64f-471f-a9bc-ece5f80dd4e9",
   "metadata": {},
   "source": [
    "## Loding parameter"
   ]
  },
  {
   "cell_type": "code",
   "execution_count": 3,
   "id": "6b8d6395-61fc-47ba-b1ef-5d5d97a6f6b2",
   "metadata": {
    "tags": []
   },
   "outputs": [
    {
     "name": "stdout",
     "output_type": "stream",
     "text": [
      "   A  B  C   average  average_round  majority  majority_corr  Unnamed: 7\n",
      "0  1  1  2  1.333333              1       1.0              1           0\n",
      "1  1  1  2  1.333333              1       1.0              1           0\n",
      "2  1  5  2  2.666667              3       NaN              3           0\n",
      "3  1  5  1  2.333333              2       1.0              1           1\n",
      "4  3  5  3  3.666667              4       3.0              3           1\n",
      "5  1  3  4  2.666667              3       NaN              3           0\n",
      "[2. 2. 2. 1. 3. 4. 3. 4. 2. 2. 3. 3. 4. 4. 4. 4. 2. 4. 2. 4. 2. 2. 3. 3.\n",
      " 2. 3. 4. 3. 4. 3. 4. 2. 3. 3. 4. 2. 2. 2. 3. 3. 3. 3. 3. 2. 2. 2. 1. 2.\n",
      " 1. 3. 5. 5. 4. 4. 4. 3. 2. 2. 3. 2. 4. 2. 4. 2. 2. 2. 3. 5. 4. 3. 2. 4.\n",
      " 4. 4. 2. 3. 2. 4. 2. 3. 4. 3. 2. 2. 4. 3. 3. 4. 3. 4. 2. 2. 4. 5. 2. 3.\n",
      " 5. 3. 5. 2. 3. 4. 3. 4. 3. 2. 4. 4. 2. 3. 3. 2. 3. 2. 3. 5. 5. 3. 3. 4.\n",
      " 4. 2. 2. 4. 4. 2. 4. 2. 4. 4. 2. 2. 3. 3. 2. 3. 2. 2. 3. 3. 4. 3. 2. 2.\n",
      " 3. 4. 2. 3. 3. 3. 4. 2. 3. 3. 3. 2. 2. 4. 2. 2. 4. 2. 3. 2. 4. 2. 2. 3.\n",
      " 3. 4. 2. 3. 4. 2. 3. 3. 4. 4. 2. 4. 4. 4. 3. 4. 3. 4. 4. 4. 2. 4. 4. 3.\n",
      " 4. 3. 2. 4. 4. 5. 3. 2. 2. 4. 2. 3. 2. 3. 3. 2. 2. 4. 2. 4. 2. 2. 3. 4.\n",
      " 4. 2. 4. 2. 4. 2. 4. 4. 2. 4. 3. 4. 5. 4. 3. 3. 3. 4. 3. 3. 4. 3. 4. 3.\n",
      " 3. 2. 2. 2. 4. 4. 2. 2. 3. 2. 4. 4. 3. 3. 3. 3. 4. 3. 4. 5. 4. 3. 4. 3.\n",
      " 4. 3. 2. 2. 3. 4. 4. 3. 4. 4. 3. 4. 5. 2. 4. 2. 2. 4. 3. 2. 4. 2. 4. 2.\n",
      " 4. 4. 2. 2. 4. 4. 2. 3. 4. 4. 2. 2. 2. 3. 3. 3. 2. 3. 3. 3. 4. 2. 4. 3.\n",
      " 4. 4. 3. 4. 2. 3. 3. 4. 2. 2. 3. 3. 4. 2. 2. 2. 4. 4. 2. 4. 3. 3. 4. 3.\n",
      " 4. 2. 3. 2. 2. 3. 2. 4. 4. 4. 3. 2. 2. 4. 3. 2. 4. 2. 2. 4. 4. 3. 3. 3.\n",
      " 3. 2. 3. 4. 3. 3. 2. 3. 4. 4. 2. 2. 3. 2. 2. 3. 4. 3. 3. 3. 2. 2. 4. 4.\n",
      " 2. 4. 2. 2. 4. 4. 2. 4. 3. 2. 4. 3. 2. 3. 2. 2. 3. 4. 3. 4. 5. 4. 4. 3.\n",
      " 3. 2. 4. 2. 3. 4. 3. 3. 3. 4. 4. 2. 4. 4. 1. 2. 3. 4. 3. 2. 4. 3. 3. 4.\n",
      " 2. 2. 4. 3. 4. 3. 4. 2. 2. 2. 3. 3. 3. 3. 3. 2. 4. 2. 3. 4. 4. 3. 4. 4.\n",
      " 4. 2. 3. 4. 2. 2. 3. 3. 3. 2. 4. 3. 2. 5. 2. 2. 2. 2. 4. 2. 2. 4. 4. 2.\n",
      " 2. 2. 3. 3. 3. 3. 3. 2. 2. 3. 3. 4. 4. 3. 3. 4. 2. 4. 2. 4. 2. 4. 2. 2.\n",
      " 3. 2. 2. 4. 4. 2. 2. 2. 2. 3. 2. 4. 2. 4. 4. 2. 2. 3. 4. 2. 3. 4. 4. 4.\n",
      " 4. 3. 1. 2. 2. 2. 4. 3. 4. 4. 4. 3. 2. 4. 4. 4. 4. 2. 4. 5. 3. 5. 3. 3.\n",
      " 4. 4. 4. 2. 2. 4. 2. 2. 4. 2. 2. 3. 2. 4. 4. 2. 4. 2. 4. 3. 2. 3. 3. 2.\n",
      " 4. 2. 2. 2. 1. 4. 4. 3. 4. 3. 4. 4. 4. 4. 4. 4. 2. 5. 3. 4. 2. 4. 4. 4.\n",
      " 4. 3. 2. 2. 3. 4. 4. 3. 4. 2. 3. 2. 2. 3. 2. 2. 3. 4. 3. 2. 3. 4. 5. 4.\n",
      " 4. 4. 4. 2. 4. 4. 2. 2. 4. 4. 2. 4. 4. 3. 4. 3. 2. 2. 3. 2. 2. 2. 4. 2.\n",
      " 4. 2. 3. 4. 4. 4. 2. 2. 3. 2. 2. 4. 3. 4. 4. 4. 4. 3. 3. 2. 3. 3. 2. 3.\n",
      " 2. 2. 3. 2. 4. 2. 4. 4. 2. 2. 4. 2. 3. 3. 2. 4. 4. 2. 2. 4. 4. 2. 4. 2.\n",
      " 4. 4. 4. 3. 2. 2. 3. 4. 2. 1. 2. 4. 5. 4. 2. 2. 3. 1. 2. 4. 2. 4. 2. 4.\n",
      " 4. 3. 4. 2. 4. 2. 4. 4. 4. 4. 3. 2. 4. 1. 4. 4. 1. 4. 2. 4. 2. 4. 4. 2.\n",
      " 4. 2. 4. 4. 4. 3. 4. 3. 2. 4. 2. 2. 4. 2. 3. 2. 2. 4. 2. 4. 2. 4. 4. 4.\n",
      " 4. 2. 3. 4. 4. 4. 2. 2. 2. 2. 3. 2. 2. 4. 4. 4. 4. 2. 4. 2. 3. 2. 4. 3.\n",
      " 4. 2. 4. 3. 2. 2. 2. 3. 2. 4. 2. 2. 2. 4. 2. 4. 4. 2. 4. 4. 2. 4. 4. 3.\n",
      " 2. 2. 3. 3. 4. 3. 3. 4. 4. 4. 2. 3. 2. 4. 4. 4. 4. 4. 2. 3. 3. 4. 2. 2.\n",
      " 2. 4. 4. 4. 4. 2. 2. 2. 2. 2. 4. 4. 3. 4. 2. 2. 4. 4. 4. 2. 1. 4. 4. 3.\n",
      " 2. 4. 2. 1. 3. 4. 2. 4. 2. 4. 2. 3. 4. 4. 2. 3. 3. 2. 4. 3. 3. 4. 4. 3.\n",
      " 4. 4. 2. 4. 3. 3. 3. 3. 4. 3. 3. 3. 4. 2. 2. 2. 3. 4. 2. 2. 3. 4. 2. 4.\n",
      " 2. 2. 4. 2. 2. 3. 2. 4. 2. 2. 3. 2. 2. 3. 4. 2. 2. 2. 2. 4. 2. 2. 3. 2.\n",
      " 4. 4. 2. 3. 4. 4. 4. 4. 2. 4. 4. 1. 4. 1. 2. 4. 4. 4. 2. 4. 2. 4. 4. 2.\n",
      " 3. 2. 3. 4. 2. 3. 2. 4. 2. 4. 4. 2. 5. 2. 1. 4. 2. 3. 4. 4. 4. 4. 4. 4.\n",
      " 2. 4. 2. 4. 4. 2. 2. 4. 2. 2. 1. 5. 2. 4. 4. 4.]\n"
     ]
    }
   ],
   "source": [
    "param = np.load('datasets/question-20~20/param.npy')\n",
    "df = pd.read_excel('questionnaire/inspector.xlsx')\n",
    "print(df.head(6))\n",
    "evaluation = np.array(df.iloc[:, 2], dtype='float32')\n",
    "print(evaluation)"
   ]
  },
  {
   "cell_type": "code",
   "execution_count": 6,
   "id": "20a34ed6-b246-4333-a0b5-74ab8b025f02",
   "metadata": {},
   "outputs": [],
   "source": [
    "M = 2000\n",
    "comp = 8 # 3,4,8,25,55,80\n",
    "nearest = 20\n",
    "w = 5\n",
    "\n",
    "x, AA, b = simultaneous_equations(M, comp, nearest, w, param, evaluation)\n",
    "y = calc_equations(AA, b, method='lu')\n",
    "datapoint = prepare_datapoint(M, comp, y)\n",
    "test = param[:, :comp]\n",
    "x_norm = normalization(x)\n",
    "test_norm = normalization2(test, x)\n",
    "good_scores = estimate_test(comp, x_norm, datapoint, test_norm)\n",
    "scores = calc_anomaly_score(good_scores)"
   ]
  },
  {
   "cell_type": "code",
   "execution_count": 7,
   "id": "88aea942-3f65-4ed4-ba5b-7991694c150e",
   "metadata": {},
   "outputs": [
    {
     "name": "stdout",
     "output_type": "stream",
     "text": [
      "10000\n"
     ]
    }
   ],
   "source": [
    "top = []\n",
    "low = []\n",
    "mix = []\n",
    "labels = []\n",
    "\n",
    "for i in range(good_scores.shape[0]):\n",
    "    top.append(test[i])\n",
    "    labels.append(good_scores[i][0])\n",
    "\n",
    "top = np.array(top)\n",
    "labels = np.array(labels)\n",
    "\n",
    "print(len(top))"
   ]
  },
  {
   "cell_type": "markdown",
   "id": "bbcb9bfc-7a50-48bd-8a9e-a3d206c13fa9",
   "metadata": {},
   "source": [
    "## Plot"
   ]
  },
  {
   "cell_type": "code",
   "execution_count": null,
   "id": "96730893-9157-4dfa-8630-25597eb26d36",
   "metadata": {},
   "outputs": [],
   "source": [
    "# color = ['tab:blue', 'tab:orange', 'tab:green', 'tab:red', 'tab:purple', 'tab:brown', 'tab:pink', 'tab:gray', 'tab:olive', 'tab:cyan', 'black']\n",
    "color = ['black', 'tab:gray', 'tab:brown',  'tab:purple', 'tab:blue', 'tab:cyan','tab:green', 'tab:olive', 'tab:orange', 'tab:red', 'tab:red']\n",
    "# plt.figure(figsize=(4.8, 4.8))\n",
    "for i in range(len(top)):\n",
    "    plt.scatter(test[i,0], test[i,1], c=color[int(labels[i]*10)])\n",
    "plt.xlabel('d 1')\n",
    "plt.ylabel('d 2')\n",
    "plt.xlim(-12, 12)\n",
    "plt.ylim(-12, 12)\n",
    "# plt.savefig('results/distribution/C_comp8_d1d2_2.png')\n",
    "plt.show()"
   ]
  },
  {
   "cell_type": "code",
   "execution_count": null,
   "id": "4c697bf3-13db-45be-9406-950729a219e3",
   "metadata": {
    "tags": []
   },
   "outputs": [],
   "source": [
    "# color = ['tab:blue', 'tab:orange', 'tab:green', 'tab:red', 'tab:purple', 'tab:brown', 'tab:pink', 'tab:gray', 'tab:olive', 'tab:cyan', 'black']\n",
    "color = cm.RdYlBu(np.linspace(0, 1, 11))\n",
    "# plt.figure(figsize=(4.8, 4.8))\n",
    "for i in range(len(top)):\n",
    "    plt.scatter(test[i,0], test[i,1], c=[color[10-int(labels[i]*10)]])\n",
    "\n",
    "plt.xlabel('d 1')\n",
    "plt.ylabel('d 2')\n",
    "plt.xlim(-12, 12)\n",
    "plt.ylim(-12, 12)\n",
    "# plt.savefig('results/distribution/A_comp8_d1d2_RdYlBu_10_inv.png')\n",
    "plt.show()"
   ]
  },
  {
   "cell_type": "code",
   "execution_count": null,
   "id": "7a3e2a59-6ec9-4249-a35e-90f27cdc9a1b",
   "metadata": {},
   "outputs": [],
   "source": [
    "# color = cm.RdYlBu(np.linspace(0, 1, 11))\n",
    "# plt.figure(figsize=(4.8, 4.8))\n",
    "for i in range(len(top)):\n",
    "    plt.scatter(test[i,0], test[i,1], c=[cm.Spectral(int(255-labels[i]*255))])\n",
    "\n",
    "plt.xlabel('d 1')\n",
    "plt.ylabel('d 2')\n",
    "plt.xlim(-12, 12)\n",
    "plt.ylim(-12, 12)\n",
    "# plt.savefig('results/distribution/C_comp8_d1d2_Spectral_256_inv.png')\n",
    "plt.show()"
   ]
  },
  {
   "cell_type": "code",
   "execution_count": null,
   "id": "4dc1298a-976c-4f57-8b28-e78159a64cde",
   "metadata": {},
   "outputs": [],
   "source": [
    "gradient = np.linspace(0, 1, 7)\n",
    "gradient = np.vstack((gradient, gradient))\n",
    "\n",
    "fig, ax = plt.subplots()\n",
    "ax.imshow(gradient, aspect=1, cmap=plt.cm.Spectral)\n",
    "ax.set_axis_off()\n",
    "plt.savefig('results/color/color_bar_7.png')"
   ]
  },
  {
   "cell_type": "code",
   "execution_count": null,
   "id": "0892d011-c416-498a-9024-969c2607c1ae",
   "metadata": {},
   "outputs": [],
   "source": [
    "for i in range(10):\n",
    "    print(labels[i]*255)"
   ]
  },
  {
   "cell_type": "markdown",
   "id": "5935e70d-8941-44fe-adfb-dfd461dd99be",
   "metadata": {},
   "source": [
    "# Opt_slider"
   ]
  },
  {
   "cell_type": "code",
   "execution_count": 4,
   "id": "233bc060-3529-4560-9e16-5d7eefb9ed13",
   "metadata": {},
   "outputs": [],
   "source": [
    "M = 2000\n",
    "comp = 8 # 3,4,8,25,55,80\n",
    "nearest = 20\n",
    "w = 5\n",
    "\n",
    "x, AA, b = simultaneous_equations(M, comp, nearest, w, param, evaluation)\n",
    "y = calc_equations(AA, b, method='lu')\n",
    "datapoint = prepare_datapoint(M, comp, y)\n",
    "x_norm = normalization(x)"
   ]
  },
  {
   "cell_type": "code",
   "execution_count": 130,
   "id": "c5f646cc-0fd2-4ca9-98d3-00c4be0db645",
   "metadata": {},
   "outputs": [],
   "source": [
    "stdev = np.array((2.8870149, 2.6993024, 2.379388, 2.3120775, 1.1733598, 0.9280059, 0.66007274, 0.65428257))\n",
    "k = 8\n",
    "test = np.zeros((801, 8))\n",
    "# step = np.arange(-40*stdev[k-1], 41*stdev[k-1], stdev[k-1])\n",
    "step = np.arange(-40, 41, 0.1)\n",
    "\n",
    "\n",
    "for i in range(len(test)):\n",
    "    test[i,k-1] = step[i]"
   ]
  },
  {
   "cell_type": "code",
   "execution_count": 131,
   "id": "56c68074-e085-4474-9a67-8f77ca31c0be",
   "metadata": {
    "tags": []
   },
   "outputs": [
    {
     "data": {
      "text/plain": [
       "array([[  0. ,   0. ,   0. , ...,   0. ,   0. , -40. ],\n",
       "       [  0. ,   0. ,   0. , ...,   0. ,   0. , -39.9],\n",
       "       [  0. ,   0. ,   0. , ...,   0. ,   0. , -39.8],\n",
       "       ...,\n",
       "       [  0. ,   0. ,   0. , ...,   0. ,   0. ,  39.8],\n",
       "       [  0. ,   0. ,   0. , ...,   0. ,   0. ,  39.9],\n",
       "       [  0. ,   0. ,   0. , ...,   0. ,   0. ,  40. ]])"
      ]
     },
     "execution_count": 131,
     "metadata": {},
     "output_type": "execute_result"
    }
   ],
   "source": [
    "test"
   ]
  },
  {
   "cell_type": "code",
   "execution_count": 132,
   "id": "3c9c21bd-735d-4e5d-97cc-909eb8479a6f",
   "metadata": {},
   "outputs": [],
   "source": [
    "test_norm = normalization2(test, x)\n",
    "good_scores = estimate_test(comp, x_norm, datapoint, test_norm)\n",
    "scores = calc_anomaly_score(good_scores)"
   ]
  },
  {
   "cell_type": "code",
   "execution_count": 133,
   "id": "ee16320b-6efc-47de-b7e3-099b1ebd4203",
   "metadata": {},
   "outputs": [
    {
     "name": "stdout",
     "output_type": "stream",
     "text": [
      "801\n"
     ]
    }
   ],
   "source": [
    "top = []\n",
    "low = []\n",
    "mix = []\n",
    "labels = []\n",
    "\n",
    "for i in range(good_scores.shape[0]):\n",
    "    top.append(test[i])\n",
    "    labels.append(good_scores[i][0])\n",
    "\n",
    "top = np.array(top)\n",
    "labels = np.array(labels)\n",
    "\n",
    "print(len(top))"
   ]
  },
  {
   "cell_type": "code",
   "execution_count": 134,
   "id": "cf97a1f8-bd29-48be-9af2-042707e0556b",
   "metadata": {},
   "outputs": [
    {
     "data": {
      "image/png": "[encoded data removed]",
      "text/plain": [
       "<Figure size 576x144 with 1 Axes>"
      ]
     },
     "metadata": {},
     "output_type": "display_data"
    }
   ],
   "source": [
    "plt.rcParams['font.size'] =14\n",
    "\n",
    "data = scores[np.newaxis, :]\n",
    "fig, ax = plt.subplots(figsize=(8,2))\n",
    "im = ax.imshow(data, vmin=0, vmax=1, cmap=plt.cm.Spectral, aspect=160)\n",
    "\n",
    "\n",
    "ax.tick_params(labelbottom=False,\n",
    "               labelleft=False,\n",
    "               labelright=False,\n",
    "               labeltop=False)\n",
    "\n",
    "ax.tick_params(bottom=False,\n",
    "               left=False,\n",
    "               right=False,\n",
    "               top=False)\n",
    "# plt.colorbar(im)\n",
    "plt.show()\n",
    "\n",
    "fig.savefig(f'results/slider/d{k}_40.png')"
   ]
  },
  {
   "cell_type": "markdown",
   "id": "39d00719-ba03-40c2-9555-7381385e5545",
   "metadata": {},
   "source": [
    "# Opt_slider2"
   ]
  },
  {
   "cell_type": "code",
   "execution_count": 300,
   "id": "224c380a-b420-4404-af3b-076545ac9239",
   "metadata": {},
   "outputs": [],
   "source": [
    "M = 2000\n",
    "comp = 8 # 3,4,8,25,55,80\n",
    "nearest = 20\n",
    "w = 5\n",
    "\n",
    "x, AA, b = simultaneous_equations(M, comp, nearest, w, param, evaluation)\n",
    "y = calc_equations(AA, b, method='lu')\n",
    "datapoint = prepare_datapoint(M, comp, y)\n",
    "x_norm = normalization(x)"
   ]
  },
  {
   "cell_type": "code",
   "execution_count": 301,
   "id": "852157ce-6d90-48b8-8978-2c828ab1627f",
   "metadata": {},
   "outputs": [],
   "source": [
    "step = np.arange(-10, 10.1, 0.1)\n",
    "n = len(step)\n",
    "test = np.zeros((n**2, 8))\n",
    "\n",
    "for i in range(len(test)):\n",
    "    test[i,0] = step[i%n]\n",
    "\n",
    "for j in range(int(np.sqrt(len(test)))):\n",
    "    test[j*n:j*n+n,1]=step[n-1-j]"
   ]
  },
  {
   "cell_type": "code",
   "execution_count": 302,
   "id": "99b843c2-70ae-41b4-8a01-19de01e35eea",
   "metadata": {},
   "outputs": [
    {
     "data": {
      "text/plain": [
       "array([[-10. ,  10. ,   0. , ...,   0. ,   0. ,   0. ],\n",
       "       [ -9.9,  10. ,   0. , ...,   0. ,   0. ,   0. ],\n",
       "       [ -9.8,  10. ,   0. , ...,   0. ,   0. ,   0. ],\n",
       "       ...,\n",
       "       [  9.8, -10. ,   0. , ...,   0. ,   0. ,   0. ],\n",
       "       [  9.9, -10. ,   0. , ...,   0. ,   0. ,   0. ],\n",
       "       [ 10. , -10. ,   0. , ...,   0. ,   0. ,   0. ]])"
      ]
     },
     "execution_count": 302,
     "metadata": {},
     "output_type": "execute_result"
    }
   ],
   "source": [
    "test"
   ]
  },
  {
   "cell_type": "code",
   "execution_count": 303,
   "id": "b2f2618f-5c39-4a53-8faa-1b7076ff5afc",
   "metadata": {},
   "outputs": [],
   "source": [
    "test_norm = normalization2(test, x)\n",
    "good_scores = estimate_test(comp, x_norm, datapoint, test_norm)\n",
    "scores = calc_anomaly_score(good_scores)"
   ]
  },
  {
   "cell_type": "code",
   "execution_count": 304,
   "id": "d4167a3a-67e3-4f15-9156-18fb74038614",
   "metadata": {},
   "outputs": [
    {
     "name": "stdout",
     "output_type": "stream",
     "text": [
      "40401\n"
     ]
    }
   ],
   "source": [
    "top = []\n",
    "low = []\n",
    "mix = []\n",
    "labels = []\n",
    "\n",
    "for i in range(good_scores.shape[0]):\n",
    "    top.append(test[i])\n",
    "    labels.append(good_scores[i][0])\n",
    "\n",
    "top = np.array(top)\n",
    "labels = np.array(labels)\n",
    "\n",
    "print(len(top))"
   ]
  },
  {
   "cell_type": "code",
   "execution_count": 305,
   "id": "65525410-df7f-47a8-b2e3-640a5222ba7e",
   "metadata": {},
   "outputs": [],
   "source": [
    "data = np.zeros((n, n))\n",
    "for i in range(n):\n",
    "    for j in range(n):\n",
    "        data[i,j] = scores[i*n+j]"
   ]
  },
  {
   "cell_type": "code",
   "execution_count": 306,
   "id": "9302862c-fbc4-4528-a435-6e85a3a57eea",
   "metadata": {},
   "outputs": [
    {
     "data": {
      "image/png": "[encoded data removed]",
      "text/plain": [
       "<Figure size 576x432 with 1 Axes>"
      ]
     },
     "metadata": {},
     "output_type": "display_data"
    }
   ],
   "source": [
    "plt.rcParams['font.size'] =14\n",
    "\n",
    "# data = scores[np.newaxis, :]\n",
    "fig, ax = plt.subplots(figsize=(8,6))\n",
    "im = ax.imshow(data, vmin=0, vmax=1, cmap=plt.cm.Spectral)\n",
    "\n",
    "ax.tick_params(labelbottom=False,\n",
    "               labelleft=False,\n",
    "               labelright=False,\n",
    "               labeltop=False)\n",
    "\n",
    "ax.tick_params(bottom=False,\n",
    "               left=False,\n",
    "               right=False,\n",
    "               top=False)\n",
    "# plt.colorbar(im)\n",
    "plt.show()\n",
    "\n",
    "fig.savefig('results/distribution/A_comp8_d1d2_grid.png')"
   ]
  },
  {
   "cell_type": "markdown",
   "id": "a53df6ba-7ee8-472f-a47e-c2ba237b291d",
   "metadata": {},
   "source": [
    "# Plot images"
   ]
  },
  {
   "cell_type": "code",
   "execution_count": 4,
   "id": "6646c0b6-2327-4be9-a5c1-b91e73f6c570",
   "metadata": {},
   "outputs": [],
   "source": [
    "# images = []\n",
    "# for i in range(0, 2000):\n",
    "#     image = cv2.imread('datasets/question-20~20/{0:05d}.png'.format(i))\n",
    "#     image = cv2.cvtColor(image, cv2.COLOR_BGR2RGB)\n",
    "#     images.append(image)\n",
    "\n",
    "# images  = np.array(images)\n",
    "# print(images.shape)\n",
    "\n",
    "images = []\n",
    "\n",
    "paths = glob.glob('/home/nakamura/yamaha/anomaly_dataset/test/*.png')\n",
    "paths.sort()\n",
    "# for path in paths:\n",
    "#     image = cv2.imread(path)\n",
    "#     image = cv2.cvtColor(image, cv2.COLOR_BGR2RGB)\n",
    "#     images.append(image)"
   ]
  },
  {
   "cell_type": "code",
   "execution_count": 28,
   "id": "8f7cdb5b-6191-41e4-a166-9a08cfeb6453",
   "metadata": {},
   "outputs": [
    {
     "name": "stdout",
     "output_type": "stream",
     "text": [
      "0:0.7770565673976746\n",
      "1:0.9159118737991037\n",
      "2:0.4404651822694685\n",
      "3:0.6144127702118658\n",
      "4:0.683767067018457\n",
      "5:0.8960243217582384\n",
      "6:0.44416971096919466\n",
      "7:0.4511953214439668\n",
      "8:0.5998324067948557\n",
      "9:0.7136004977910355\n",
      "10:0.5826968712998726\n",
      "11:0.7937999422252\n",
      "12:0.7251820687531776\n",
      "13:0.4663092305408437\n",
      "14:0.5860470637235053\n",
      "15:0.6058568937029238\n",
      "16:0.2606353498098475\n",
      "17:0.36961553877082287\n",
      "18:0.5645444470025796\n",
      "19:0.2340414779986255\n",
      "20:0.5001224639443964\n",
      "21:0.3991363367692211\n",
      "22:0.4927920815992881\n",
      "23:0.3701609069769951\n",
      "24:0.5116176011392913\n",
      "25:0.7194906396230145\n",
      "26:0.6431509776484639\n",
      "27:0.3136384682224511\n",
      "28:0.697680786574109\n",
      "29:0.7813557245613829\n"
     ]
    }
   ],
   "source": [
    "test = np.load('questionnaire/param_test2.npy')\n",
    "x_norm = normalization(x)\n",
    "test_norm = normalization2(test, x)\n",
    "good_scores = estimate_test(comp, x_norm, datapoint, test_norm)\n",
    "scores = calc_anomaly_score(good_scores)\n",
    "\n",
    "for i in range(test.shape[0]):\n",
    "    print('{}:{}'.format(i, scores[i]))"
   ]
  },
  {
   "cell_type": "code",
   "execution_count": 68,
   "id": "162ddbb3-0502-4083-8247-725f646f076b",
   "metadata": {},
   "outputs": [
    {
     "data": {
      "image/png": "[encoded data removed]",
      "text/plain": [
       "<Figure size 432x288 with 1 Axes>"
      ]
     },
     "metadata": {
      "needs_background": "light"
     },
     "output_type": "display_data"
    }
   ],
   "source": [
    "fig, ax = plt.subplots() \n",
    "# imscatter(test, paths, ax=ax,  zoom=.1) \n",
    "for i in range(15):\n",
    "    ax.scatter(test[i,0], test[i,1], c='tab:orange')\n",
    "    ax.scatter(test[i+15,0], test[i+15,1], c='tab:blue')\n",
    " \n",
    "plt.xlim(-10, 10)\n",
    "plt.ylim(-10, 10)\n",
    "# plt.savefig('cactus_plot.png',dpi=200, transparent=False)\n",
    "plt.show() "
   ]
  },
  {
   "cell_type": "code",
   "execution_count": 206,
   "id": "b42633df-530c-444e-a355-69ec4b098b0e",
   "metadata": {
    "collapsed": true,
    "jupyter": {
     "outputs_hidden": true
    },
    "tags": []
   },
   "outputs": [
    {
     "data": {
      "image/png": "[encoded data removed]",
      "text/plain": [
       "<Figure size 432x288 with 1 Axes>"
      ]
     },
     "metadata": {
      "needs_background": "light"
     },
     "output_type": "display_data"
    }
   ],
   "source": [
    "def imscatter(x, y, image, ax=None, zoom=1): \n",
    "    if ax is None: \n",
    "     ax = plt.gca() \n",
    "    try: \n",
    "     image = plt.imread(image) \n",
    "    except TypeError: \n",
    "     # Likely already an array... \n",
    "     pass \n",
    "    im = OffsetImage(image, zoom=zoom) \n",
    "    x, y = np.atleast_1d(x, y) \n",
    "    artists = [] \n",
    "    for x0, y0 in zip(x, y): \n",
    "     ab = AnnotationBbox(im, (x0, y0), xycoords='data', frameon=False) \n",
    "     artists.append(ax.add_artist(ab)) \n",
    "    ax.update_datalim(np.column_stack([x, y])) \n",
    "    ax.autoscale() \n",
    "    return artists \n",
    "\n",
    "x,y =np.random.rand(2, 20)\n",
    "\n",
    "image_path = 'cactus5.png' \n",
    "fig, ax = plt.subplots() \n",
    "imscatter(x, y, image_path, ax=ax,  zoom=.25) \n",
    "ax.plot(x, y, 'ko',alpha=0) \n",
    "# plt.savefig('cactus_plot.png',dpi=200, transparent=False)\n",
    "plt.show() "
   ]
  },
  {
   "cell_type": "code",
   "execution_count": 54,
   "id": "5c0c7b6a-00a2-4682-9870-dce9897b8035",
   "metadata": {},
   "outputs": [],
   "source": [
    "def imscatter(test, paths, ax=None, zoom=1): \n",
    "\n",
    "    artists = [] \n",
    "    # for i in range(len(paths)):\n",
    "    for i in range(15):    \n",
    "        image = plt.imread(paths[i]) \n",
    "        im = OffsetImage(image, zoom=zoom) \n",
    "        ab = AnnotationBbox(im, (test[i,0], test[i,1]), xycoords='data', frameon=False) \n",
    "        artists.append(ax.add_artist(ab)) \n",
    "    ax.autoscale() \n",
    "    return artists "
   ]
  },
  {
   "cell_type": "code",
   "execution_count": 55,
   "id": "36f6b533-0447-4ca8-81fe-36bd0a368a26",
   "metadata": {},
   "outputs": [
    {
     "data": {
      "image/png": "[encoded data removed]",
      "text/plain": [
       "<Figure size 432x288 with 1 Axes>"
      ]
     },
     "metadata": {
      "needs_background": "light"
     },
     "output_type": "display_data"
    }
   ],
   "source": [
    "fig, ax = plt.subplots() \n",
    "imscatter(test, paths, ax=ax,  zoom=.1) \n",
    "ax.plot(test[:,0], test[:,1], 'ko',alpha=0) \n",
    "plt.xlim(-10, 10)\n",
    "plt.ylim(-10, 10)\n",
    "# plt.savefig('cactus_plot.png',dpi=200, transparent=False)\n",
    "plt.show() "
   ]
  },
  {
   "cell_type": "code",
   "execution_count": 48,
   "id": "b6cb747e-5d3d-4d7a-b004-680da3a8d323",
   "metadata": {},
   "outputs": [
    {
     "data": {
      "image/png": "[encoded data removed]",
      "text/plain": [
       "<Figure size 576x432 with 1 Axes>"
      ]
     },
     "metadata": {},
     "output_type": "display_data"
    }
   ],
   "source": [
    "fig, ax = plt.subplots(figsize=(8,6)) \n",
    "fig.patch.set_facecolor('white')\n",
    "\n",
    "# imscatter(test, paths, ax=ax,  zoom=.1) \n",
    "# ax.plot(test[:,0], test[:,1], 'ko',alpha=0) \n",
    "\n",
    "for i in range(15):\n",
    "    if(i==0):\n",
    "        ax.scatter(test[i+15,0], test[i+15,1], c='w', label='    ')\n",
    "        ax.scatter(test[i,0], test[i,1], c='k',label='           ')\n",
    "    else:\n",
    "        ax.scatter(test[i+15,0], test[i+15,1], c='w')\n",
    "        ax.scatter(test[i,0], test[i,1], c='k')\n",
    "        \n",
    "plt.xlim(-10, 10)\n",
    "plt.ylim(-10, 10)\n",
    "# plt.savefig('cactus_plot.png',dpi=200, transparent=False)\n",
    "\n",
    "im = Image.open('/home/nakamura/ganspace/results/distribution/B_comp8_d1d2_grid.png')\n",
    "ax.imshow(im)\n",
    "\n",
    "ax.tick_params(labelbottom=False,\n",
    "               labelleft=False,\n",
    "               labelright=False,\n",
    "               labeltop=False)\n",
    "\n",
    "ax.tick_params(bottom=False,\n",
    "               left=False,\n",
    "               right=False,\n",
    "               top=False)\n",
    "\n",
    "ax.legend()\n",
    "\n",
    "plt.savefig('/home/nakamura/ganspace/results/distribution/d1d2_point.png', transparent=True)\n",
    "plt.show()"
   ]
  },
  {
   "cell_type": "code",
   "execution_count": 33,
   "id": "aed0a0a8-9f11-4430-9814-0a566667a7df",
   "metadata": {},
   "outputs": [
    {
     "data": {
      "image/png": "[encoded data removed]",
      "text/plain": [
       "<Figure size 576x432 with 1 Axes>"
      ]
     },
     "metadata": {},
     "output_type": "display_data"
    }
   ],
   "source": [
    "fig, ax = plt.subplots(figsize=(8,6)) \n",
    "fig.patch.set_facecolor('white')\n",
    "\n",
    "# imscatter(test, paths, ax=ax,  zoom=.1) \n",
    "# ax.plot(test[:,0], test[:,1], 'ko',alpha=0) \n",
    "\n",
    "# for i in range(15):\n",
    "#     ax.scatter(test[i,0], test[i,1], c='tab:orange')\n",
    "#     ax.scatter(test[i+15,0], test[i+15,1], c='tab:blue')\n",
    "\n",
    "# 0, 10, 15, 19\n",
    "ax.scatter(test[0,0], test[0,1], c='k',label='           ')\n",
    "ax.scatter(test[10,0], test[10,1], c='k')\n",
    "ax.scatter(test[15,0], test[15,1], c='w',label='           ')\n",
    "ax.scatter(test[19,0], test[19,1], c='w')\n",
    "\n",
    "\n",
    "plt.xlim(-10, 10)\n",
    "plt.ylim(-10, 10)\n",
    "\n",
    "im = Image.open('/home/nakamura/ganspace/results/distribution/A_comp8_d1d2_grid.png')\n",
    "ax.imshow(im, extent=[*(-20, 20),  *(-20, 20)])\n",
    "\n",
    "ax.tick_params(labelbottom=False,\n",
    "               labelleft=False,\n",
    "               labelright=False,\n",
    "               labeltop=False)\n",
    "\n",
    "ax.tick_params(bottom=False,\n",
    "               left=False,\n",
    "               right=False,\n",
    "               top=False)\n",
    "ax.legend()\n",
    "\n",
    "\n",
    "plt.savefig('/home/nakamura/ganspace/results/distribution/A_comp8_d1d2_grid_point.png', transparent=False)\n",
    "plt.show()"
   ]
  },
  {
   "cell_type": "markdown",
   "id": "1b6ead92-e2f4-4f4e-804d-360365057b42",
   "metadata": {
    "tags": []
   },
   "source": [
    "## PCA"
   ]
  },
  {
   "cell_type": "code",
   "execution_count": null,
   "id": "2ba55802-28c7-469f-b971-ecd32ed3012a",
   "metadata": {},
   "outputs": [],
   "source": [
    "pca = PCA(n_components=2, whiten=False)\n",
    "pca.fit(test)\n",
    "top_pca = pca.transform(top)"
   ]
  },
  {
   "cell_type": "code",
   "execution_count": null,
   "id": "849bd569-38ba-4acc-abf4-3b854aa6df56",
   "metadata": {},
   "outputs": [],
   "source": [
    "# color = ['tab:blue', 'tab:orange', 'tab:green', 'tab:red', 'tab:purple', 'tab:brown', 'tab:pink', 'tab:gray', 'tab:olive', 'tab:cyan', 'black']\n",
    "color = ['black', 'tab:gray', 'tab:brown',  'tab:purple', 'tab:blue', 'tab:cyan','tab:green', 'tab:olive', 'tab:orange', 'tab:red', 'tab:pink']\n",
    "for i in range(len(top_pca)):\n",
    "    plt.scatter(top_pca[i,0], top_pca[i,1], c=color[int(labels[i])])\n",
    "plt.xlabel('comp 1')\n",
    "plt.ylabel('comp 2')\n",
    "plt.xlim(-25, 25)\n",
    "plt.ylim(-10, 10)\n",
    "# plt.savefig('results/distribution/C_comp80.png')\n",
    "plt.show()"
   ]
  },
  {
   "cell_type": "markdown",
   "id": "83fedac9-f621-4319-8ad7-36141c0ca391",
   "metadata": {},
   "source": [
    "## k-means"
   ]
  },
  {
   "cell_type": "code",
   "execution_count": null,
   "id": "6bc090cb-d134-4ce6-8549-a86cd7b1490f",
   "metadata": {},
   "outputs": [],
   "source": [
    "labels = KMeans(n_clusters=2).fit_predict(top)\n",
    "\n",
    "for i in range(len(top_pca)):\n",
    "    plt.scatter(top_pca[i,0], top_pca[i,1], c=color[int(labels[i])])\n",
    "plt.show()"
   ]
  },
  {
   "cell_type": "markdown",
   "id": "9feb221e-0273-4045-9c21-3b2c2ae43a5a",
   "metadata": {},
   "source": [
    "## X-means"
   ]
  },
  {
   "cell_type": "code",
   "execution_count": null,
   "id": "8f844905-8131-44ee-9132-5dcf2caa7844",
   "metadata": {},
   "outputs": [],
   "source": [
    "xmeans_instance = xmeans.xmeans(top).process()\n",
    "\n",
    "clusters = xmeans_instance.get_clusters()\n",
    "centers = xmeans_instance.get_centers()\n",
    "\n",
    "labels_size = len(list(itertools.chain.from_iterable(clusters)))\n",
    "labels = np.zeros((1, labels_size))\n",
    "\n",
    "for n, n_th_cluster in np.ndenumerate(clusters):\n",
    "    for img_num in n_th_cluster:\n",
    "        labels[0][img_num] = n[0]\n",
    "labels = labels.ravel()\n",
    "\n",
    "print(labels.max()+1)\n",
    "\n",
    "for i in range(len(top_pca)):\n",
    "    plt.scatter(top_pca[i,0], top_pca[i,1], c=color[int(labels[i])])\n",
    "plt.show()"
   ]
  },
  {
   "cell_type": "markdown",
   "id": "d9a1d503-1d3e-42b0-882f-2328d721d1df",
   "metadata": {},
   "source": [
    "## G-means"
   ]
  },
  {
   "cell_type": "code",
   "execution_count": null,
   "id": "29f673c9-f194-4c99-ac9d-7bc4c8eec07d",
   "metadata": {},
   "outputs": [],
   "source": [
    "gmeans_instance = gmeans.gmeans(top).process()\n",
    "\n",
    "clusters = gmeans_instance.get_clusters()\n",
    "centers = gmeans_instance.get_centers()\n",
    "\n",
    "labels_size = len(\n",
    "    list(itertools.chain.from_iterable(clusters))\n",
    ")\n",
    "\n",
    "\n",
    "labels = np.zeros((1, labels_size))\n",
    "for n, n_th_cluster in np.ndenumerate(clusters):\n",
    "    for img_num in n_th_cluster:\n",
    "        labels[0][img_num] = n[0]\n",
    "labels = labels.ravel()\n",
    "\n",
    "print(labels.max()+1)\n",
    "\n",
    "for i in range(len(top_pca)):\n",
    "    plt.scatter(top_pca[i,0], top_pca[i,1], c=color[int(labels[i])])\n",
    "plt.show()"
   ]
  },
  {
   "cell_type": "code",
   "execution_count": null,
   "id": "e8a5b680-6518-4813-9c1a-c4da6ac3f697",
   "metadata": {},
   "outputs": [],
   "source": [
    "n_components = 2\n",
    "pca = PCA(n_components, whiten=False)\n",
    "pca.fit(mix)\n",
    "mix_pca = pca.transform(mix)\n",
    "plt.scatter(mix_pca[:,0],mix_pca[:,1])\n",
    "\n",
    "plt.show()"
   ]
  },
  {
   "cell_type": "markdown",
   "id": "eb5cc106-6a2c-43b4-86f9-7fe20feddd75",
   "metadata": {},
   "source": [
    "# Plot hist"
   ]
  },
  {
   "cell_type": "code",
   "execution_count": null,
   "id": "45b64937-f380-4dab-b0a3-468a558254ed",
   "metadata": {},
   "outputs": [],
   "source": [
    "evaluation = np.array(df.iloc[:, 2], dtype='float32')\n",
    "print(evaluation)"
   ]
  },
  {
   "cell_type": "code",
   "execution_count": null,
   "id": "fa5960a9-5e49-4585-8979-f3423b487587",
   "metadata": {},
   "outputs": [],
   "source": [
    "plt.hist(evaluation, range=(0, 6), bins=5, alpha=0.5, ec='navy')\n",
    "plt.grid(axis='y', alpha=0.5)\n",
    "plt.ylim(0, 550)\n",
    "ax = plt.gca()\n",
    "ax.axes.xaxis.set_visible(False)\n",
    "plt.gca().spines['right'].set_visible(False)\n",
    "plt.gca().spines['top'].set_visible(False)\n",
    "\n",
    "plt.savefig('results/figure/hist_C.png')\n",
    "plt.show()"
   ]
  },
  {
   "cell_type": "code",
   "execution_count": null,
   "id": "ac1b2888-eb6f-4523-8c1f-f07cdfb3c645",
   "metadata": {},
   "outputs": [],
   "source": []
  }
 ],
 "metadata": {
  "kernelspec": {
   "display_name": "ganspace",
   "language": "python",
   "name": "ganspace"
  },
  "language_info": {
   "codemirror_mode": {
    "name": "ipython",
    "version": 3
   },
   "file_extension": ".py",
   "mimetype": "text/x-python",
   "name": "python",
   "nbconvert_exporter": "python",
   "pygments_lexer": "ipython3",
   "version": "3.7.10"
  }
 },
 "nbformat": 4,
 "nbformat_minor": 5
}
